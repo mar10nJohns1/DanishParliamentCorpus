{
 "cells": [
  {
   "cell_type": "markdown",
   "metadata": {},
   "source": [
    "# Importing data and packages"
   ]
  },
  {
   "cell_type": "code",
   "execution_count": 1,
   "metadata": {},
   "outputs": [],
   "source": [
    "import pandas as pd"
   ]
  },
  {
   "cell_type": "code",
   "execution_count": 3,
   "metadata": {},
   "outputs": [],
   "source": [
    "#reading the data and resetting index\n",
    "df = pd.read_csv('../data/DPC_speeches.csv')\n",
    "df = df.reset_index().iloc[:,2:]"
   ]
  },
  {
   "cell_type": "code",
   "execution_count": 4,
   "metadata": {},
   "outputs": [],
   "source": [
    "#reading Oli's list of FT members\n",
    "ft_mem = pd.read_csv('../data/fm.csv')"
   ]
  },
  {
   "cell_type": "code",
   "execution_count": 5,
   "metadata": {},
   "outputs": [
    {
     "data": {
      "text/html": [
       "<div>\n",
       "<style scoped>\n",
       "    .dataframe tbody tr th:only-of-type {\n",
       "        vertical-align: middle;\n",
       "    }\n",
       "\n",
       "    .dataframe tbody tr th {\n",
       "        vertical-align: top;\n",
       "    }\n",
       "\n",
       "    .dataframe thead th {\n",
       "        text-align: right;\n",
       "    }\n",
       "</style>\n",
       "<table border=\"1\" class=\"dataframe\">\n",
       "  <thead>\n",
       "    <tr style=\"text-align: right;\">\n",
       "      <th></th>\n",
       "      <th>Tale</th>\n",
       "      <th>Starttid</th>\n",
       "      <th>Sluttid</th>\n",
       "      <th>Navn</th>\n",
       "      <th>Rolle</th>\n",
       "      <th>Tekst</th>\n",
       "    </tr>\n",
       "  </thead>\n",
       "  <tbody>\n",
       "    <tr>\n",
       "      <th>0</th>\n",
       "      <td>None</td>\n",
       "      <td>2011-09-30T13:00:16.860</td>\n",
       "      <td>2011-09-30T13:00:28.140</td>\n",
       "      <td>None</td>\n",
       "      <td>midlertidig formand</td>\n",
       "      <td>Mødet er åbnet.</td>\n",
       "    </tr>\n",
       "    <tr>\n",
       "      <th>1</th>\n",
       "      <td>None</td>\n",
       "      <td>2011-09-30T13:55:01.640</td>\n",
       "      <td>2011-09-30T13:55:12.063</td>\n",
       "      <td>None</td>\n",
       "      <td>midlertidig formand</td>\n",
       "      <td>Så er mødet genoptaget.</td>\n",
       "    </tr>\n",
       "    <tr>\n",
       "      <th>2</th>\n",
       "      <td>None</td>\n",
       "      <td>2011-09-30T13:59:37.437</td>\n",
       "      <td>2011-09-30T13:59:56.640</td>\n",
       "      <td>None</td>\n",
       "      <td>formand</td>\n",
       "      <td>Der er ikke mere at foretage i dette møde.Folk...</td>\n",
       "    </tr>\n",
       "    <tr>\n",
       "      <th>3</th>\n",
       "      <td>None</td>\n",
       "      <td>2011-09-30T13:00:28.140</td>\n",
       "      <td>2011-09-30T13:00:52.110</td>\n",
       "      <td>None</td>\n",
       "      <td>midlertidig formand</td>\n",
       "      <td>Forhandlingen er åbnet. Fru Karen Klint.</td>\n",
       "    </tr>\n",
       "    <tr>\n",
       "      <th>4</th>\n",
       "      <td>None</td>\n",
       "      <td>2011-09-30T13:00:52.110</td>\n",
       "      <td>2011-09-30T13:05:42.060</td>\n",
       "      <td>Karen J. Klint</td>\n",
       "      <td>medlem</td>\n",
       "      <td>Tak for det. Det er jo dejligt at se så fyldt ...</td>\n",
       "    </tr>\n",
       "  </tbody>\n",
       "</table>\n",
       "</div>"
      ],
      "text/plain": [
       "   Tale                 Starttid                  Sluttid            Navn  \\\n",
       "0  None  2011-09-30T13:00:16.860  2011-09-30T13:00:28.140            None   \n",
       "1  None  2011-09-30T13:55:01.640  2011-09-30T13:55:12.063            None   \n",
       "2  None  2011-09-30T13:59:37.437  2011-09-30T13:59:56.640            None   \n",
       "3  None  2011-09-30T13:00:28.140  2011-09-30T13:00:52.110            None   \n",
       "4  None  2011-09-30T13:00:52.110  2011-09-30T13:05:42.060  Karen J. Klint   \n",
       "\n",
       "                 Rolle                                              Tekst  \n",
       "0  midlertidig formand                                    Mødet er åbnet.  \n",
       "1  midlertidig formand                            Så er mødet genoptaget.  \n",
       "2              formand  Der er ikke mere at foretage i dette møde.Folk...  \n",
       "3  midlertidig formand           Forhandlingen er åbnet. Fru Karen Klint.  \n",
       "4               medlem  Tak for det. Det er jo dejligt at se så fyldt ...  "
      ]
     },
     "execution_count": 5,
     "metadata": {},
     "output_type": "execute_result"
    }
   ],
   "source": [
    "#looking at the data\n",
    "df.head()"
   ]
  },
  {
   "cell_type": "code",
   "execution_count": 6,
   "metadata": {},
   "outputs": [
    {
     "data": {
      "text/plain": [
       "array(['None'], dtype=object)"
      ]
     },
     "execution_count": 6,
     "metadata": {},
     "output_type": "execute_result"
    }
   ],
   "source": [
    "#checking whether \"Tale\" is always None\n",
    "df.Tale.unique()"
   ]
  },
  {
   "cell_type": "code",
   "execution_count": 7,
   "metadata": {},
   "outputs": [],
   "source": [
    "#excluding \"Tale\"\n",
    "df = df[['Starttid', 'Sluttid', 'Navn', 'Rolle', 'Tekst']]"
   ]
  },
  {
   "cell_type": "code",
   "execution_count": 8,
   "metadata": {},
   "outputs": [
    {
     "data": {
      "text/html": [
       "<div>\n",
       "<style scoped>\n",
       "    .dataframe tbody tr th:only-of-type {\n",
       "        vertical-align: middle;\n",
       "    }\n",
       "\n",
       "    .dataframe tbody tr th {\n",
       "        vertical-align: top;\n",
       "    }\n",
       "\n",
       "    .dataframe thead th {\n",
       "        text-align: right;\n",
       "    }\n",
       "</style>\n",
       "<table border=\"1\" class=\"dataframe\">\n",
       "  <thead>\n",
       "    <tr style=\"text-align: right;\">\n",
       "      <th></th>\n",
       "      <th>Starttid</th>\n",
       "      <th>Sluttid</th>\n",
       "      <th>Navn</th>\n",
       "      <th>Rolle</th>\n",
       "      <th>Tekst</th>\n",
       "    </tr>\n",
       "  </thead>\n",
       "  <tbody>\n",
       "    <tr>\n",
       "      <th>0</th>\n",
       "      <td>2011-09-30T13:00:16.860</td>\n",
       "      <td>2011-09-30T13:00:28.140</td>\n",
       "      <td>None</td>\n",
       "      <td>midlertidig formand</td>\n",
       "      <td>Mødet er åbnet.</td>\n",
       "    </tr>\n",
       "  </tbody>\n",
       "</table>\n",
       "</div>"
      ],
      "text/plain": [
       "                  Starttid                  Sluttid  Navn  \\\n",
       "0  2011-09-30T13:00:16.860  2011-09-30T13:00:28.140  None   \n",
       "\n",
       "                 Rolle            Tekst  \n",
       "0  midlertidig formand  Mødet er åbnet.  "
      ]
     },
     "execution_count": 8,
     "metadata": {},
     "output_type": "execute_result"
    }
   ],
   "source": [
    "df.head(1)"
   ]
  },
  {
   "cell_type": "code",
   "execution_count": 9,
   "metadata": {},
   "outputs": [
    {
     "data": {
      "text/plain": [
       "str"
      ]
     },
     "execution_count": 9,
     "metadata": {},
     "output_type": "execute_result"
    }
   ],
   "source": [
    "#checking type of the start and end-time\n",
    "type(df.iloc[0,1])"
   ]
  },
  {
   "cell_type": "code",
   "execution_count": 10,
   "metadata": {},
   "outputs": [
    {
     "data": {
      "text/html": [
       "<div>\n",
       "<style scoped>\n",
       "    .dataframe tbody tr th:only-of-type {\n",
       "        vertical-align: middle;\n",
       "    }\n",
       "\n",
       "    .dataframe tbody tr th {\n",
       "        vertical-align: top;\n",
       "    }\n",
       "\n",
       "    .dataframe thead th {\n",
       "        text-align: right;\n",
       "    }\n",
       "</style>\n",
       "<table border=\"1\" class=\"dataframe\">\n",
       "  <thead>\n",
       "    <tr style=\"text-align: right;\">\n",
       "      <th></th>\n",
       "      <th>Starttid</th>\n",
       "      <th>Sluttid</th>\n",
       "      <th>Navn</th>\n",
       "      <th>Rolle</th>\n",
       "      <th>Tekst</th>\n",
       "    </tr>\n",
       "  </thead>\n",
       "  <tbody>\n",
       "    <tr>\n",
       "      <th>count</th>\n",
       "      <td>236966</td>\n",
       "      <td>236966</td>\n",
       "      <td>236966</td>\n",
       "      <td>236966</td>\n",
       "      <td>236966</td>\n",
       "    </tr>\n",
       "    <tr>\n",
       "      <th>unique</th>\n",
       "      <td>236966</td>\n",
       "      <td>236958</td>\n",
       "      <td>318</td>\n",
       "      <td>6</td>\n",
       "      <td>152763</td>\n",
       "    </tr>\n",
       "    <tr>\n",
       "      <th>top</th>\n",
       "      <td>2010-01-20T15:14:52.480</td>\n",
       "      <td>2011-03-30T15:09:29.513</td>\n",
       "      <td>None</td>\n",
       "      <td>formand</td>\n",
       "      <td>Ordføreren.</td>\n",
       "    </tr>\n",
       "    <tr>\n",
       "      <th>freq</th>\n",
       "      <td>1</td>\n",
       "      <td>2</td>\n",
       "      <td>43200</td>\n",
       "      <td>122597</td>\n",
       "      <td>22926</td>\n",
       "    </tr>\n",
       "  </tbody>\n",
       "</table>\n",
       "</div>"
      ],
      "text/plain": [
       "                       Starttid                  Sluttid    Navn    Rolle  \\\n",
       "count                    236966                   236966  236966   236966   \n",
       "unique                   236966                   236958     318        6   \n",
       "top     2010-01-20T15:14:52.480  2011-03-30T15:09:29.513    None  formand   \n",
       "freq                          1                        2   43200   122597   \n",
       "\n",
       "              Tekst  \n",
       "count        236966  \n",
       "unique       152763  \n",
       "top     Ordføreren.  \n",
       "freq          22926  "
      ]
     },
     "execution_count": 10,
     "metadata": {},
     "output_type": "execute_result"
    }
   ],
   "source": [
    "#describing some of the data in the Parliament Corpus\n",
    "df.describe()"
   ]
  },
  {
   "cell_type": "markdown",
   "metadata": {},
   "source": [
    "# Adding parties to the politicians"
   ]
  },
  {
   "cell_type": "code",
   "execution_count": 11,
   "metadata": {},
   "outputs": [
    {
     "data": {
      "text/plain": [
       "318"
      ]
     },
     "execution_count": 11,
     "metadata": {},
     "output_type": "execute_result"
    }
   ],
   "source": [
    "#checking how many unique names in our dataset\n",
    "xml = list(df.Navn.unique())\n",
    "len(xml)"
   ]
  },
  {
   "cell_type": "code",
   "execution_count": 12,
   "metadata": {},
   "outputs": [
    {
     "data": {
      "text/plain": [
       "437"
      ]
     },
     "execution_count": 12,
     "metadata": {},
     "output_type": "execute_result"
    }
   ],
   "source": [
    "#Checking how many names in the ft dataset\n",
    "ft = list(ft_mem.Spørger.unique())\n",
    "ft = [x[0:-1] for x in ft] #removing whitespace in the end of every name\n",
    "len(ft)"
   ]
  },
  {
   "cell_type": "code",
   "execution_count": 13,
   "metadata": {},
   "outputs": [],
   "source": [
    "#making a list of the set values\n",
    "set_ = list(set(xml) & set(ft))"
   ]
  },
  {
   "cell_type": "code",
   "execution_count": 14,
   "metadata": {},
   "outputs": [],
   "source": [
    "#removing whitespace in the end of every name\n",
    "ft_mem['Spørger'] = ft_mem['Spørger'].apply(lambda x: x[0:-1])"
   ]
  },
  {
   "cell_type": "code",
   "execution_count": 15,
   "metadata": {
    "scrolled": true
   },
   "outputs": [
    {
     "data": {
      "text/html": [
       "<div>\n",
       "<style scoped>\n",
       "    .dataframe tbody tr th:only-of-type {\n",
       "        vertical-align: middle;\n",
       "    }\n",
       "\n",
       "    .dataframe tbody tr th {\n",
       "        vertical-align: top;\n",
       "    }\n",
       "\n",
       "    .dataframe thead th {\n",
       "        text-align: right;\n",
       "    }\n",
       "</style>\n",
       "<table border=\"1\" class=\"dataframe\">\n",
       "  <thead>\n",
       "    <tr style=\"text-align: right;\">\n",
       "      <th></th>\n",
       "      <th>Unnamed: 0</th>\n",
       "      <th>Parti</th>\n",
       "      <th>Spørger</th>\n",
       "      <th>Dato</th>\n",
       "    </tr>\n",
       "  </thead>\n",
       "  <tbody>\n",
       "    <tr>\n",
       "      <th>2</th>\n",
       "      <td>2</td>\n",
       "      <td>ALT</td>\n",
       "      <td>Christian Juhl</td>\n",
       "      <td>1</td>\n",
       "    </tr>\n",
       "    <tr>\n",
       "      <th>5</th>\n",
       "      <td>5</td>\n",
       "      <td>ALT</td>\n",
       "      <td>Josephine Fock</td>\n",
       "      <td>26</td>\n",
       "    </tr>\n",
       "    <tr>\n",
       "      <th>10</th>\n",
       "      <td>10</td>\n",
       "      <td>ALT</td>\n",
       "      <td>Rasmus Prehn</td>\n",
       "      <td>1</td>\n",
       "    </tr>\n",
       "    <tr>\n",
       "      <th>15</th>\n",
       "      <td>15</td>\n",
       "      <td>ALT</td>\n",
       "      <td>Uffe Elbæk</td>\n",
       "      <td>47</td>\n",
       "    </tr>\n",
       "    <tr>\n",
       "      <th>17</th>\n",
       "      <td>17</td>\n",
       "      <td>DF</td>\n",
       "      <td>Alex Ahrendtsen</td>\n",
       "      <td>125</td>\n",
       "    </tr>\n",
       "  </tbody>\n",
       "</table>\n",
       "</div>"
      ],
      "text/plain": [
       "    Unnamed: 0 Parti          Spørger  Dato\n",
       "2            2   ALT   Christian Juhl     1\n",
       "5            5   ALT   Josephine Fock    26\n",
       "10          10   ALT     Rasmus Prehn     1\n",
       "15          15   ALT       Uffe Elbæk    47\n",
       "17          17    DF  Alex Ahrendtsen   125"
      ]
     },
     "execution_count": 15,
     "metadata": {},
     "output_type": "execute_result"
    }
   ],
   "source": [
    "#filtering out the names that we are looking for which are matching in the list of FT members\n",
    "match = ft_mem[ft_mem['Spørger'].isin(set_)]\n",
    "match.head()"
   ]
  },
  {
   "cell_type": "code",
   "execution_count": 16,
   "metadata": {},
   "outputs": [
    {
     "data": {
      "text/plain": [
       "(236966, 5)"
      ]
     },
     "execution_count": 16,
     "metadata": {},
     "output_type": "execute_result"
    }
   ],
   "source": [
    "df.shape"
   ]
  },
  {
   "cell_type": "code",
   "execution_count": 17,
   "metadata": {},
   "outputs": [],
   "source": [
    "#merging the two dataframes\n",
    "df_m = df.merge(match, left_on = \"Navn\", right_on = \"Spørger\", how='left')"
   ]
  },
  {
   "cell_type": "code",
   "execution_count": 18,
   "metadata": {},
   "outputs": [],
   "source": [
    "#looking only at specific columns\n",
    "df_m = df_m[['Starttid', 'Sluttid', 'Navn', 'Rolle', 'Tekst', 'Parti']]"
   ]
  },
  {
   "cell_type": "code",
   "execution_count": 19,
   "metadata": {},
   "outputs": [],
   "source": [
    "#only looking at relevant names\n",
    "df_m = df_m[df_m.Navn!='None']"
   ]
  },
  {
   "cell_type": "code",
   "execution_count": 20,
   "metadata": {},
   "outputs": [
    {
     "data": {
      "text/plain": [
       "array(['Henriette Kjær', 'Simon Emil Ammitzbøll', 'Peter Madsen',\n",
       "       'Flemming Møller', 'Niels Høiby', 'Tage Leegaard', 'Helle Sjelle',\n",
       "       'DF', 'Charlotte Sahl-Madsen', 'Per Bisgaard', 'Kurt Scheelsbeck',\n",
       "       'Anna Kirsten Olesen', 'Erika Lorentsen', 'Peter Juel Jensen',\n",
       "       'Jens Arne Hedegaard', 'Irene Simonsen', 'Malou Aamund',\n",
       "       'Nadeem Farooq', 'Ida Damborg', 'Jacob Bjerregaard',\n",
       "       'Jeppe Mikkelsen', 'Thor Möger Pedersen', 'Hans Vestager',\n",
       "       'Bjarne Corydon', ', fg.', 'Ane Halsboe-Larsen', 'Mai Henriksen',\n",
       "       'Marlene B. Lorentzen', 'Camilla Hersom', 'Christian Friis Bach',\n",
       "       'Lone Loklindt', 'Anne Sina', 'Ulla Sandbæk',\n",
       "       'Jørn Neergaard Larsen', 'Mie Bergmann', 'Mette Boye',\n",
       "       'Karen Touborg', 'Linda Kristiansen', 'Kisser Franciska Lehnert',\n",
       "       'Pernille Boye Koch', 'fg.', 'Annika Smith', 'Sanne Bjørn',\n",
       "       'Peder Christensen', 'Rasmus Lynghøj', 'Knud Kristensen',\n",
       "       'Henrik Rasmussen', 'Steen Konradsen', 'Rasmus Jarlov (KF)',\n",
       "       'Irene Simonsen (V)', 'Per Løkken', 'Bente Kronborg Holst',\n",
       "       'Kasper Krüger', 'Connie Hedegaard', 'Søren Gade', 'Thor Pedersen'],\n",
       "      dtype=object)"
      ]
     },
     "execution_count": 20,
     "metadata": {},
     "output_type": "execute_result"
    }
   ],
   "source": [
    "#checking which names does not have a party\n",
    "df_m[df_m.isnull().Parti].Navn.unique()"
   ]
  },
  {
   "cell_type": "code",
   "execution_count": 21,
   "metadata": {},
   "outputs": [
    {
     "data": {
      "text/plain": [
       "['Anders Stjernholm',\n",
       " 'Carolina Magdalene Maier',\n",
       " 'Christian Juhl',\n",
       " 'Christian Poll',\n",
       " 'Erik Christensen',\n",
       " 'Josephine Fock',\n",
       " 'Julius Graakjær Grantzau',\n",
       " 'Mira Issa Bloch',\n",
       " 'Pernille Schnoor',\n",
       " 'Rasmus Nordqvist',\n",
       " 'Rasmus Prehn',\n",
       " 'René Gade',\n",
       " 'Sikandar Siddique',\n",
       " 'Susanne Zimmer',\n",
       " 'Torsten Gejl',\n",
       " 'Uffe Elbæk',\n",
       " 'Aase D. Madsen',\n",
       " 'Alex Ahrendtsen',\n",
       " 'Anita Christensen',\n",
       " 'Anita Knakkergaard',\n",
       " 'Bent Bøgsted',\n",
       " 'Birthe Skaarup',\n",
       " 'Carsten Kudsk',\n",
       " 'Christian Langballe',\n",
       " 'Claus Kvist Hansen',\n",
       " 'Colette L. Brix',\n",
       " 'Dennis Flydtkjær',\n",
       " 'Dorthe Ullemose',\n",
       " 'Hans Kristian Skibby',\n",
       " 'Henrik Brodersen',\n",
       " 'Ib Poulsen',\n",
       " 'Jacob Jensen',\n",
       " 'Jan Erik Messmann',\n",
       " 'Jan Rytkjær Callesen',\n",
       " 'Jens Henrik Thulesen Dahl',\n",
       " 'Jeppe Jakobsen',\n",
       " 'Jesper Langballe',\n",
       " 'Jørn Dohrmann',\n",
       " 'Karin Nødgaard',\n",
       " 'Karina Adsbøl',\n",
       " 'Karina Due',\n",
       " 'Karsten Lauritzen',\n",
       " 'Kenneth Kristensen Berth',\n",
       " 'Kim Christiansen',\n",
       " 'Kristian Thulesen Dahl',\n",
       " 'Liselott Blixt',\n",
       " 'Marie Krarup',\n",
       " 'Marlene Harpsøe',\n",
       " 'Martin Henriksen',\n",
       " 'Merete Dea Larsen',\n",
       " 'Mette Frederiksen',\n",
       " 'Mette Hjermind Dencker',\n",
       " 'Mia Falkenberg',\n",
       " 'Mikkel Dencker',\n",
       " 'Morten Marinus',\n",
       " 'Morten Messerschmidt',\n",
       " 'Per Dalgaard',\n",
       " 'Per Nørhave',\n",
       " 'Pernille Bendixen',\n",
       " 'Peter Kofod',\n",
       " 'Peter Skaarup',\n",
       " 'Pia Adelsteen',\n",
       " 'Pia Kjærsgaard',\n",
       " 'Pia Kristensen',\n",
       " 'Poul Fischer',\n",
       " 'Poul Nødgaard',\n",
       " 'René Christensen',\n",
       " 'Susanne Eilersen',\n",
       " 'Søren Espersen',\n",
       " 'Søren Krarup',\n",
       " 'Tilde Bork',\n",
       " 'Tina Petersen',\n",
       " 'Torsten Schack Pedersen',\n",
       " 'Uno Larsson',\n",
       " 'Walter Christophersen',\n",
       " 'Bruno Jerup',\n",
       " 'Eva Flyvholm',\n",
       " 'Finn Sørensen',\n",
       " 'Frank Aaen',\n",
       " 'Henning Hyllested',\n",
       " 'Jakob Sølvhøj',\n",
       " 'Jens Borking',\n",
       " 'Jesper Kiel',\n",
       " 'Johanne Schmidt-Nielsen',\n",
       " 'Jørgen Arbo-Bæhr',\n",
       " 'Kaare Dybvad',\n",
       " 'Keld Albrechtsen',\n",
       " 'Lars Barfoed',\n",
       " 'Lars Dohn',\n",
       " 'Lea Wermelin',\n",
       " 'Line Barfod',\n",
       " 'Mai Villadsen',\n",
       " 'Majbrit Berlau',\n",
       " 'Maria Reumert Gjerding',\n",
       " 'Nikolaj Villumsen',\n",
       " 'Peder Hvelplund',\n",
       " 'Pelle Dragsted',\n",
       " 'Per Clausen',\n",
       " 'Pernille Skipper',\n",
       " 'Pernille Søndergaard',\n",
       " 'Pia Boisen',\n",
       " 'Rasmus Vestergaard Madsen',\n",
       " 'Rosa Lund',\n",
       " 'Rune Lund',\n",
       " 'Sarah Glerup',\n",
       " 'Signe Færch',\n",
       " 'Stine Brix',\n",
       " 'Søren Egge Rasmussen',\n",
       " 'Søren Søndergaard',\n",
       " 'Victoria Velasquez',\n",
       " 'Øjvind Vilsholm',\n",
       " 'Anfinn Kallsberg',\n",
       " 'Aaja Chemnitz Larsen',\n",
       " 'Johan Lund Olsen',\n",
       " 'Juliane Henningsen',\n",
       " 'Kuupik Kleist',\n",
       " 'Sara Olsvig',\n",
       " 'Sofia Rossen',\n",
       " 'Aksel V. Johannesen',\n",
       " 'Bjarni Hammer',\n",
       " 'Henrik Old',\n",
       " 'Sjúrður Skaale',\n",
       " 'Bodil Kornbek',\n",
       " 'Jann Sjursen',\n",
       " 'Mogens Nørgård',\n",
       " 'Per Ørum Jørgensen',\n",
       " 'Tove Videbæk',\n",
       " 'Anders Johansson',\n",
       " 'Benedikte Kiær',\n",
       " 'Birgitte Bergman',\n",
       " 'Brian Mikkelsen',\n",
       " 'Brigitte Klintskov Jerkel',\n",
       " 'Carina Christensen',\n",
       " 'Charlotte Dyremose',\n",
       " 'Christian Wedell-Neergaard',\n",
       " 'Daniel Rugholm',\n",
       " 'Else Theill Sørensen',\n",
       " 'Helge Adam Møller',\n",
       " 'Jakob Axel Nielsen',\n",
       " 'Jørgen S. Lundsgaard',\n",
       " 'Lene Espersen',\n",
       " 'Mai Mercado',\n",
       " 'Mette Abildgaard',\n",
       " 'Mike Legarth',\n",
       " 'Naser Khader',\n",
       " 'Per Larsen',\n",
       " 'Per Stig Møller',\n",
       " 'Rasmus Jarlov',\n",
       " 'Søren Pape Poulsen',\n",
       " 'Tom Behnke',\n",
       " 'Vivi Kier',\n",
       " 'Anders Samuelsen',\n",
       " 'Christina Egelund',\n",
       " 'Danny K. Malkowski',\n",
       " 'Henrik Dahl',\n",
       " 'Joachim B. Olsen',\n",
       " 'Laura Lindahl',\n",
       " 'Leif Mikkelsen',\n",
       " 'May-Britt Kattrup',\n",
       " 'Merete Riisager',\n",
       " 'Mette Bock',\n",
       " 'Ole Birk Olesen',\n",
       " 'Thyra Frank',\n",
       " 'Villum Christensen',\n",
       " 'Lars Boje Mathiesen',\n",
       " 'Pernille Vermund',\n",
       " 'Peter Seier Christensen',\n",
       " 'Aleqa Hammond',\n",
       " 'Inge-Lene Ebdrup',\n",
       " 'Abbas Razvi',\n",
       " 'Andreas Steenberg',\n",
       " 'Anne Marie Geisler Andersen',\n",
       " 'Bente Dahl',\n",
       " 'Charlotte Fischer',\n",
       " 'Elisabeth Arnold',\n",
       " 'Elisabeth Geday',\n",
       " 'Elsebeth Gerner Nielsen',\n",
       " 'Ida Auken',\n",
       " 'Ida Jørgensen',\n",
       " 'Jens Rohde',\n",
       " 'Johs. Poulsen',\n",
       " 'Jørgen Poulsen',\n",
       " 'Katrine Robsøe',\n",
       " 'Kristian Hegaard',\n",
       " 'Liv Holm Andersen',\n",
       " 'Lone Dybkjær',\n",
       " 'Lotte Rod',\n",
       " 'Manu Sareen',\n",
       " 'Margrethe Vestager',\n",
       " 'Marianne Jelved',\n",
       " 'Marlene Borst Hansen',\n",
       " 'Martin Lidegaard',\n",
       " 'Morten Helveg Petersen',\n",
       " 'Morten Østergaard',\n",
       " 'Niels Helveg Petersen',\n",
       " 'Nils Sjøberg',\n",
       " 'Ole Glahn',\n",
       " 'Poul Erik Christensen',\n",
       " 'Rasmus Helveg Petersen',\n",
       " 'Sofie Carsten Nielsen',\n",
       " 'Zenia Stampe',\n",
       " 'Ane Halsboe-Jørgensen',\n",
       " 'Anne Paulin',\n",
       " 'Anne-Marie Meldgaard',\n",
       " 'Annette Lind',\n",
       " 'Arne Toft',\n",
       " 'Astrid Krag',\n",
       " 'Benny Engelbrecht',\n",
       " 'Bjarne Laustsen',\n",
       " 'Bjørn Medom Nielsen',\n",
       " 'Carsten Bo Jensen',\n",
       " 'Carsten Hansen',\n",
       " 'Christian Rabjerg Madsen',\n",
       " 'Christine Antorini',\n",
       " 'Dan Jørgensen',\n",
       " 'Daniel Toft Jakobsen',\n",
       " 'Dorrit Knudsen',\n",
       " 'Flemming Møller Mortensen',\n",
       " 'Frank Jensen',\n",
       " 'Frode Sørensen',\n",
       " 'Grethe H. Nielsen',\n",
       " 'Helge Mortensen',\n",
       " 'Helle Dam',\n",
       " 'Helle Thorning-Schmidt',\n",
       " 'Henning Gjellerod',\n",
       " 'Henrik Dam Kristensen',\n",
       " 'Henrik Sass Larsen',\n",
       " 'Hüseyin Arac',\n",
       " 'Inger Bierbaum',\n",
       " 'Jacob Buksti',\n",
       " 'Jan Johansen',\n",
       " 'Jan Petersen',\n",
       " 'Jan Trøjborg',\n",
       " 'Jens Christian Lund',\n",
       " 'Jens Joel',\n",
       " 'Jens Peter Vernersen',\n",
       " 'Jeppe Bruus',\n",
       " 'Jeppe Kofod',\n",
       " 'Jesper Petersen',\n",
       " 'Jette Bergenholz Bautrup',\n",
       " 'John Dyrby Paulsen',\n",
       " 'Julie Rademacher',\n",
       " 'Julie Skovsby',\n",
       " 'Jytte Andersen',\n",
       " 'Jytte Wittrock',\n",
       " 'Karen Hækkerup',\n",
       " 'Karen J. Klint',\n",
       " 'Karin Gaardsted',\n",
       " 'Kasper Roug',\n",
       " 'Kim Mortensen',\n",
       " 'Kirsten Brosbøl',\n",
       " 'Klaus Hækkerup',\n",
       " 'Lars Aslan Rasmussen',\n",
       " 'Lars Kramer Mikkelsen',\n",
       " 'Leif Lahn Jensen',\n",
       " 'Lene Hansen',\n",
       " 'Lene Jensen',\n",
       " 'Lennart Damsbo-Andersen',\n",
       " 'Lisbeth Bech Poulsen',\n",
       " 'Lise von Seelen',\n",
       " 'Lissa Mathiasen',\n",
       " 'Lone Møller',\n",
       " 'Lotte Bundsgaard',\n",
       " 'Magnus Heunicke',\n",
       " 'Maja Panduro',\n",
       " 'Malou Lunderød',\n",
       " 'Malte Larsen',\n",
       " 'Margot Torp',\n",
       " 'Mattias Tesfaye',\n",
       " 'Mette Gjerskov',\n",
       " 'Mette Reissmann',\n",
       " 'Mogens Jensen',\n",
       " 'Mogens Lykketoft',\n",
       " 'Morten Bødskov',\n",
       " 'Nick Hækkerup',\n",
       " 'Nicolai Wammen',\n",
       " 'Niels Christian Nielsen',\n",
       " 'Niels Sindal',\n",
       " 'Ole Hækkerup',\n",
       " 'Ole Sohn',\n",
       " 'Ole Stavad',\n",
       " 'Ole Vagn Christensen',\n",
       " 'Orla Hav',\n",
       " 'Peder Sass',\n",
       " 'Per Husted',\n",
       " 'Per Kaalund',\n",
       " 'Pernille Blach Hansen',\n",
       " 'Pernille Rosenkrantz-Theil',\n",
       " 'Peter Hummelgaard Thomsen',\n",
       " 'Pia Gjellerup',\n",
       " 'Poul Andersen',\n",
       " 'Poul Qvist Jørgensen',\n",
       " 'Rasmus Horn Langhoff',\n",
       " 'René Skau Björnsson',\n",
       " 'Ritt Bjerregaard',\n",
       " 'Sandy Brinck',\n",
       " 'Simon Kollerup',\n",
       " 'Sophie Hæstorp Andersen',\n",
       " 'Svend Auken',\n",
       " 'Thomas Adelskov',\n",
       " 'Thomas Horn',\n",
       " 'Thomas Jensen',\n",
       " 'Torben Hansen',\n",
       " 'Trine Bramsen',\n",
       " 'Troels Ravn',\n",
       " 'Vibeke Grave',\n",
       " 'Yildiz Akdogan',\n",
       " 'Aage Frandsen',\n",
       " 'Anne Baastrup',\n",
       " 'Anne Grete Holmsgaard',\n",
       " 'Anne Valentina Berthelsen',\n",
       " 'Annette Vilhelmsen',\n",
       " 'Balder Mørk Andersen',\n",
       " 'Bilal Inekci',\n",
       " 'Carl Valentin',\n",
       " 'Charlotte Broman Mølbæk',\n",
       " 'Eigil Andersen',\n",
       " 'Flemming Bonne',\n",
       " 'Holger K. Nielsen',\n",
       " 'Jacob Mark',\n",
       " 'Jane Alrø Sørensen',\n",
       " 'Jonas Dahl',\n",
       " 'Jørn Jespersen',\n",
       " 'Kamal Qureshi',\n",
       " 'Karina Lorentzen Dehnhardt',\n",
       " 'Karl H. Bornhøft',\n",
       " 'Karsten Hønge',\n",
       " 'Kirsten Normann Andersen',\n",
       " 'Kristen Touborg',\n",
       " 'Lene Garsdal',\n",
       " 'Lotte Thiim Bertelsen',\n",
       " 'Malene Søgaard-Andersen',\n",
       " 'Marie Fugl',\n",
       " 'Meta Fuglsang',\n",
       " 'Morten Homann',\n",
       " 'Nanna Westerby',\n",
       " 'Pernille Frahm',\n",
       " 'Pernille Vigsø Bagge',\n",
       " 'Peter Westermann',\n",
       " 'Pia Olsen Dyhr',\n",
       " 'Poul Henrik Hedeboe',\n",
       " 'Sanne Rubinke',\n",
       " 'Sisse Marie Welling',\n",
       " 'Steen Gade',\n",
       " 'Thomas Krog',\n",
       " 'Tina Boel',\n",
       " 'Trine Mach',\n",
       " 'Trine Torp',\n",
       " 'Villy Søvndal',\n",
       " 'Özlem Sara Cekic',\n",
       " 'Doris Jakobsen',\n",
       " 'Lars-Emil Johansen',\n",
       " 'Edmund Joensen',\n",
       " 'Høgni Hoydal',\n",
       " 'Magni Arge',\n",
       " 'Tórbjørn Jacobsen',\n",
       " 'Christian H. Hansen',\n",
       " 'Gitte Seeberg',\n",
       " 'Louise Frevert',\n",
       " 'Peter Brixtofte',\n",
       " 'Pia Christmas-Møller',\n",
       " 'Simon Emil Ammitzbøll-Bille',\n",
       " 'Anne Honoré Østergaard',\n",
       " 'Anne-Mette Winther Christiansen',\n",
       " 'Anni Matthiesen',\n",
       " 'Bertel Haarder',\n",
       " 'Birgitte Josefsen',\n",
       " 'Birthe Rønn Hornbech',\n",
       " 'Britt Bager',\n",
       " 'Britta Schall Holberg',\n",
       " 'Carsten Kissmeyer',\n",
       " 'Charlotte Antonsen',\n",
       " 'Claus Hjort Frederiksen',\n",
       " 'Ellen Trane Nørby',\n",
       " 'Erling Bonnesen',\n",
       " 'Esben Lunde Larsen',\n",
       " 'Ester Larsen',\n",
       " 'Eva Kjer Hansen',\n",
       " 'Eyvind Vesselbo',\n",
       " 'Fatma Øktem',\n",
       " 'Finn Thranum',\n",
       " 'Flemming Damgaard Larsen',\n",
       " 'Gitte Lillelund Bech',\n",
       " 'Hans Andersen',\n",
       " 'Hans Christian Schmidt',\n",
       " 'Hans Christian Thoning',\n",
       " 'Heidi Bank',\n",
       " 'Helge Sander',\n",
       " 'Henrik Høegh',\n",
       " 'Henrik Vestergaard',\n",
       " 'Inger Støjberg',\n",
       " 'Jakob Ellemann-Jensen',\n",
       " 'Jakob Engel-Schmidt',\n",
       " 'Jan E. Jørgensen',\n",
       " 'Jane Heitmann',\n",
       " 'Jens Christian Larsen',\n",
       " 'Jens Ejner Christensen',\n",
       " 'Jens Hald',\n",
       " 'Jens Kirk',\n",
       " 'Jens Vibjerg',\n",
       " 'Joan Erlandsen',\n",
       " 'Jørgen Winther',\n",
       " 'Karen Ellemann',\n",
       " 'Karen Jespersen',\n",
       " 'Karsten Nonbo',\n",
       " 'Kim Andersen',\n",
       " 'Kim Valentin',\n",
       " 'Kristian Jensen',\n",
       " 'Kristian Pihl Lorentzen',\n",
       " 'Lars Christian Lilleholt',\n",
       " 'Lars Løkke Rasmussen',\n",
       " 'Louise Schack Elholm',\n",
       " 'Lykke Friis',\n",
       " 'Mads Rørvig',\n",
       " 'Marcus Knuth',\n",
       " 'Marie Bjerre',\n",
       " 'Marion Pedersen',\n",
       " 'Marlene Ambo-Rasmussen',\n",
       " 'Martin Geertsen',\n",
       " 'Michael Aastrup Jensen',\n",
       " 'Morten Dahlin',\n",
       " 'Morten Løkkegaard',\n",
       " 'Peter Christensen',\n",
       " 'Peter Juel-Jensen',\n",
       " 'Preben Bang Henriksen',\n",
       " 'Preben Rudiengaard',\n",
       " 'Rikke Hvilshøj',\n",
       " 'Sophie Løhde',\n",
       " 'Stén Knuth',\n",
       " 'Søren Pind',\n",
       " 'Thomas Danielsen',\n",
       " 'Tina Nedergaard',\n",
       " 'Tommy Ahlers',\n",
       " 'Troels Christensen',\n",
       " 'Troels Lund Poulsen',\n",
       " 'Ulla Tørnæs',\n",
       " 'Hanne Agersnap']"
      ]
     },
     "execution_count": 21,
     "metadata": {},
     "output_type": "execute_result"
    }
   ],
   "source": [
    "ft"
   ]
  },
  {
   "cell_type": "code",
   "execution_count": 22,
   "metadata": {},
   "outputs": [
    {
     "data": {
      "text/html": [
       "<div>\n",
       "<style scoped>\n",
       "    .dataframe tbody tr th:only-of-type {\n",
       "        vertical-align: middle;\n",
       "    }\n",
       "\n",
       "    .dataframe tbody tr th {\n",
       "        vertical-align: top;\n",
       "    }\n",
       "\n",
       "    .dataframe thead th {\n",
       "        text-align: right;\n",
       "    }\n",
       "</style>\n",
       "<table border=\"1\" class=\"dataframe\">\n",
       "  <thead>\n",
       "    <tr style=\"text-align: right;\">\n",
       "      <th></th>\n",
       "      <th>Starttid</th>\n",
       "      <th>Sluttid</th>\n",
       "      <th>Navn</th>\n",
       "      <th>Rolle</th>\n",
       "      <th>Tekst</th>\n",
       "      <th>Parti</th>\n",
       "    </tr>\n",
       "  </thead>\n",
       "  <tbody>\n",
       "    <tr>\n",
       "      <th>4</th>\n",
       "      <td>2011-09-30T13:00:52.110</td>\n",
       "      <td>2011-09-30T13:05:42.060</td>\n",
       "      <td>Karen J. Klint</td>\n",
       "      <td>medlem</td>\n",
       "      <td>Tak for det. Det er jo dejligt at se så fyldt ...</td>\n",
       "      <td>S</td>\n",
       "    </tr>\n",
       "    <tr>\n",
       "      <th>5</th>\n",
       "      <td>2011-09-30T13:05:42.060</td>\n",
       "      <td>2011-09-30T13:06:52.970</td>\n",
       "      <td>Karen J. Klint</td>\n",
       "      <td>medlem</td>\n",
       "      <td>Vedrørende valget i Grønland indstiller et eni...</td>\n",
       "      <td>S</td>\n",
       "    </tr>\n",
       "    <tr>\n",
       "      <th>11</th>\n",
       "      <td>2011-03-02T15:32:15.660</td>\n",
       "      <td>2011-03-02T15:32:46.380</td>\n",
       "      <td>Holger K. Nielsen</td>\n",
       "      <td>formand</td>\n",
       "      <td>Der er ikke mere at foretage i dette møde.Folk...</td>\n",
       "      <td>SF</td>\n",
       "    </tr>\n",
       "    <tr>\n",
       "      <th>12</th>\n",
       "      <td>2011-03-02T13:01:23.263</td>\n",
       "      <td>2011-03-02T13:03:10.263</td>\n",
       "      <td>John Dyrby Paulsen</td>\n",
       "      <td>medlem</td>\n",
       "      <td>Tak for det. Jeg står her med en rapport fra F...</td>\n",
       "      <td>S</td>\n",
       "    </tr>\n",
       "    <tr>\n",
       "      <th>14</th>\n",
       "      <td>2011-03-02T13:03:11.407</td>\n",
       "      <td>2011-03-02T13:04:19.743</td>\n",
       "      <td>Gitte Lillelund Bech</td>\n",
       "      <td>minister</td>\n",
       "      <td>Jeg takker for spørgsmålet. Hr. John Dyrby Pau...</td>\n",
       "      <td>V</td>\n",
       "    </tr>\n",
       "  </tbody>\n",
       "</table>\n",
       "</div>"
      ],
      "text/plain": [
       "                   Starttid                  Sluttid                  Navn  \\\n",
       "4   2011-09-30T13:00:52.110  2011-09-30T13:05:42.060        Karen J. Klint   \n",
       "5   2011-09-30T13:05:42.060  2011-09-30T13:06:52.970        Karen J. Klint   \n",
       "11  2011-03-02T15:32:15.660  2011-03-02T15:32:46.380     Holger K. Nielsen   \n",
       "12  2011-03-02T13:01:23.263  2011-03-02T13:03:10.263    John Dyrby Paulsen   \n",
       "14  2011-03-02T13:03:11.407  2011-03-02T13:04:19.743  Gitte Lillelund Bech   \n",
       "\n",
       "       Rolle                                              Tekst Parti  \n",
       "4     medlem  Tak for det. Det er jo dejligt at se så fyldt ...     S  \n",
       "5     medlem  Vedrørende valget i Grønland indstiller et eni...     S  \n",
       "11   formand  Der er ikke mere at foretage i dette møde.Folk...    SF  \n",
       "12    medlem  Tak for det. Jeg står her med en rapport fra F...     S  \n",
       "14  minister  Jeg takker for spørgsmålet. Hr. John Dyrby Pau...     V  "
      ]
     },
     "execution_count": 22,
     "metadata": {},
     "output_type": "execute_result"
    }
   ],
   "source": [
    "#We can always sort these away later on - for now we have some with and some without\n",
    "df_m.head()"
   ]
  },
  {
   "cell_type": "markdown",
   "metadata": {},
   "source": [
    "# Inserting dates"
   ]
  },
  {
   "cell_type": "code",
   "execution_count": 23,
   "metadata": {},
   "outputs": [],
   "source": [
    "#making dates into datetime\n",
    "df_m.Starttid = pd.to_datetime(df_m.Starttid)\n",
    "df_m.Sluttid = pd.to_datetime(df_m.Sluttid)"
   ]
  },
  {
   "cell_type": "code",
   "execution_count": 24,
   "metadata": {},
   "outputs": [],
   "source": [
    "#creating a date columns\n",
    "df_m['Dato'] = df_m.Starttid.dt.date"
   ]
  },
  {
   "cell_type": "code",
   "execution_count": 25,
   "metadata": {},
   "outputs": [],
   "source": [
    "#and keeping start and endtime to a time variable\n",
    "df_m['Starttid'] = df_m['Starttid'].dt.time\n",
    "df_m['Sluttid'] = df_m['Sluttid'].dt.time"
   ]
  },
  {
   "cell_type": "markdown",
   "metadata": {},
   "source": [
    "Ideas for features (apart from the ones we have) \n",
    "- weekday\n",
    "- day of month\n",
    "- month\n",
    "- length of speech\n",
    "- year"
   ]
  },
  {
   "cell_type": "code",
   "execution_count": 26,
   "metadata": {
    "scrolled": false
   },
   "outputs": [
    {
     "data": {
      "text/plain": [
       "'Tak for det. Det er jo dejligt at se så fyldt en sal og publikumsbænkene. Det er også en højtidelig dag.Som formand for Udvalget til Prøvelse af Valgene kan jeg oplyse følgende om udvalgets arbejde, idet jeg samtidig skal henvise til den offentliggjorte betænkning og indstillingerne:Arbejdet har som sædvanlig vedrørt tre spørgsmål.For det første har det vedrørt spørgsmålet om gyldighed af valghandlingen, herunder valgets forberedelse, stemmeafgivelsen, optællingen af selve stemmesedlerne, vurderingen af dem samt valgbøgerne og disses førelse m.m.For det andet har det vedrørt spørgsmålet om godkendelse af ændringer af de af Indenrigs- og Sundhedsministeriets foretagne opgørelser og beregninger. For det tredje har det vedrørt spørgsmålet om godkendelse af de kandidater, der har opnået valg.Om gyldigheden af valghandlingen kan jeg sige, at vi i udvalget har gennemgået Indenrigs- og Sundhedsministeriets redegørelse, der indeholder de bemærkninger, som gennemgangen af valgbogsudskrifterne har givet ministeriet anledning til. Hvert valg har sine udfordringer. Det lige overståede valg havde dog nogle, vi ikke har set før – situationer, der alle er løst kvalificeret af kommunerne og af valgbestyrelserne. Jeg vil så tillade mig at nævne et par af dem her:Ved gennemgangen af ministeriets redegørelse har udvalget særlig bemærket, at det i valgbogen for Guldborgsundkredsen er oplyst, at et afstemningssted måtte flyttes på selve valgdagen på grund af sundhedsskadelige omstændigheder. Det lykkedes at flytte afstemningsstedet på mindre end 2½ time. Endvidere blev der taget forholdsregler, der sikrede, at vælgerne ikke gik forgæves til det oprindelige afstemningssted. I valgbogen for Middelfartkredsen er det oplyst, at 121 brevstemmer gik tabt på grund af brand i Søndersø Rådhus. Det lykkedes dog kommunen at identificere de pågældende brevstemmeafgivere, som fik mulighed for at stemme på ny. I valghåndbogen for Københavns Storkreds, 7. kreds, Brønshøj, er anført en bemærkning om, at man på afstemningsstedet 7. kreds Nord, Tingbjerg, valgdagen igennem oplevede en mindre gruppe af personer, der opfordrede vælgerne til at undlade at stemme. Valgbestyrelsen var løbende i dialog med den pågældende gruppe og politiet. Sidste hændelsesforløb fremgår også af en af de klager, udvalget har behandlet. Når jeg nævner dem, er det for at rose de valgbestyrelser og de kommuner, der har håndteret nogle atypiske situationer, og det synes jeg godt at vi som Folketing kan være stolte af.Vi har i alt i udvalget forholdt os til 33 klager og henvendelser vedrørende valghandlingen, der har foreligget i forbindelse med folketingsvalget 2011. Ingen af de modtagne klager giver anledning til at så tvivl om valgets resultat.Med hensyn til udvalgets indstilling til de modtagne klager skal jeg henvise til betænkningen, hvori alle klager er oplistet og kommenteret. Jeg vil tillade mig kort her kun at gøre opmærksom på to af udvalgets bemærkninger:Flere af klagerne omhandler håndtering af brevafstemningen. Udvalgets bemærkning til Indenrigs- og Sundhedsministeriet går på at overveje, hvorvidt regler, vejledninger m.v. omkring brevafstemning kan forbedres, herunder overveje, om der skal være et fast klokkeslæt for sidste frist for afgivning af brevstemmerne.Et par klager vedrørende agitation m.v. nær et valgsted har vi også forholdt os til, og udvalgets bemærkning til Indenrigs- og Sundhedsministeriet går på at overveje, hvorvidt reglerne for agitation m.m. nær et valgsted eventuelt bør revurderes.Vedrørende spørgsmålet om godkendelse af Indenrigs- og Sundhedsministeriets opgørelse og beregninger har udvalget behandlet godkendelsen af disse, og de samlede opgørelser og beregninger har ikke givet anledning til bemærkninger fra udvalget. Hvad angår spørgsmålet om godkendelse af de valgte har udvalget følgende indstilling:Vedrørende valget i Danmark indstiller udvalget i enighed, at Folketinget godkender det den 15. september 2011 afholdte valg af medlemmer til Folketinget, de af Indenrigs- og Sundhedsministeriet den 28. september 2011 fremsendte beregninger og opgørelser vedrørende dette valg og de på den omdelte særskilte valgkredsfortegnelse opførte 175 kandidater som valgte fra og med den 15. september 2011.'"
      ]
     },
     "execution_count": 26,
     "metadata": {},
     "output_type": "execute_result"
    }
   ],
   "source": [
    "df_m.iloc[0,-3]"
   ]
  },
  {
   "cell_type": "markdown",
   "metadata": {},
   "source": [
    "# Starting text-processing"
   ]
  },
  {
   "cell_type": "markdown",
   "metadata": {},
   "source": [
    "### Removing simple things using gensim"
   ]
  },
  {
   "cell_type": "code",
   "execution_count": 27,
   "metadata": {},
   "outputs": [],
   "source": [
    "import nltk"
   ]
  },
  {
   "cell_type": "code",
   "execution_count": 28,
   "metadata": {},
   "outputs": [],
   "source": [
    "#nltk.download('stopwords')"
   ]
  },
  {
   "cell_type": "code",
   "execution_count": 29,
   "metadata": {},
   "outputs": [],
   "source": [
    "#dk_sw"
   ]
  },
  {
   "cell_type": "code",
   "execution_count": 30,
   "metadata": {},
   "outputs": [
    {
     "name": "stderr",
     "output_type": "stream",
     "text": [
      "unable to import 'smart_open.gcs', disabling that module\n"
     ]
    }
   ],
   "source": [
    "from gensim import utils\n",
    "import gensim.parsing.preprocessing as gsp"
   ]
  },
  {
   "cell_type": "code",
   "execution_count": 31,
   "metadata": {},
   "outputs": [],
   "source": [
    "filters = [\n",
    "           gsp.strip_tags, \n",
    "           gsp.strip_punctuation,\n",
    "           gsp.strip_multiple_whitespaces,\n",
    "           gsp.strip_numeric\n",
    "          ]"
   ]
  },
  {
   "cell_type": "code",
   "execution_count": 32,
   "metadata": {},
   "outputs": [],
   "source": [
    "def clean_text(s):\n",
    "    s = s.lower()\n",
    "    s = utils.to_unicode(s)\n",
    "    for f in filters:\n",
    "        s = f(s)\n",
    "    return s"
   ]
  },
  {
   "cell_type": "code",
   "execution_count": 33,
   "metadata": {},
   "outputs": [],
   "source": [
    "#apply clean-text function to all the text\n",
    "df_m['Tekst'] = df_m['Tekst'].apply(lambda x: clean_text(x))"
   ]
  },
  {
   "cell_type": "markdown",
   "metadata": {},
   "source": [
    "### Tokenizing text"
   ]
  },
  {
   "cell_type": "code",
   "execution_count": 34,
   "metadata": {},
   "outputs": [],
   "source": [
    "#looking at the same line of text as above\n",
    "#df_m.iloc[0,-3] #something definitily changed - good "
   ]
  },
  {
   "cell_type": "code",
   "execution_count": 35,
   "metadata": {},
   "outputs": [],
   "source": [
    "from nltk.tokenize import word_tokenize"
   ]
  },
  {
   "cell_type": "code",
   "execution_count": 36,
   "metadata": {},
   "outputs": [],
   "source": [
    "#tokenizing all text\n",
    "df_m['t_text'] = df_m['Tekst'].apply(lambda x: word_tokenize(x))"
   ]
  },
  {
   "cell_type": "markdown",
   "metadata": {},
   "source": [
    "### Removing stopwords"
   ]
  },
  {
   "cell_type": "code",
   "execution_count": 37,
   "metadata": {},
   "outputs": [],
   "source": [
    "#defining the danish stopwords\n",
    "dk_sw = nltk.corpus.stopwords.words('danish')"
   ]
  },
  {
   "cell_type": "code",
   "execution_count": 38,
   "metadata": {},
   "outputs": [],
   "source": [
    "#adding stopwords\n",
    "more_stopwords = ['ministeren',\n",
    "'værsgo',\n",
    "'så',\n",
    "'tak',\n",
    "'ja',\n",
    "'svare',\n",
    "'ordføreren',\n",
    "'svar',\n",
    "'spørgsmålet',\n",
    "'svarer', 'spørgsmål', 'ordfører','hr','fru']"
   ]
  },
  {
   "cell_type": "code",
   "execution_count": 39,
   "metadata": {},
   "outputs": [],
   "source": [
    "for word in more_stopwords:\n",
    "    dk_sw.append(word)"
   ]
  },
  {
   "cell_type": "code",
   "execution_count": 40,
   "metadata": {},
   "outputs": [],
   "source": [
    "#dk_sw"
   ]
  },
  {
   "cell_type": "code",
   "execution_count": 41,
   "metadata": {},
   "outputs": [],
   "source": [
    "#ttt = df_m.iloc[0,-1]"
   ]
  },
  {
   "cell_type": "code",
   "execution_count": 42,
   "metadata": {},
   "outputs": [],
   "source": [
    "df_m['t_tekst_clean'] = df_m['t_text'].apply(lambda x: [word for word in x if not word in dk_sw])"
   ]
  },
  {
   "cell_type": "markdown",
   "metadata": {},
   "source": [
    "### Removing the 'formand' of folketinget - it is usually not important the things he is saying"
   ]
  },
  {
   "cell_type": "code",
   "execution_count": 43,
   "metadata": {},
   "outputs": [],
   "source": [
    "df_m = df_m[~df_m.Rolle.isin(['formand'])]"
   ]
  },
  {
   "cell_type": "code",
   "execution_count": 44,
   "metadata": {},
   "outputs": [
    {
     "data": {
      "text/html": [
       "<div>\n",
       "<style scoped>\n",
       "    .dataframe tbody tr th:only-of-type {\n",
       "        vertical-align: middle;\n",
       "    }\n",
       "\n",
       "    .dataframe tbody tr th {\n",
       "        vertical-align: top;\n",
       "    }\n",
       "\n",
       "    .dataframe thead th {\n",
       "        text-align: right;\n",
       "    }\n",
       "</style>\n",
       "<table border=\"1\" class=\"dataframe\">\n",
       "  <thead>\n",
       "    <tr style=\"text-align: right;\">\n",
       "      <th></th>\n",
       "      <th>Starttid</th>\n",
       "      <th>Sluttid</th>\n",
       "      <th>Navn</th>\n",
       "      <th>Rolle</th>\n",
       "      <th>Tekst</th>\n",
       "      <th>Parti</th>\n",
       "      <th>Dato</th>\n",
       "      <th>t_text</th>\n",
       "      <th>t_tekst_clean</th>\n",
       "    </tr>\n",
       "  </thead>\n",
       "  <tbody>\n",
       "    <tr>\n",
       "      <th>4</th>\n",
       "      <td>13:00:52.110000</td>\n",
       "      <td>13:05:42.060000</td>\n",
       "      <td>Karen J. Klint</td>\n",
       "      <td>medlem</td>\n",
       "      <td>tak for det det er jo dejligt at se så fyldt e...</td>\n",
       "      <td>S</td>\n",
       "      <td>2011-09-30</td>\n",
       "      <td>[tak, for, det, det, er, jo, dejligt, at, se, ...</td>\n",
       "      <td>[dejligt, se, fyldt, sal, publikumsbænkene, hø...</td>\n",
       "    </tr>\n",
       "    <tr>\n",
       "      <th>5</th>\n",
       "      <td>13:05:42.060000</td>\n",
       "      <td>13:06:52.970000</td>\n",
       "      <td>Karen J. Klint</td>\n",
       "      <td>medlem</td>\n",
       "      <td>vedrørende valget i grønland indstiller et eni...</td>\n",
       "      <td>S</td>\n",
       "      <td>2011-09-30</td>\n",
       "      <td>[vedrørende, valget, i, grønland, indstiller, ...</td>\n",
       "      <td>[vedrørende, valget, grønland, indstiller, eni...</td>\n",
       "    </tr>\n",
       "    <tr>\n",
       "      <th>12</th>\n",
       "      <td>13:01:23.263000</td>\n",
       "      <td>13:03:10.263000</td>\n",
       "      <td>John Dyrby Paulsen</td>\n",
       "      <td>medlem</td>\n",
       "      <td>tak for det jeg står her med en rapport fra fo...</td>\n",
       "      <td>S</td>\n",
       "      <td>2011-03-02</td>\n",
       "      <td>[tak, for, det, jeg, står, her, med, en, rappo...</td>\n",
       "      <td>[står, rapport, forsvarets, færdselssikkerheds...</td>\n",
       "    </tr>\n",
       "    <tr>\n",
       "      <th>14</th>\n",
       "      <td>13:03:11.407000</td>\n",
       "      <td>13:04:19.743000</td>\n",
       "      <td>Gitte Lillelund Bech</td>\n",
       "      <td>minister</td>\n",
       "      <td>jeg takker for spørgsmålet hr john dyrby pauls...</td>\n",
       "      <td>V</td>\n",
       "      <td>2011-03-02</td>\n",
       "      <td>[jeg, takker, for, spørgsmålet, hr, john, dyrb...</td>\n",
       "      <td>[takker, john, dyrby, paulsen, fuldstændig, re...</td>\n",
       "    </tr>\n",
       "    <tr>\n",
       "      <th>16</th>\n",
       "      <td>13:04:20.913000</td>\n",
       "      <td>13:05:18.180000</td>\n",
       "      <td>John Dyrby Paulsen</td>\n",
       "      <td>medlem</td>\n",
       "      <td>tak for svaret det er jeg jo enig med minister...</td>\n",
       "      <td>S</td>\n",
       "      <td>2011-03-02</td>\n",
       "      <td>[tak, for, svaret, det, er, jeg, jo, enig, med...</td>\n",
       "      <td>[svaret, enig, svært, uenig, underligt, rappor...</td>\n",
       "    </tr>\n",
       "  </tbody>\n",
       "</table>\n",
       "</div>"
      ],
      "text/plain": [
       "           Starttid          Sluttid                  Navn     Rolle  \\\n",
       "4   13:00:52.110000  13:05:42.060000        Karen J. Klint    medlem   \n",
       "5   13:05:42.060000  13:06:52.970000        Karen J. Klint    medlem   \n",
       "12  13:01:23.263000  13:03:10.263000    John Dyrby Paulsen    medlem   \n",
       "14  13:03:11.407000  13:04:19.743000  Gitte Lillelund Bech  minister   \n",
       "16  13:04:20.913000  13:05:18.180000    John Dyrby Paulsen    medlem   \n",
       "\n",
       "                                                Tekst Parti        Dato  \\\n",
       "4   tak for det det er jo dejligt at se så fyldt e...     S  2011-09-30   \n",
       "5   vedrørende valget i grønland indstiller et eni...     S  2011-09-30   \n",
       "12  tak for det jeg står her med en rapport fra fo...     S  2011-03-02   \n",
       "14  jeg takker for spørgsmålet hr john dyrby pauls...     V  2011-03-02   \n",
       "16  tak for svaret det er jeg jo enig med minister...     S  2011-03-02   \n",
       "\n",
       "                                               t_text  \\\n",
       "4   [tak, for, det, det, er, jo, dejligt, at, se, ...   \n",
       "5   [vedrørende, valget, i, grønland, indstiller, ...   \n",
       "12  [tak, for, det, jeg, står, her, med, en, rappo...   \n",
       "14  [jeg, takker, for, spørgsmålet, hr, john, dyrb...   \n",
       "16  [tak, for, svaret, det, er, jeg, jo, enig, med...   \n",
       "\n",
       "                                        t_tekst_clean  \n",
       "4   [dejligt, se, fyldt, sal, publikumsbænkene, hø...  \n",
       "5   [vedrørende, valget, grønland, indstiller, eni...  \n",
       "12  [står, rapport, forsvarets, færdselssikkerheds...  \n",
       "14  [takker, john, dyrby, paulsen, fuldstændig, re...  \n",
       "16  [svaret, enig, svært, uenig, underligt, rappor...  "
      ]
     },
     "execution_count": 44,
     "metadata": {},
     "output_type": "execute_result"
    }
   ],
   "source": [
    "df_m.head()"
   ]
  },
  {
   "cell_type": "markdown",
   "metadata": {},
   "source": [
    "### Stemming words"
   ]
  },
  {
   "cell_type": "code",
   "execution_count": 45,
   "metadata": {},
   "outputs": [],
   "source": [
    "from nltk.stem import SnowballStemmer"
   ]
  },
  {
   "cell_type": "code",
   "execution_count": 46,
   "metadata": {},
   "outputs": [],
   "source": [
    "#choosing the stemmer\n",
    "stemmer = SnowballStemmer(\"danish\")"
   ]
  },
  {
   "cell_type": "code",
   "execution_count": 47,
   "metadata": {},
   "outputs": [
    {
     "data": {
      "text/plain": [
       "'købt'"
      ]
     },
     "execution_count": 47,
     "metadata": {},
     "output_type": "execute_result"
    }
   ],
   "source": [
    "#testing \n",
    "stemmer.stem(\"købte\")"
   ]
  },
  {
   "cell_type": "code",
   "execution_count": 48,
   "metadata": {},
   "outputs": [],
   "source": [
    "df_m['stemmed'] = df_m['t_tekst_clean'].apply(lambda x: [stemmer.stem(item) for item in x])\n",
    "\n",
    "#stemmed_spanish = [stemmer.stem(item) for item in spanish_words]"
   ]
  },
  {
   "cell_type": "code",
   "execution_count": 49,
   "metadata": {},
   "outputs": [
    {
     "data": {
      "text/html": [
       "<div>\n",
       "<style scoped>\n",
       "    .dataframe tbody tr th:only-of-type {\n",
       "        vertical-align: middle;\n",
       "    }\n",
       "\n",
       "    .dataframe tbody tr th {\n",
       "        vertical-align: top;\n",
       "    }\n",
       "\n",
       "    .dataframe thead th {\n",
       "        text-align: right;\n",
       "    }\n",
       "</style>\n",
       "<table border=\"1\" class=\"dataframe\">\n",
       "  <thead>\n",
       "    <tr style=\"text-align: right;\">\n",
       "      <th></th>\n",
       "      <th>Starttid</th>\n",
       "      <th>Sluttid</th>\n",
       "      <th>Navn</th>\n",
       "      <th>Rolle</th>\n",
       "      <th>Tekst</th>\n",
       "      <th>Parti</th>\n",
       "      <th>Dato</th>\n",
       "      <th>t_text</th>\n",
       "      <th>t_tekst_clean</th>\n",
       "      <th>stemmed</th>\n",
       "    </tr>\n",
       "  </thead>\n",
       "  <tbody>\n",
       "    <tr>\n",
       "      <th>4</th>\n",
       "      <td>13:00:52.110000</td>\n",
       "      <td>13:05:42.060000</td>\n",
       "      <td>Karen J. Klint</td>\n",
       "      <td>medlem</td>\n",
       "      <td>tak for det det er jo dejligt at se så fyldt e...</td>\n",
       "      <td>S</td>\n",
       "      <td>2011-09-30</td>\n",
       "      <td>[tak, for, det, det, er, jo, dejligt, at, se, ...</td>\n",
       "      <td>[dejligt, se, fyldt, sal, publikumsbænkene, hø...</td>\n",
       "      <td>[dej, se, fyld, sal, publikumsbænk, højtid, da...</td>\n",
       "    </tr>\n",
       "    <tr>\n",
       "      <th>5</th>\n",
       "      <td>13:05:42.060000</td>\n",
       "      <td>13:06:52.970000</td>\n",
       "      <td>Karen J. Klint</td>\n",
       "      <td>medlem</td>\n",
       "      <td>vedrørende valget i grønland indstiller et eni...</td>\n",
       "      <td>S</td>\n",
       "      <td>2011-09-30</td>\n",
       "      <td>[vedrørende, valget, i, grønland, indstiller, ...</td>\n",
       "      <td>[vedrørende, valget, grønland, indstiller, eni...</td>\n",
       "      <td>[vedrør, valg, grønland, indstil, enig, udvalg...</td>\n",
       "    </tr>\n",
       "    <tr>\n",
       "      <th>12</th>\n",
       "      <td>13:01:23.263000</td>\n",
       "      <td>13:03:10.263000</td>\n",
       "      <td>John Dyrby Paulsen</td>\n",
       "      <td>medlem</td>\n",
       "      <td>tak for det jeg står her med en rapport fra fo...</td>\n",
       "      <td>S</td>\n",
       "      <td>2011-03-02</td>\n",
       "      <td>[tak, for, det, jeg, står, her, med, en, rappo...</td>\n",
       "      <td>[står, rapport, forsvarets, færdselssikkerheds...</td>\n",
       "      <td>[står, rapport, forsvar, færdselssikkerhedskom...</td>\n",
       "    </tr>\n",
       "    <tr>\n",
       "      <th>14</th>\n",
       "      <td>13:03:11.407000</td>\n",
       "      <td>13:04:19.743000</td>\n",
       "      <td>Gitte Lillelund Bech</td>\n",
       "      <td>minister</td>\n",
       "      <td>jeg takker for spørgsmålet hr john dyrby pauls...</td>\n",
       "      <td>V</td>\n",
       "      <td>2011-03-02</td>\n",
       "      <td>[jeg, takker, for, spørgsmålet, hr, john, dyrb...</td>\n",
       "      <td>[takker, john, dyrby, paulsen, fuldstændig, re...</td>\n",
       "      <td>[tak, john, dyrby, pauls, fuldstænd, ret, audi...</td>\n",
       "    </tr>\n",
       "    <tr>\n",
       "      <th>16</th>\n",
       "      <td>13:04:20.913000</td>\n",
       "      <td>13:05:18.180000</td>\n",
       "      <td>John Dyrby Paulsen</td>\n",
       "      <td>medlem</td>\n",
       "      <td>tak for svaret det er jeg jo enig med minister...</td>\n",
       "      <td>S</td>\n",
       "      <td>2011-03-02</td>\n",
       "      <td>[tak, for, svaret, det, er, jeg, jo, enig, med...</td>\n",
       "      <td>[svaret, enig, svært, uenig, underligt, rappor...</td>\n",
       "      <td>[svar, enig, svært, uen, under, rapport, færds...</td>\n",
       "    </tr>\n",
       "  </tbody>\n",
       "</table>\n",
       "</div>"
      ],
      "text/plain": [
       "           Starttid          Sluttid                  Navn     Rolle  \\\n",
       "4   13:00:52.110000  13:05:42.060000        Karen J. Klint    medlem   \n",
       "5   13:05:42.060000  13:06:52.970000        Karen J. Klint    medlem   \n",
       "12  13:01:23.263000  13:03:10.263000    John Dyrby Paulsen    medlem   \n",
       "14  13:03:11.407000  13:04:19.743000  Gitte Lillelund Bech  minister   \n",
       "16  13:04:20.913000  13:05:18.180000    John Dyrby Paulsen    medlem   \n",
       "\n",
       "                                                Tekst Parti        Dato  \\\n",
       "4   tak for det det er jo dejligt at se så fyldt e...     S  2011-09-30   \n",
       "5   vedrørende valget i grønland indstiller et eni...     S  2011-09-30   \n",
       "12  tak for det jeg står her med en rapport fra fo...     S  2011-03-02   \n",
       "14  jeg takker for spørgsmålet hr john dyrby pauls...     V  2011-03-02   \n",
       "16  tak for svaret det er jeg jo enig med minister...     S  2011-03-02   \n",
       "\n",
       "                                               t_text  \\\n",
       "4   [tak, for, det, det, er, jo, dejligt, at, se, ...   \n",
       "5   [vedrørende, valget, i, grønland, indstiller, ...   \n",
       "12  [tak, for, det, jeg, står, her, med, en, rappo...   \n",
       "14  [jeg, takker, for, spørgsmålet, hr, john, dyrb...   \n",
       "16  [tak, for, svaret, det, er, jeg, jo, enig, med...   \n",
       "\n",
       "                                        t_tekst_clean  \\\n",
       "4   [dejligt, se, fyldt, sal, publikumsbænkene, hø...   \n",
       "5   [vedrørende, valget, grønland, indstiller, eni...   \n",
       "12  [står, rapport, forsvarets, færdselssikkerheds...   \n",
       "14  [takker, john, dyrby, paulsen, fuldstændig, re...   \n",
       "16  [svaret, enig, svært, uenig, underligt, rappor...   \n",
       "\n",
       "                                              stemmed  \n",
       "4   [dej, se, fyld, sal, publikumsbænk, højtid, da...  \n",
       "5   [vedrør, valg, grønland, indstil, enig, udvalg...  \n",
       "12  [står, rapport, forsvar, færdselssikkerhedskom...  \n",
       "14  [tak, john, dyrby, pauls, fuldstænd, ret, audi...  \n",
       "16  [svar, enig, svært, uen, under, rapport, færds...  "
      ]
     },
     "execution_count": 49,
     "metadata": {},
     "output_type": "execute_result"
    }
   ],
   "source": [
    "df_m.head()"
   ]
  },
  {
   "cell_type": "markdown",
   "metadata": {},
   "source": [
    "#### Removing stemmed stopwords"
   ]
  },
  {
   "cell_type": "code",
   "execution_count": 50,
   "metadata": {},
   "outputs": [],
   "source": [
    "#extra stopwords\n",
    "esw = ['kan', 'kom', 'sig', 'gør','få','–','«','»','men','altså']\n",
    "\n",
    "df_m['stemmed'] = df_m['stemmed'].apply(lambda x: [word for word in x if not word in esw])"
   ]
  },
  {
   "cell_type": "markdown",
   "metadata": {},
   "source": [
    "### Counting most frequent words"
   ]
  },
  {
   "cell_type": "code",
   "execution_count": 51,
   "metadata": {},
   "outputs": [],
   "source": [
    "from collections import Counter"
   ]
  },
  {
   "cell_type": "code",
   "execution_count": 52,
   "metadata": {},
   "outputs": [],
   "source": [
    "count = 'no'"
   ]
  },
  {
   "cell_type": "code",
   "execution_count": 53,
   "metadata": {},
   "outputs": [],
   "source": [
    "if count == 'yes':\n",
    "    #counting words from the tokenized words\n",
    "    aggregate_counter = Counter()\n",
    "    for row_index,row in df_m.iterrows():\n",
    "        if row_index%1000==0:\n",
    "            print(row_index)\n",
    "        c = Counter(row['t_text'])\n",
    "        aggregate_counter += c\n",
    "        \n",
    "    #defining common words\n",
    "    common_words = [word[0] for word in aggregate_counter.most_common(50)]\n",
    "    common_words_counts = [word[1] for word in aggregate_counter.most_common(50)]"
   ]
  },
  {
   "cell_type": "code",
   "execution_count": 54,
   "metadata": {},
   "outputs": [],
   "source": [
    "# Defining function to count it\n",
    "import matplotlib.pyplot as plt\n",
    "import seaborn as sns\n",
    "\n",
    "def barplot(words, words_counts, title):\n",
    "    fig = plt.figure(figsize=(18,6))\n",
    "    bar_plot = sns.barplot(x=words, y=words_counts)\n",
    "    for item in bar_plot.get_xticklabels():\n",
    "        item.set_rotation(90)\n",
    "    plt.title(title)\n",
    "    plt.show()"
   ]
  },
  {
   "cell_type": "code",
   "execution_count": 55,
   "metadata": {},
   "outputs": [],
   "source": [
    "#plotting the most used words in folketinget\n",
    "if count == 'yes':\n",
    "    barplot(words=common_words, words_counts=common_words_counts, title='Most Frequent Words used in Folketinget')"
   ]
  },
  {
   "cell_type": "markdown",
   "metadata": {},
   "source": [
    "# Classifying the text"
   ]
  },
  {
   "cell_type": "code",
   "execution_count": 56,
   "metadata": {},
   "outputs": [],
   "source": [
    "from sklearn.feature_extraction.text import TfidfVectorizer\n",
    "from sklearn.cluster import KMeans\n",
    "import numpy as np\n",
    "import pandas as pd"
   ]
  },
  {
   "cell_type": "code",
   "execution_count": 57,
   "metadata": {},
   "outputs": [],
   "source": [
    "def dummy_fun(doc):\n",
    "    return doc\n",
    "\n",
    "tfidf = TfidfVectorizer(\n",
    "    analyzer='word',\n",
    "    tokenizer=dummy_fun,\n",
    "    preprocessor=dummy_fun,\n",
    "    token_pattern=None) "
   ]
  },
  {
   "cell_type": "code",
   "execution_count": 58,
   "metadata": {},
   "outputs": [],
   "source": [
    "docs = list(df_m.stemmed)"
   ]
  },
  {
   "cell_type": "markdown",
   "metadata": {},
   "source": [
    "Using the TFIDF weighting of the words: \n",
    "> frequency-inverse document frequency weighting: words that occur frequently within a document but not frequently within the corpus receive a higher weighting as these words are assumed to contain more meaning in relation to the document."
   ]
  },
  {
   "cell_type": "code",
   "execution_count": 59,
   "metadata": {},
   "outputs": [
    {
     "data": {
      "text/plain": [
       "TfidfVectorizer(analyzer='word', binary=False, decode_error='strict',\n",
       "                dtype=<class 'numpy.float64'>, encoding='utf-8',\n",
       "                input='content', lowercase=True, max_df=1.0, max_features=None,\n",
       "                min_df=1, ngram_range=(1, 1), norm='l2',\n",
       "                preprocessor=<function dummy_fun at 0x1276a0510>,\n",
       "                smooth_idf=True, stop_words=None, strip_accents=None,\n",
       "                sublinear_tf=False, token_pattern=None,\n",
       "                tokenizer=<function dummy_fun at 0x1276a0510>, use_idf=True,\n",
       "                vocabulary=None)"
      ]
     },
     "execution_count": 59,
     "metadata": {},
     "output_type": "execute_result"
    }
   ],
   "source": [
    "tfidf.fit(docs)"
   ]
  },
  {
   "cell_type": "code",
   "execution_count": 60,
   "metadata": {},
   "outputs": [],
   "source": [
    "#fitting the tdfif vectorizer to our documents\n",
    "vector = tfidf.transform(docs)"
   ]
  },
  {
   "cell_type": "code",
   "execution_count": 61,
   "metadata": {},
   "outputs": [
    {
     "data": {
      "text/plain": [
       "92580"
      ]
     },
     "execution_count": 61,
     "metadata": {},
     "output_type": "execute_result"
    }
   ],
   "source": [
    "#printing the number of different words\n",
    "len(tfidf.get_feature_names())"
   ]
  },
  {
   "cell_type": "code",
   "execution_count": 62,
   "metadata": {},
   "outputs": [
    {
     "data": {
      "text/plain": [
       "(129843, 92580)"
      ]
     },
     "execution_count": 62,
     "metadata": {},
     "output_type": "execute_result"
    }
   ],
   "source": [
    "#checking the shape\n",
    "vector.shape"
   ]
  },
  {
   "cell_type": "markdown",
   "metadata": {},
   "source": [
    "It is as supposed. It has the exact amount of lines as we have speeches and cols as we have words. "
   ]
  },
  {
   "cell_type": "code",
   "execution_count": 63,
   "metadata": {},
   "outputs": [],
   "source": [
    "X = vector"
   ]
  },
  {
   "cell_type": "code",
   "execution_count": 94,
   "metadata": {},
   "outputs": [],
   "source": [
    "from sklearn.externals import joblib"
   ]
  },
  {
   "cell_type": "code",
   "execution_count": 95,
   "metadata": {},
   "outputs": [],
   "source": [
    "def kmeans_clusters(k_, document_tfidf_matrix):\n",
    "    true_k = k_\n",
    "    model = KMeans(n_clusters=true_k, init='k-means++', max_iter=100, n_init=1)\n",
    "    model.fit(document_tfidf_matrix)\n",
    "    \n",
    "    #saving the model:\n",
    "    joblib.dump(model,  '../data/clusters/model_'+str(true_k)+'.pkl')\n",
    "    \n",
    "    #get the top words in centroids:\n",
    "    order_centroids = model.cluster_centers_.argsort()[:, ::-1]\n",
    "    terms = tfidf.get_feature_names()\n",
    "    \n",
    "    #creating list of the clusters\n",
    "    list_ = []\n",
    "    for i in range(true_k):\n",
    "        list_.append(\"Cluster %d\" % i)\n",
    "        \n",
    "    #creating empty df\n",
    "    df_ = pd.DataFrame(columns = list_)\n",
    "    \n",
    "    for i in range(true_k):\n",
    "        #cerating empty list\n",
    "        lst = []\n",
    "        for ind in order_centroids[i, :10]:\n",
    "            #append top 5 words to list\n",
    "            lst.append(terms[ind])\n",
    "        #insert lst into pandas on the correct column\n",
    "        df_[list_[i]] = pd.Series(lst)\n",
    "        \n",
    "    #keeping the top n (I chose n=6) words that are nearest to the cluster centroid in a pd and saving to csv\n",
    "    #printing to csv\n",
    "    df_.to_csv('../data/clusters/clusters_'+str(true_k)+'.csv')"
   ]
  },
  {
   "cell_type": "markdown",
   "metadata": {},
   "source": [
    "#### Running function in iterations"
   ]
  },
  {
   "cell_type": "code",
   "execution_count": 104,
   "metadata": {},
   "outputs": [],
   "source": [
    "n_clusters = list(range(5,31,5))"
   ]
  },
  {
   "cell_type": "code",
   "execution_count": 105,
   "metadata": {},
   "outputs": [
    {
     "data": {
      "text/plain": [
       "[5, 10, 15, 20, 25, 30]"
      ]
     },
     "execution_count": 105,
     "metadata": {},
     "output_type": "execute_result"
    }
   ],
   "source": [
    "n_clusters"
   ]
  },
  {
   "cell_type": "code",
   "execution_count": 106,
   "metadata": {},
   "outputs": [
    {
     "name": "stdout",
     "output_type": "stream",
     "text": [
      "5\n",
      "10\n",
      "15\n",
      "20\n",
      "25\n",
      "30\n"
     ]
    }
   ],
   "source": [
    "for k in n_clusters:\n",
    "    print(k)\n",
    "    kmeans_clusters(k,X)"
   ]
  },
  {
   "cell_type": "code",
   "execution_count": 103,
   "metadata": {},
   "outputs": [],
   "source": [
    "#len(clusters)"
   ]
  },
  {
   "cell_type": "markdown",
   "metadata": {},
   "source": [
    "# Multidimensional scaling to visualize clusters"
   ]
  },
  {
   "cell_type": "code",
   "execution_count": null,
   "metadata": {},
   "outputs": [],
   "source": [
    "#Load models\n",
    "km = joblib.load('../data/clusters/model_30.pkl')\n",
    "clusters = km.labels_.tolist()"
   ]
  },
  {
   "cell_type": "code",
   "execution_count": 110,
   "metadata": {},
   "outputs": [
    {
     "data": {
      "text/plain": [
       "MDS(dissimilarity='euclidean', eps=0.001, max_iter=300, metric=True,\n",
       "    n_components=2, n_init=4, n_jobs=None, random_state=None, verbose=0)"
      ]
     },
     "execution_count": 110,
     "metadata": {},
     "output_type": "execute_result"
    }
   ],
   "source": [
    "import matplotlib.pyplot as plt\n",
    "import matplotlib as mpl\n",
    "\n",
    "from sklearn.manifold import MDS\n",
    "\n",
    "MDS()"
   ]
  },
  {
   "cell_type": "code",
   "execution_count": null,
   "metadata": {},
   "outputs": [],
   "source": [
    "from sklearn.metrics.pairwise import cosine_similarity\n",
    "dist = 1 - cosine_similarity(X)"
   ]
  },
  {
   "cell_type": "code",
   "execution_count": null,
   "metadata": {},
   "outputs": [],
   "source": [
    "# convert two components as we're plotting points in a two-dimensional plane\n",
    "# \"precomputed\" because we provide a distance matrix\n",
    "# we will also specify `random_state` so the plot is reproducible.\n",
    "mds = MDS(n_components=2, dissimilarity=\"precomputed\", random_state=1)\n",
    "\n",
    "pos = mds.fit_transform(dist)  # shape (n_components, n_samples)\n",
    "\n",
    "xs, ys = pos[:, 0], pos[:, 1]\n",
    "print()\n",
    "print()"
   ]
  },
  {
   "cell_type": "markdown",
   "metadata": {},
   "source": [
    "#### Running everything manually"
   ]
  },
  {
   "cell_type": "code",
   "execution_count": null,
   "metadata": {},
   "outputs": [],
   "source": [
    "true_k = 10\n",
    "model = KMeans(n_clusters=true_k, init='k-means++', max_iter=100, n_init=1)\n",
    "model.fit(X)"
   ]
  },
  {
   "cell_type": "code",
   "execution_count": null,
   "metadata": {},
   "outputs": [],
   "source": [
    "order_centroids = model.cluster_centers_.argsort()[:, ::-1]\n",
    "terms = tfidf.get_feature_names()"
   ]
  },
  {
   "cell_type": "code",
   "execution_count": null,
   "metadata": {},
   "outputs": [],
   "source": [
    "list_ = []\n",
    "for i in range(true_k):\n",
    "    list_.append(\"Cluster %d\" % i)"
   ]
  },
  {
   "cell_type": "code",
   "execution_count": null,
   "metadata": {},
   "outputs": [],
   "source": [
    "df = pd.DataFrame(columns = list_)"
   ]
  },
  {
   "cell_type": "code",
   "execution_count": null,
   "metadata": {},
   "outputs": [],
   "source": [
    "for i in range(true_k):\n",
    "    #print(\"Cluster %d:\" % i),\n",
    "    lst = []\n",
    "    for ind in order_centroids[i, :5]:\n",
    "        #print(' %s' % terms[ind])\n",
    "        lst.append(terms[ind])\n",
    "    df[list_[i]] = pd.Series(lst)"
   ]
  },
  {
   "cell_type": "code",
   "execution_count": null,
   "metadata": {
    "scrolled": true
   },
   "outputs": [],
   "source": [
    "#df.to_csv('../data/clusters/test_'+str(true_k)+'.csv')"
   ]
  },
  {
   "cell_type": "code",
   "execution_count": null,
   "metadata": {},
   "outputs": [],
   "source": [
    "#print to check\n",
    "p = 'no'\n",
    "\n",
    "if p=='yes':\n",
    "    for i in range(true_k):\n",
    "        print(\"Cluster %d:\" % i),\n",
    "        for ind in order_centroids[i, :5]:\n",
    "            print(' %s' % terms[ind])"
   ]
  },
  {
   "cell_type": "code",
   "execution_count": null,
   "metadata": {},
   "outputs": [],
   "source": []
  }
 ],
 "metadata": {
  "kernelspec": {
   "display_name": "Python 3",
   "language": "python",
   "name": "python3"
  },
  "language_info": {
   "codemirror_mode": {
    "name": "ipython",
    "version": 3
   },
   "file_extension": ".py",
   "mimetype": "text/x-python",
   "name": "python",
   "nbconvert_exporter": "python",
   "pygments_lexer": "ipython3",
   "version": "3.7.3"
  }
 },
 "nbformat": 4,
 "nbformat_minor": 2
}
