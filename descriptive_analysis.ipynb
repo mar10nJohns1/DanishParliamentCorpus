{
 "cells": [
  {
   "cell_type": "code",
   "execution_count": 1,
   "metadata": {},
   "outputs": [],
   "source": [
    "import pandas as pd  \n",
    "import numpy as np\n",
    "import matplotlib.pyplot as plt\n",
    "import re"
   ]
  },
  {
   "cell_type": "code",
   "execution_count": 2,
   "metadata": {},
   "outputs": [],
   "source": [
    "df = pd.read_csv('C:/Users/Olena/Desktop/sem2/comp data//Case2/DPC_speeches_processed.csv', delimiter=\",\")\n"
   ]
  },
  {
   "cell_type": "code",
   "execution_count": 51,
   "metadata": {},
   "outputs": [],
   "source": [
    "#Extract the data relevant to particular party: \n",
    "\n",
    "dfS = df[df.Parti == 'S']\n",
    "dfV = df[df.Parti == 'V']\n"
   ]
  },
  {
   "cell_type": "code",
   "execution_count": 52,
   "metadata": {},
   "outputs": [
    {
     "data": {
      "text/plain": [
       "Unnamed: 0            7089\n",
       "Starttid              7089\n",
       "Sluttid               7089\n",
       "Navn                  7089\n",
       "Rolle                 7089\n",
       "Tekst                 7089\n",
       "Parti                 7089\n",
       "Dato                  7089\n",
       "Tekst_clean           7089\n",
       "T_Tekst               7089\n",
       "T_Tekst_stopw         7089\n",
       "T_Tekst_stopw_stem    7089\n",
       "dtype: int64"
      ]
     },
     "execution_count": 52,
     "metadata": {},
     "output_type": "execute_result"
    }
   ],
   "source": [
    "#Count speeches per particular party \n",
    "\n",
    "subset_df = df[df[\"Parti\"] == 'KF']\n",
    "column_count = subset_df.count()\n",
    "column_count"
   ]
  },
  {
   "cell_type": "code",
   "execution_count": 53,
   "metadata": {},
   "outputs": [],
   "source": [
    "#Tokenize words from data set chosen above  \n",
    "\n",
    "Tekst_tot_S = dfS[\"Tekst\"].str.cat(sep=\" \") \n",
    "Tekst_tot_S = Tekst_tot_S.split(\".\")[1:-1] \n",
    "\n",
    "\n",
    "Tekst_tot_V = dfV[\"Tekst\"].str.cat(sep=\" \") \n",
    "Tekst_tot_V = Tekst_tot_V.split(\".\")[1:-1] \n"
   ]
  },
  {
   "cell_type": "code",
   "execution_count": 54,
   "metadata": {},
   "outputs": [],
   "source": [
    "# To count freqency, all words needs to be witten into one list \n",
    "\n",
    "def listToString(s):  \n",
    "    \n",
    "    # initialize an empty string \n",
    "    str1 = \" \" \n",
    "    \n",
    "    # return string   \n",
    "    return (str1.join(s))      \n",
    "s =  Tekst_tot_V\n",
    "Tekst_tot_V= (listToString(s))  \n"
   ]
  },
  {
   "cell_type": "code",
   "execution_count": 55,
   "metadata": {},
   "outputs": [],
   "source": [
    "shortword = re.compile(r'\\W*\\b\\w{1,5}\\b')\n",
    "Tekst_tot_V = (shortword.sub('', Tekst_tot_V))\n"
   ]
  },
  {
   "cell_type": "code",
   "execution_count": 56,
   "metadata": {},
   "outputs": [],
   "source": [
    "from collections import Counter \n",
    "# split() returns list of all the words in the string \n",
    "split_it_V = Tekst_tot_V.split() \n",
    "  \n",
    "# Pass the split_it list to instance of Counter class. \n",
    "Counter_V = Counter(split_it_V) \n",
    "  \n",
    "# most_common() produces k frequently encountered \n",
    "# input values and their respective counts. \n",
    "most_occur_V= Counter_V.most_common(40) \n",
    "# Calling DataFrame constructor on list \n",
    "df_V = pd.DataFrame(most_occur_V) \n"
   ]
  },
  {
   "cell_type": "code",
   "execution_count": 57,
   "metadata": {},
   "outputs": [
    {
     "name": "stdout",
     "output_type": "stream",
     "text": [
      "135\n"
     ]
    }
   ],
   "source": [
    "#To count occurence of particular word: \n",
    "\n",
    "def countOccurences(str, word): \n",
    "      \n",
    "    # split the string by spaces in a \n",
    "    a = str.split(\" \") \n",
    "  \n",
    "    # search for pattern in a \n",
    "    count = 0\n",
    "    for i in range(0, len(a)): \n",
    "          \n",
    "        # if match found increase count  \n",
    "        if (word == a[i]): \n",
    "           count = count + 1\n",
    "             \n",
    "    return count        \n",
    " \n",
    "str = Tekst_tot_V\n",
    "word =\"teknologi\"\n",
    "print(countOccurences(str, word)) "
   ]
  },
  {
   "cell_type": "code",
   "execution_count": 29,
   "metadata": {},
   "outputs": [
    {
     "data": {
      "text/plain": [
       "4700051"
      ]
     },
     "execution_count": 29,
     "metadata": {},
     "output_type": "execute_result"
    }
   ],
   "source": [
    "#To count number of all words: \n",
    "\n",
    "res = len(Tekst_tot_V) \n",
    "res"
   ]
  },
  {
   "cell_type": "code",
   "execution_count": null,
   "metadata": {},
   "outputs": [],
   "source": []
  },
  {
   "cell_type": "code",
   "execution_count": null,
   "metadata": {},
   "outputs": [],
   "source": []
  }
 ],
 "metadata": {
  "kernelspec": {
   "display_name": "Python 3",
   "language": "python",
   "name": "python3"
  },
  "language_info": {
   "codemirror_mode": {
    "name": "ipython",
    "version": 3
   },
   "file_extension": ".py",
   "mimetype": "text/x-python",
   "name": "python",
   "nbconvert_exporter": "python",
   "pygments_lexer": "ipython3",
   "version": "3.7.6"
  }
 },
 "nbformat": 4,
 "nbformat_minor": 4
}
