{
  "nbformat": 4,
  "nbformat_minor": 0,
  "metadata": {
    "kernelspec": {
      "display_name": "Python 3",
      "language": "python",
      "name": "python3"
    },
    "language_info": {
      "codemirror_mode": {
        "name": "ipython",
        "version": 3
      },
      "file_extension": ".py",
      "mimetype": "text/x-python",
      "name": "python",
      "nbconvert_exporter": "python",
      "pygments_lexer": "ipython3",
      "version": "3.7.3"
    },
    "colab": {
      "name": "outlier_detection_w_autoencoder.ipynb",
      "provenance": [],
      "collapsed_sections": [
        "9SbRQliF5Fi3",
        "GmqAPNAF5FjO",
        "NtvhnKAK5FjV",
        "nnNEdX0O5Fjd",
        "7Ul1JZDZ5Fje",
        "kOXje4Rd5Fjk",
        "hcHeRLHD5Fjm",
        "bacOZpU-5Fjx",
        "kaTUdvga5Fj-",
        "zu8np5AS5FkD",
        "70-Qu2jdbLlF",
        "6uRLpxoFGG9A",
        "6JpAvVKN5K5u",
        "fYrk5RKY8_uB"
      ],
      "machine_shape": "hm"
    },
    "accelerator": "TPU"
  },
  "cells": [
    {
      "cell_type": "markdown",
      "metadata": {
        "id": "xtVQQNvq5Fiq",
        "colab_type": "text"
      },
      "source": [
        "# Outlier detection with Autoecoders"
      ]
    },
    {
      "cell_type": "markdown",
      "metadata": {
        "id": "k3tW1af95Fir",
        "colab_type": "text"
      },
      "source": [
        "Purpose: We would like to detect outlier talks in the Danish Parliament, to see whether we can detect unusual events. \n",
        "\n",
        "In general, there are different ways to calculate differences between documents. In our case, we are calculating the difference between the actual document, and the generated (trough a decoder) document vector. \n",
        "\n",
        "1. Using vector space model and computing cosine similarity. (Doesn't use embeddings) - **This is the one we are currently using**. \n",
        "2. Using tf-idf with cosine similarity. (Doesn't use embeddings)\n",
        "3. Averaging word embeddings over the sentence to get document vector and calculating cosine similarity. (Uses word embeddings) - **could maybe be better**. \n",
        "\n",
        "A bit about cosine similarity: The cosine similarity measures  and captures the angle of the word vectors and not the magnitude, the total similarity of 1 is at a 0-degree angle while no similarity is expressed as a 90-degree angle. (source: https://www.researchgate.net/post/What_is_the_best_way_to_measure_text_similarities_based_on_word2vec_word_embeddings) "
      ]
    },
    {
      "cell_type": "markdown",
      "metadata": {
        "id": "iADhg9Tw5Fis",
        "colab_type": "text"
      },
      "source": [
        "##### Table of content:\n",
        "1. [Read packages and data](#part1)\n",
        "2. [Preprocessing](#part2)\n",
        "3. [Text processing](#part3)\n",
        "4. [Counting the most frequent words](#part4)\n",
        "5. [title](#part5)\n"
      ]
    },
    {
      "cell_type": "markdown",
      "metadata": {
        "id": "pCxL56uN5Fis",
        "colab_type": "text"
      },
      "source": [
        "## <font color='blue'>Part 1</font>: Read packages and data\n",
        "<a id=part1></a>"
      ]
    },
    {
      "cell_type": "markdown",
      "metadata": {
        "id": "M3yebQP45Fit",
        "colab_type": "text"
      },
      "source": [
        "#### packages"
      ]
    },
    {
      "cell_type": "markdown",
      "metadata": {
        "id": "5aVXiyFr5Fiy",
        "colab_type": "text"
      },
      "source": [
        "#### data"
      ]
    },
    {
      "cell_type": "code",
      "metadata": {
        "id": "F0TATshV5Fit",
        "colab_type": "code",
        "outputId": "fb323acb-788b-4064-d99a-14def7045a1f",
        "colab": {
          "base_uri": "https://localhost:8080/",
          "height": 105
        }
      },
      "source": [
        "import pandas as pd\n",
        "from nltk.stem import SnowballStemmer\n",
        "from collections import Counter\n",
        "import matplotlib.pyplot as plt\n",
        "import seaborn as sns\n",
        "from sklearn.feature_extraction.text import TfidfVectorizer\n",
        "from sklearn.cluster import KMeans\n",
        "import numpy as np\n",
        "import pandas as pd\n",
        "import nltk\n",
        "from gensim import utils\n",
        "import gensim.parsing.preprocessing as gsp\n",
        "from nltk.tokenize import word_tokenize\n",
        "import pickle\n",
        "from sklearn.neural_network import MLPRegressor\n",
        "from sklearn.externals import joblib\n",
        "from scipy.spatial.distance import cosine\n",
        "import seaborn as sns\n",
        "import matplotlib.pyplot as plt\n",
        "from scipy import stats\n",
        "from sklearn.preprocessing import StandardScaler\n",
        "from sklearn.decomposition import PCA"
      ],
      "execution_count": 1,
      "outputs": [
        {
          "output_type": "stream",
          "text": [
            "/usr/local/lib/python3.6/dist-packages/statsmodels/tools/_testing.py:19: FutureWarning: pandas.util.testing is deprecated. Use the functions in the public API at pandas.testing instead.\n",
            "  import pandas.util.testing as tm\n",
            "/usr/local/lib/python3.6/dist-packages/sklearn/externals/joblib/__init__.py:15: FutureWarning: sklearn.externals.joblib is deprecated in 0.21 and will be removed in 0.23. Please import this functionality directly from joblib, which can be installed with: pip install joblib. If this warning is raised when loading pickled models, you may need to re-serialize those models with scikit-learn 0.21+.\n",
            "  warnings.warn(msg, category=FutureWarning)\n"
          ],
          "name": "stderr"
        }
      ]
    },
    {
      "cell_type": "markdown",
      "metadata": {
        "id": "EmjiY53p5V9_",
        "colab_type": "text"
      },
      "source": [
        "### Mount drive"
      ]
    },
    {
      "cell_type": "code",
      "metadata": {
        "id": "6rjYAMY05Svy",
        "colab_type": "code",
        "colab": {}
      },
      "source": [
        "#mount\n",
        "def mount():\n",
        "  from google.colab import drive\n",
        "  drive.mount('/content/gdrive')"
      ],
      "execution_count": 0,
      "outputs": []
    },
    {
      "cell_type": "code",
      "metadata": {
        "id": "HKfPkxzAIqcE",
        "colab_type": "code",
        "outputId": "8324dc88-e041-4561-bd1e-fe66c0b9faf6",
        "colab": {
          "base_uri": "https://localhost:8080/",
          "height": 122
        }
      },
      "source": [
        "mount()"
      ],
      "execution_count": 3,
      "outputs": [
        {
          "output_type": "stream",
          "text": [
            "Go to this URL in a browser: https://accounts.google.com/o/oauth2/auth?client_id=947318989803-6bn6qk8qdgf4n4g3pfee6491hc0brc4i.apps.googleusercontent.com&redirect_uri=urn%3aietf%3awg%3aoauth%3a2.0%3aoob&response_type=code&scope=email%20https%3a%2f%2fwww.googleapis.com%2fauth%2fdocs.test%20https%3a%2f%2fwww.googleapis.com%2fauth%2fdrive%20https%3a%2f%2fwww.googleapis.com%2fauth%2fdrive.photos.readonly%20https%3a%2f%2fwww.googleapis.com%2fauth%2fpeopleapi.readonly\n",
            "\n",
            "Enter your authorization code:\n",
            "··········\n",
            "Mounted at /content/gdrive\n"
          ],
          "name": "stdout"
        }
      ]
    },
    {
      "cell_type": "code",
      "metadata": {
        "id": "ZWtsybvg5vt-",
        "colab_type": "code",
        "outputId": "95bf4566-bd00-4791-9827-f5041f5d4cc9",
        "colab": {
          "base_uri": "https://localhost:8080/",
          "height": 34
        }
      },
      "source": [
        "from google.colab import drive\n",
        "drive.mount('/content/drive')"
      ],
      "execution_count": 0,
      "outputs": [
        {
          "output_type": "stream",
          "text": [
            "Mounted at /content/drive\n"
          ],
          "name": "stdout"
        }
      ]
    },
    {
      "cell_type": "code",
      "metadata": {
        "id": "ZXM7JtSH5Fiy",
        "colab_type": "code",
        "colab": {}
      },
      "source": [
        "#reading the data and resetting index\n",
        "df = pd.read_csv('/content/drive/My Drive/Uni/MMC/4. semester/CDA/data/DPC_speeches.csv')\n",
        "df = df.reset_index().iloc[:,2:]"
      ],
      "execution_count": 0,
      "outputs": []
    },
    {
      "cell_type": "code",
      "metadata": {
        "id": "I3AYXfUq5-jU",
        "colab_type": "code",
        "outputId": "6881dd78-8cbc-4891-8bbe-7c01875d3ec1",
        "colab": {
          "base_uri": "https://localhost:8080/",
          "height": 204
        }
      },
      "source": [
        "df.head()"
      ],
      "execution_count": 0,
      "outputs": [
        {
          "output_type": "execute_result",
          "data": {
            "text/html": [
              "<div>\n",
              "<style scoped>\n",
              "    .dataframe tbody tr th:only-of-type {\n",
              "        vertical-align: middle;\n",
              "    }\n",
              "\n",
              "    .dataframe tbody tr th {\n",
              "        vertical-align: top;\n",
              "    }\n",
              "\n",
              "    .dataframe thead th {\n",
              "        text-align: right;\n",
              "    }\n",
              "</style>\n",
              "<table border=\"1\" class=\"dataframe\">\n",
              "  <thead>\n",
              "    <tr style=\"text-align: right;\">\n",
              "      <th></th>\n",
              "      <th>Tale</th>\n",
              "      <th>Starttid</th>\n",
              "      <th>Sluttid</th>\n",
              "      <th>Navn</th>\n",
              "      <th>Rolle</th>\n",
              "      <th>Tekst</th>\n",
              "    </tr>\n",
              "  </thead>\n",
              "  <tbody>\n",
              "    <tr>\n",
              "      <th>0</th>\n",
              "      <td>None</td>\n",
              "      <td>2011-09-30T13:00:16.860</td>\n",
              "      <td>2011-09-30T13:00:28.140</td>\n",
              "      <td>None</td>\n",
              "      <td>midlertidig formand</td>\n",
              "      <td>Mødet er åbnet.</td>\n",
              "    </tr>\n",
              "    <tr>\n",
              "      <th>1</th>\n",
              "      <td>None</td>\n",
              "      <td>2011-09-30T13:55:01.640</td>\n",
              "      <td>2011-09-30T13:55:12.063</td>\n",
              "      <td>None</td>\n",
              "      <td>midlertidig formand</td>\n",
              "      <td>Så er mødet genoptaget.</td>\n",
              "    </tr>\n",
              "    <tr>\n",
              "      <th>2</th>\n",
              "      <td>None</td>\n",
              "      <td>2011-09-30T13:59:37.437</td>\n",
              "      <td>2011-09-30T13:59:56.640</td>\n",
              "      <td>None</td>\n",
              "      <td>formand</td>\n",
              "      <td>Der er ikke mere at foretage i dette møde.Folk...</td>\n",
              "    </tr>\n",
              "    <tr>\n",
              "      <th>3</th>\n",
              "      <td>None</td>\n",
              "      <td>2011-09-30T13:00:28.140</td>\n",
              "      <td>2011-09-30T13:00:52.110</td>\n",
              "      <td>None</td>\n",
              "      <td>midlertidig formand</td>\n",
              "      <td>Forhandlingen er åbnet. Fru Karen Klint.</td>\n",
              "    </tr>\n",
              "    <tr>\n",
              "      <th>4</th>\n",
              "      <td>None</td>\n",
              "      <td>2011-09-30T13:00:52.110</td>\n",
              "      <td>2011-09-30T13:05:42.060</td>\n",
              "      <td>Karen J. Klint</td>\n",
              "      <td>medlem</td>\n",
              "      <td>Tak for det. Det er jo dejligt at se så fyldt ...</td>\n",
              "    </tr>\n",
              "  </tbody>\n",
              "</table>\n",
              "</div>"
            ],
            "text/plain": [
              "   Tale  ...                                              Tekst\n",
              "0  None  ...                                    Mødet er åbnet.\n",
              "1  None  ...                            Så er mødet genoptaget.\n",
              "2  None  ...  Der er ikke mere at foretage i dette møde.Folk...\n",
              "3  None  ...           Forhandlingen er åbnet. Fru Karen Klint.\n",
              "4  None  ...  Tak for det. Det er jo dejligt at se så fyldt ...\n",
              "\n",
              "[5 rows x 6 columns]"
            ]
          },
          "metadata": {
            "tags": []
          },
          "execution_count": 5
        }
      ]
    },
    {
      "cell_type": "code",
      "metadata": {
        "id": "bjyQuA_C5Fi1",
        "colab_type": "code",
        "colab": {}
      },
      "source": [
        "#reading list of FT members\n",
        "ft_mem = pd.read_csv('/content/drive/My Drive/Uni/MMC/4. semester/CDA/data/fm.csv')"
      ],
      "execution_count": 0,
      "outputs": []
    },
    {
      "cell_type": "markdown",
      "metadata": {
        "id": "9SbRQliF5Fi3",
        "colab_type": "text"
      },
      "source": [
        "## <font color='blue'>Part 2</font>: Preprocessing\n",
        "<a id=part2></a>"
      ]
    },
    {
      "cell_type": "markdown",
      "metadata": {
        "id": "RwmjNfST5Fi4",
        "colab_type": "text"
      },
      "source": [
        "### Adding parties to the politicians"
      ]
    },
    {
      "cell_type": "code",
      "metadata": {
        "id": "suOuTWGe5Fi4",
        "colab_type": "code",
        "outputId": "02627822-273e-44ea-81b6-626dfd579bf7",
        "colab": {
          "base_uri": "https://localhost:8080/",
          "height": 34
        }
      },
      "source": [
        "#checking how many unique names in our dataset\n",
        "xml = list(df.Navn.unique())\n",
        "len(xml)"
      ],
      "execution_count": 0,
      "outputs": [
        {
          "output_type": "execute_result",
          "data": {
            "text/plain": [
              "318"
            ]
          },
          "metadata": {
            "tags": []
          },
          "execution_count": 7
        }
      ]
    },
    {
      "cell_type": "code",
      "metadata": {
        "id": "L4ykuLuA5Fi7",
        "colab_type": "code",
        "outputId": "30f91a95-d1d2-448d-aac4-b9a0582c9b3a",
        "colab": {
          "base_uri": "https://localhost:8080/",
          "height": 34
        }
      },
      "source": [
        "#Checking how many names in the ft dataset\n",
        "ft = list(ft_mem.Spørger.unique())\n",
        "ft = [x[0:-1] for x in ft] #removing whitespace in the end of every name\n",
        "len(ft)"
      ],
      "execution_count": 0,
      "outputs": [
        {
          "output_type": "execute_result",
          "data": {
            "text/plain": [
              "437"
            ]
          },
          "metadata": {
            "tags": []
          },
          "execution_count": 8
        }
      ]
    },
    {
      "cell_type": "code",
      "metadata": {
        "id": "RKBEW55x5Fi-",
        "colab_type": "code",
        "colab": {}
      },
      "source": [
        "#making a list of the set values\n",
        "set_ = list(set(xml) & set(ft))"
      ],
      "execution_count": 0,
      "outputs": []
    },
    {
      "cell_type": "code",
      "metadata": {
        "id": "HrVhT2k35FjA",
        "colab_type": "code",
        "colab": {}
      },
      "source": [
        "#removing whitespace in the end of every name\n",
        "ft_mem['Spørger'] = ft_mem['Spørger'].apply(lambda x: x[0:-1])"
      ],
      "execution_count": 0,
      "outputs": []
    },
    {
      "cell_type": "code",
      "metadata": {
        "scrolled": true,
        "id": "HTHiYbpi5FjD",
        "colab_type": "code",
        "colab": {}
      },
      "source": [
        "#filtering out the names that we are looking for which are matching in the list of FT members\n",
        "match = ft_mem[ft_mem['Spørger'].isin(set_)]"
      ],
      "execution_count": 0,
      "outputs": []
    },
    {
      "cell_type": "code",
      "metadata": {
        "id": "PCSM_s1jDb1R",
        "colab_type": "code",
        "outputId": "d189e0ba-9ff5-40fc-c156-e62aa32cbf60",
        "colab": {
          "base_uri": "https://localhost:8080/",
          "height": 51
        }
      },
      "source": [
        "#checking if the names are unique\n",
        "print(len(match))\n",
        "match.Spørger.nunique()"
      ],
      "execution_count": 0,
      "outputs": [
        {
          "output_type": "stream",
          "text": [
            "279\n"
          ],
          "name": "stdout"
        },
        {
          "output_type": "execute_result",
          "data": {
            "text/plain": [
              "261"
            ]
          },
          "metadata": {
            "tags": []
          },
          "execution_count": 12
        }
      ]
    },
    {
      "cell_type": "code",
      "metadata": {
        "id": "EnGHOYdKDzfA",
        "colab_type": "code",
        "colab": {}
      },
      "source": [
        "#the names are not unique, to we keep the last duplicate name (assume that that is the latest party)\n",
        "match = match.drop_duplicates(subset='Spørger', keep=\"last\")"
      ],
      "execution_count": 0,
      "outputs": []
    },
    {
      "cell_type": "code",
      "metadata": {
        "id": "Py55NMdf5FjF",
        "colab_type": "code",
        "outputId": "3bb064e6-a1f2-4814-8781-c6ae9292863c",
        "colab": {
          "base_uri": "https://localhost:8080/",
          "height": 34
        }
      },
      "source": [
        "df.shape"
      ],
      "execution_count": 0,
      "outputs": [
        {
          "output_type": "execute_result",
          "data": {
            "text/plain": [
              "(236966, 6)"
            ]
          },
          "metadata": {
            "tags": []
          },
          "execution_count": 14
        }
      ]
    },
    {
      "cell_type": "code",
      "metadata": {
        "id": "n6EqKssI5FjH",
        "colab_type": "code",
        "colab": {}
      },
      "source": [
        "#merging the two dataframes\n",
        "df_m = df.merge(match, left_on = \"Navn\", right_on = \"Spørger\", how='left')"
      ],
      "execution_count": 0,
      "outputs": []
    },
    {
      "cell_type": "code",
      "metadata": {
        "id": "zHsKZcE65FjK",
        "colab_type": "code",
        "outputId": "b1462adc-dac4-4d49-f732-f50ba4302478",
        "colab": {
          "base_uri": "https://localhost:8080/",
          "height": 34
        }
      },
      "source": [
        "df_m.shape"
      ],
      "execution_count": 0,
      "outputs": [
        {
          "output_type": "execute_result",
          "data": {
            "text/plain": [
              "(236966, 10)"
            ]
          },
          "metadata": {
            "tags": []
          },
          "execution_count": 16
        }
      ]
    },
    {
      "cell_type": "code",
      "metadata": {
        "id": "-g2Cyq4Q5FjN",
        "colab_type": "code",
        "colab": {}
      },
      "source": [
        "#looking only at specific columns\n",
        "df_m = df_m[['Starttid', 'Sluttid', 'Navn', 'Rolle', 'Tekst', 'Parti']]"
      ],
      "execution_count": 0,
      "outputs": []
    },
    {
      "cell_type": "markdown",
      "metadata": {
        "id": "GmqAPNAF5FjO",
        "colab_type": "text"
      },
      "source": [
        "### Only looking at names which are not none. Furthermore, removing the 'formand'"
      ]
    },
    {
      "cell_type": "code",
      "metadata": {
        "id": "H6PHK5C05FjP",
        "colab_type": "code",
        "colab": {}
      },
      "source": [
        "#only looking at relevant names\n",
        "df_m = df_m[df_m.Navn!='None']"
      ],
      "execution_count": 0,
      "outputs": []
    },
    {
      "cell_type": "code",
      "metadata": {
        "id": "97p3L8jA5FjR",
        "colab_type": "code",
        "colab": {}
      },
      "source": [
        "#removing all the speeches from the 'formand' \n",
        "df_m = df_m[~df_m.Rolle.isin(['formand'])]\n",
        "df_m = df_m.reset_index().iloc[:,1:]"
      ],
      "execution_count": 0,
      "outputs": []
    },
    {
      "cell_type": "code",
      "metadata": {
        "id": "asW5AuCH5FjT",
        "colab_type": "code",
        "outputId": "a340e20f-4a76-4478-bcc5-e95a3d26bf8b",
        "colab": {
          "base_uri": "https://localhost:8080/",
          "height": 204
        }
      },
      "source": [
        "df_m.head()"
      ],
      "execution_count": 0,
      "outputs": [
        {
          "output_type": "execute_result",
          "data": {
            "text/html": [
              "<div>\n",
              "<style scoped>\n",
              "    .dataframe tbody tr th:only-of-type {\n",
              "        vertical-align: middle;\n",
              "    }\n",
              "\n",
              "    .dataframe tbody tr th {\n",
              "        vertical-align: top;\n",
              "    }\n",
              "\n",
              "    .dataframe thead th {\n",
              "        text-align: right;\n",
              "    }\n",
              "</style>\n",
              "<table border=\"1\" class=\"dataframe\">\n",
              "  <thead>\n",
              "    <tr style=\"text-align: right;\">\n",
              "      <th></th>\n",
              "      <th>Starttid</th>\n",
              "      <th>Sluttid</th>\n",
              "      <th>Navn</th>\n",
              "      <th>Rolle</th>\n",
              "      <th>Tekst</th>\n",
              "      <th>Parti</th>\n",
              "    </tr>\n",
              "  </thead>\n",
              "  <tbody>\n",
              "    <tr>\n",
              "      <th>0</th>\n",
              "      <td>2011-09-30T13:00:52.110</td>\n",
              "      <td>2011-09-30T13:05:42.060</td>\n",
              "      <td>Karen J. Klint</td>\n",
              "      <td>medlem</td>\n",
              "      <td>Tak for det. Det er jo dejligt at se så fyldt ...</td>\n",
              "      <td>S</td>\n",
              "    </tr>\n",
              "    <tr>\n",
              "      <th>1</th>\n",
              "      <td>2011-09-30T13:05:42.060</td>\n",
              "      <td>2011-09-30T13:06:52.970</td>\n",
              "      <td>Karen J. Klint</td>\n",
              "      <td>medlem</td>\n",
              "      <td>Vedrørende valget i Grønland indstiller et eni...</td>\n",
              "      <td>S</td>\n",
              "    </tr>\n",
              "    <tr>\n",
              "      <th>2</th>\n",
              "      <td>2011-03-02T13:01:23.263</td>\n",
              "      <td>2011-03-02T13:03:10.263</td>\n",
              "      <td>John Dyrby Paulsen</td>\n",
              "      <td>medlem</td>\n",
              "      <td>Tak for det. Jeg står her med en rapport fra F...</td>\n",
              "      <td>S</td>\n",
              "    </tr>\n",
              "    <tr>\n",
              "      <th>3</th>\n",
              "      <td>2011-03-02T13:03:11.407</td>\n",
              "      <td>2011-03-02T13:04:19.743</td>\n",
              "      <td>Gitte Lillelund Bech</td>\n",
              "      <td>minister</td>\n",
              "      <td>Jeg takker for spørgsmålet. Hr. John Dyrby Pau...</td>\n",
              "      <td>V</td>\n",
              "    </tr>\n",
              "    <tr>\n",
              "      <th>4</th>\n",
              "      <td>2011-03-02T13:04:20.913</td>\n",
              "      <td>2011-03-02T13:05:18.180</td>\n",
              "      <td>John Dyrby Paulsen</td>\n",
              "      <td>medlem</td>\n",
              "      <td>Tak for svaret. Det er jeg jo enig med ministe...</td>\n",
              "      <td>S</td>\n",
              "    </tr>\n",
              "  </tbody>\n",
              "</table>\n",
              "</div>"
            ],
            "text/plain": [
              "                  Starttid  ... Parti\n",
              "0  2011-09-30T13:00:52.110  ...     S\n",
              "1  2011-09-30T13:05:42.060  ...     S\n",
              "2  2011-03-02T13:01:23.263  ...     S\n",
              "3  2011-03-02T13:03:11.407  ...     V\n",
              "4  2011-03-02T13:04:20.913  ...     S\n",
              "\n",
              "[5 rows x 6 columns]"
            ]
          },
          "metadata": {
            "tags": []
          },
          "execution_count": 20
        }
      ]
    },
    {
      "cell_type": "markdown",
      "metadata": {
        "id": "NtvhnKAK5FjV",
        "colab_type": "text"
      },
      "source": [
        "### Timestamps"
      ]
    },
    {
      "cell_type": "code",
      "metadata": {
        "id": "1grOGw0l5FjW",
        "colab_type": "code",
        "colab": {}
      },
      "source": [
        "#making dates into datetime\n",
        "df_m.Starttid = pd.to_datetime(df_m.Starttid)\n",
        "df_m.Sluttid = pd.to_datetime(df_m.Sluttid)"
      ],
      "execution_count": 0,
      "outputs": []
    },
    {
      "cell_type": "code",
      "metadata": {
        "id": "YASctJpY5FjZ",
        "colab_type": "code",
        "colab": {}
      },
      "source": [
        "#creating a date columns\n",
        "df_m['Dato'] = df_m.Starttid.dt.date\n",
        "\n",
        "#and keeping start and endtime to a time variable\n",
        "df_m['Starttid'] = df_m['Starttid'].dt.time\n",
        "df_m['Sluttid'] = df_m['Sluttid'].dt.time"
      ],
      "execution_count": 0,
      "outputs": []
    },
    {
      "cell_type": "code",
      "metadata": {
        "id": "84KhB2W65Fjb",
        "colab_type": "code",
        "outputId": "cfdb53ef-a822-40f0-da19-13108c1b94da",
        "colab": {
          "base_uri": "https://localhost:8080/",
          "height": 204
        }
      },
      "source": [
        "df_m.head()"
      ],
      "execution_count": 0,
      "outputs": [
        {
          "output_type": "execute_result",
          "data": {
            "text/html": [
              "<div>\n",
              "<style scoped>\n",
              "    .dataframe tbody tr th:only-of-type {\n",
              "        vertical-align: middle;\n",
              "    }\n",
              "\n",
              "    .dataframe tbody tr th {\n",
              "        vertical-align: top;\n",
              "    }\n",
              "\n",
              "    .dataframe thead th {\n",
              "        text-align: right;\n",
              "    }\n",
              "</style>\n",
              "<table border=\"1\" class=\"dataframe\">\n",
              "  <thead>\n",
              "    <tr style=\"text-align: right;\">\n",
              "      <th></th>\n",
              "      <th>Starttid</th>\n",
              "      <th>Sluttid</th>\n",
              "      <th>Navn</th>\n",
              "      <th>Rolle</th>\n",
              "      <th>Tekst</th>\n",
              "      <th>Parti</th>\n",
              "      <th>Dato</th>\n",
              "    </tr>\n",
              "  </thead>\n",
              "  <tbody>\n",
              "    <tr>\n",
              "      <th>0</th>\n",
              "      <td>13:00:52.110000</td>\n",
              "      <td>13:05:42.060000</td>\n",
              "      <td>Karen J. Klint</td>\n",
              "      <td>medlem</td>\n",
              "      <td>Tak for det. Det er jo dejligt at se så fyldt ...</td>\n",
              "      <td>S</td>\n",
              "      <td>2011-09-30</td>\n",
              "    </tr>\n",
              "    <tr>\n",
              "      <th>1</th>\n",
              "      <td>13:05:42.060000</td>\n",
              "      <td>13:06:52.970000</td>\n",
              "      <td>Karen J. Klint</td>\n",
              "      <td>medlem</td>\n",
              "      <td>Vedrørende valget i Grønland indstiller et eni...</td>\n",
              "      <td>S</td>\n",
              "      <td>2011-09-30</td>\n",
              "    </tr>\n",
              "    <tr>\n",
              "      <th>2</th>\n",
              "      <td>13:01:23.263000</td>\n",
              "      <td>13:03:10.263000</td>\n",
              "      <td>John Dyrby Paulsen</td>\n",
              "      <td>medlem</td>\n",
              "      <td>Tak for det. Jeg står her med en rapport fra F...</td>\n",
              "      <td>S</td>\n",
              "      <td>2011-03-02</td>\n",
              "    </tr>\n",
              "    <tr>\n",
              "      <th>3</th>\n",
              "      <td>13:03:11.407000</td>\n",
              "      <td>13:04:19.743000</td>\n",
              "      <td>Gitte Lillelund Bech</td>\n",
              "      <td>minister</td>\n",
              "      <td>Jeg takker for spørgsmålet. Hr. John Dyrby Pau...</td>\n",
              "      <td>V</td>\n",
              "      <td>2011-03-02</td>\n",
              "    </tr>\n",
              "    <tr>\n",
              "      <th>4</th>\n",
              "      <td>13:04:20.913000</td>\n",
              "      <td>13:05:18.180000</td>\n",
              "      <td>John Dyrby Paulsen</td>\n",
              "      <td>medlem</td>\n",
              "      <td>Tak for svaret. Det er jeg jo enig med ministe...</td>\n",
              "      <td>S</td>\n",
              "      <td>2011-03-02</td>\n",
              "    </tr>\n",
              "  </tbody>\n",
              "</table>\n",
              "</div>"
            ],
            "text/plain": [
              "          Starttid          Sluttid  ... Parti        Dato\n",
              "0  13:00:52.110000  13:05:42.060000  ...     S  2011-09-30\n",
              "1  13:05:42.060000  13:06:52.970000  ...     S  2011-09-30\n",
              "2  13:01:23.263000  13:03:10.263000  ...     S  2011-03-02\n",
              "3  13:03:11.407000  13:04:19.743000  ...     V  2011-03-02\n",
              "4  13:04:20.913000  13:05:18.180000  ...     S  2011-03-02\n",
              "\n",
              "[5 rows x 7 columns]"
            ]
          },
          "metadata": {
            "tags": []
          },
          "execution_count": 23
        }
      ]
    },
    {
      "cell_type": "markdown",
      "metadata": {
        "id": "nnNEdX0O5Fjd",
        "colab_type": "text"
      },
      "source": [
        "## <font color='blue'>Part 3</font>: Text processing\n",
        "<a id=part3></a>"
      ]
    },
    {
      "cell_type": "markdown",
      "metadata": {
        "id": "7Ul1JZDZ5Fje",
        "colab_type": "text"
      },
      "source": [
        "### Cleaning text with gensim package"
      ]
    },
    {
      "cell_type": "code",
      "metadata": {
        "id": "4z-vdRDy5Fje",
        "colab_type": "code",
        "colab": {}
      },
      "source": [
        "#creating different filters\n",
        "filters = [\n",
        "           gsp.strip_tags, \n",
        "           gsp.strip_punctuation,\n",
        "           gsp.strip_multiple_whitespaces,\n",
        "           gsp.strip_numeric\n",
        "          ]"
      ],
      "execution_count": 0,
      "outputs": []
    },
    {
      "cell_type": "code",
      "metadata": {
        "id": "vdBplAZ35Fjg",
        "colab_type": "code",
        "colab": {}
      },
      "source": [
        "def clean_text(s):\n",
        "    s = s.lower()\n",
        "    s = utils.to_unicode(s)\n",
        "    for f in filters:\n",
        "        s = f(s)\n",
        "    return s"
      ],
      "execution_count": 0,
      "outputs": []
    },
    {
      "cell_type": "code",
      "metadata": {
        "id": "zeL8MQVW5Fji",
        "colab_type": "code",
        "colab": {}
      },
      "source": [
        "#apply clean-text function to all the text\n",
        "df_m['Tekst_clean'] = df_m['Tekst'].apply(lambda x: clean_text(x))"
      ],
      "execution_count": 0,
      "outputs": []
    },
    {
      "cell_type": "markdown",
      "metadata": {
        "id": "kOXje4Rd5Fjk",
        "colab_type": "text"
      },
      "source": [
        "### Tokenizing text"
      ]
    },
    {
      "cell_type": "code",
      "metadata": {
        "id": "Ov5HoTb_7A2X",
        "colab_type": "code",
        "outputId": "f522f1ed-67e1-4a40-8d58-c7114e7bf8b9",
        "colab": {
          "base_uri": "https://localhost:8080/",
          "height": 68
        }
      },
      "source": [
        "import nltk\n",
        "nltk.download('punkt')"
      ],
      "execution_count": 0,
      "outputs": [
        {
          "output_type": "stream",
          "text": [
            "[nltk_data] Downloading package punkt to /root/nltk_data...\n",
            "[nltk_data]   Package punkt is already up-to-date!\n"
          ],
          "name": "stdout"
        },
        {
          "output_type": "execute_result",
          "data": {
            "text/plain": [
              "True"
            ]
          },
          "metadata": {
            "tags": []
          },
          "execution_count": 27
        }
      ]
    },
    {
      "cell_type": "code",
      "metadata": {
        "id": "3KJOj2cs5Fjk",
        "colab_type": "code",
        "colab": {}
      },
      "source": [
        "#using tokenize package to tokenize all `Tekst`\n",
        "df_m['T_Tekst'] = df_m['Tekst_clean'].apply(lambda x: word_tokenize(x))"
      ],
      "execution_count": 0,
      "outputs": []
    },
    {
      "cell_type": "markdown",
      "metadata": {
        "id": "hcHeRLHD5Fjm",
        "colab_type": "text"
      },
      "source": [
        "### Removing stopwords"
      ]
    },
    {
      "cell_type": "code",
      "metadata": {
        "id": "NnBE--XF7mpj",
        "colab_type": "code",
        "outputId": "2d0171dc-0eb1-49de-bfbc-486129975675",
        "colab": {
          "base_uri": "https://localhost:8080/",
          "height": 68
        }
      },
      "source": [
        "import nltk\n",
        "nltk.download('stopwords')"
      ],
      "execution_count": 0,
      "outputs": [
        {
          "output_type": "stream",
          "text": [
            "[nltk_data] Downloading package stopwords to /root/nltk_data...\n",
            "[nltk_data]   Package stopwords is already up-to-date!\n"
          ],
          "name": "stdout"
        },
        {
          "output_type": "execute_result",
          "data": {
            "text/plain": [
              "True"
            ]
          },
          "metadata": {
            "tags": []
          },
          "execution_count": 29
        }
      ]
    },
    {
      "cell_type": "code",
      "metadata": {
        "id": "qPK1h8Uv5Fjp",
        "colab_type": "code",
        "colab": {}
      },
      "source": [
        "#defining the danish stopwords from NLTK\n",
        "dk_sw = nltk.corpus.stopwords.words('danish')"
      ],
      "execution_count": 0,
      "outputs": []
    },
    {
      "cell_type": "code",
      "metadata": {
        "id": "vPtzUfzJ5Fjr",
        "colab_type": "code",
        "colab": {}
      },
      "source": [
        "#adding stopwords (manual filter)\n",
        "more_stopwords = ['ministeren',\n",
        "'værsgo',\n",
        "'så',\n",
        "'tak',\n",
        "'ja',\n",
        "'svare',\n",
        "'ordføreren',\n",
        "'svar',\n",
        "'spørgsmålet',\n",
        "'svarer', 'spørgsmål', 'ordfører','hr','fru']"
      ],
      "execution_count": 0,
      "outputs": []
    },
    {
      "cell_type": "code",
      "metadata": {
        "id": "DeTevvXC5Fjt",
        "colab_type": "code",
        "colab": {}
      },
      "source": [
        "#appending manual stopwords to the nltk list\n",
        "for word in more_stopwords:\n",
        "    dk_sw.append(word)"
      ],
      "execution_count": 0,
      "outputs": []
    },
    {
      "cell_type": "code",
      "metadata": {
        "id": "0kiY9g4V5Fjv",
        "colab_type": "code",
        "colab": {}
      },
      "source": [
        "#Making a column to contain all the clean text without stopwords\n",
        "df_m['T_Tekst_stopw'] = df_m['T_Tekst'].apply(lambda x: [word for word in x if not word in dk_sw])"
      ],
      "execution_count": 0,
      "outputs": []
    },
    {
      "cell_type": "markdown",
      "metadata": {
        "id": "bacOZpU-5Fjx",
        "colab_type": "text"
      },
      "source": [
        "### Stemming words"
      ]
    },
    {
      "cell_type": "code",
      "metadata": {
        "id": "yWl7T6tU5Fjx",
        "colab_type": "code",
        "colab": {}
      },
      "source": [
        "#choosing the stemmer\n",
        "stemmer = SnowballStemmer(\"danish\")"
      ],
      "execution_count": 0,
      "outputs": []
    },
    {
      "cell_type": "code",
      "metadata": {
        "id": "Eq76LzdE5Fj5",
        "colab_type": "code",
        "outputId": "6c66e4e9-53b4-4925-a5c4-66c125b504aa",
        "colab": {
          "base_uri": "https://localhost:8080/",
          "height": 34
        }
      },
      "source": [
        "#testing \n",
        "stemmer.stem(\"købte\")"
      ],
      "execution_count": 0,
      "outputs": [
        {
          "output_type": "execute_result",
          "data": {
            "text/plain": [
              "'købt'"
            ]
          },
          "metadata": {
            "tags": []
          },
          "execution_count": 35
        }
      ]
    },
    {
      "cell_type": "code",
      "metadata": {
        "id": "fAL2mGmi5Fj8",
        "colab_type": "code",
        "colab": {}
      },
      "source": [
        "#stemming all words\n",
        "df_m['T_Tekst_stopw_stem'] = df_m['T_Tekst_stopw'].apply(lambda x: [stemmer.stem(item) for item in x])"
      ],
      "execution_count": 0,
      "outputs": []
    },
    {
      "cell_type": "markdown",
      "metadata": {
        "id": "kaTUdvga5Fj-",
        "colab_type": "text"
      },
      "source": [
        "### Removing stemmed stopwords (extra)"
      ]
    },
    {
      "cell_type": "markdown",
      "metadata": {
        "id": "Eczn_Fk45Fj_",
        "colab_type": "text"
      },
      "source": [
        "This is an iterative process which as a result of the clusteirng... (not as relevant here in the Autoencoder)"
      ]
    },
    {
      "cell_type": "code",
      "metadata": {
        "id": "QBDj4g5J5Fj_",
        "colab_type": "code",
        "colab": {}
      },
      "source": [
        "#extra stopwords\n",
        "esw = ['kan', 'kom', 'sig', 'gør','få','–','«','»','men','altså']\n",
        "\n",
        "#putting everything into the clean columns (T_Tekst_stopw_stem)\n",
        "df_m['T_Tekst_stopw_stem'] = df_m['T_Tekst_stopw_stem'].apply(lambda x: [word for word in x if not word in esw])"
      ],
      "execution_count": 0,
      "outputs": []
    },
    {
      "cell_type": "code",
      "metadata": {
        "id": "NbMCfS__5FkB",
        "colab_type": "code",
        "outputId": "e69647ef-0ffc-4185-e768-d4021b16ce7e",
        "colab": {
          "base_uri": "https://localhost:8080/",
          "height": 547
        }
      },
      "source": [
        "df_m.head()"
      ],
      "execution_count": 0,
      "outputs": [
        {
          "output_type": "execute_result",
          "data": {
            "text/html": [
              "<div>\n",
              "<style scoped>\n",
              "    .dataframe tbody tr th:only-of-type {\n",
              "        vertical-align: middle;\n",
              "    }\n",
              "\n",
              "    .dataframe tbody tr th {\n",
              "        vertical-align: top;\n",
              "    }\n",
              "\n",
              "    .dataframe thead th {\n",
              "        text-align: right;\n",
              "    }\n",
              "</style>\n",
              "<table border=\"1\" class=\"dataframe\">\n",
              "  <thead>\n",
              "    <tr style=\"text-align: right;\">\n",
              "      <th></th>\n",
              "      <th>Starttid</th>\n",
              "      <th>Sluttid</th>\n",
              "      <th>Navn</th>\n",
              "      <th>Rolle</th>\n",
              "      <th>Tekst</th>\n",
              "      <th>Parti</th>\n",
              "      <th>Dato</th>\n",
              "      <th>Tekst_clean</th>\n",
              "      <th>T_Tekst</th>\n",
              "      <th>T_Tekst_stopw</th>\n",
              "      <th>T_Tekst_stopw_stem</th>\n",
              "    </tr>\n",
              "  </thead>\n",
              "  <tbody>\n",
              "    <tr>\n",
              "      <th>0</th>\n",
              "      <td>13:00:52.110000</td>\n",
              "      <td>13:05:42.060000</td>\n",
              "      <td>Karen J. Klint</td>\n",
              "      <td>medlem</td>\n",
              "      <td>Tak for det. Det er jo dejligt at se så fyldt ...</td>\n",
              "      <td>S</td>\n",
              "      <td>2011-09-30</td>\n",
              "      <td>tak for det det er jo dejligt at se så fyldt e...</td>\n",
              "      <td>[tak, for, det, det, er, jo, dejligt, at, se, ...</td>\n",
              "      <td>[dejligt, se, fyldt, sal, publikumsbænkene, hø...</td>\n",
              "      <td>[dej, se, fyld, sal, publikumsbænk, højtid, da...</td>\n",
              "    </tr>\n",
              "    <tr>\n",
              "      <th>1</th>\n",
              "      <td>13:05:42.060000</td>\n",
              "      <td>13:06:52.970000</td>\n",
              "      <td>Karen J. Klint</td>\n",
              "      <td>medlem</td>\n",
              "      <td>Vedrørende valget i Grønland indstiller et eni...</td>\n",
              "      <td>S</td>\n",
              "      <td>2011-09-30</td>\n",
              "      <td>vedrørende valget i grønland indstiller et eni...</td>\n",
              "      <td>[vedrørende, valget, i, grønland, indstiller, ...</td>\n",
              "      <td>[vedrørende, valget, grønland, indstiller, eni...</td>\n",
              "      <td>[vedrør, valg, grønland, indstil, enig, udvalg...</td>\n",
              "    </tr>\n",
              "    <tr>\n",
              "      <th>2</th>\n",
              "      <td>13:01:23.263000</td>\n",
              "      <td>13:03:10.263000</td>\n",
              "      <td>John Dyrby Paulsen</td>\n",
              "      <td>medlem</td>\n",
              "      <td>Tak for det. Jeg står her med en rapport fra F...</td>\n",
              "      <td>S</td>\n",
              "      <td>2011-03-02</td>\n",
              "      <td>tak for det jeg står her med en rapport fra fo...</td>\n",
              "      <td>[tak, for, det, jeg, står, her, med, en, rappo...</td>\n",
              "      <td>[står, rapport, forsvarets, færdselssikkerheds...</td>\n",
              "      <td>[står, rapport, forsvar, færdselssikkerhedskom...</td>\n",
              "    </tr>\n",
              "    <tr>\n",
              "      <th>3</th>\n",
              "      <td>13:03:11.407000</td>\n",
              "      <td>13:04:19.743000</td>\n",
              "      <td>Gitte Lillelund Bech</td>\n",
              "      <td>minister</td>\n",
              "      <td>Jeg takker for spørgsmålet. Hr. John Dyrby Pau...</td>\n",
              "      <td>V</td>\n",
              "      <td>2011-03-02</td>\n",
              "      <td>jeg takker for spørgsmålet hr john dyrby pauls...</td>\n",
              "      <td>[jeg, takker, for, spørgsmålet, hr, john, dyrb...</td>\n",
              "      <td>[takker, john, dyrby, paulsen, fuldstændig, re...</td>\n",
              "      <td>[tak, john, dyrby, pauls, fuldstænd, ret, audi...</td>\n",
              "    </tr>\n",
              "    <tr>\n",
              "      <th>4</th>\n",
              "      <td>13:04:20.913000</td>\n",
              "      <td>13:05:18.180000</td>\n",
              "      <td>John Dyrby Paulsen</td>\n",
              "      <td>medlem</td>\n",
              "      <td>Tak for svaret. Det er jeg jo enig med ministe...</td>\n",
              "      <td>S</td>\n",
              "      <td>2011-03-02</td>\n",
              "      <td>tak for svaret det er jeg jo enig med minister...</td>\n",
              "      <td>[tak, for, svaret, det, er, jeg, jo, enig, med...</td>\n",
              "      <td>[svaret, enig, svært, uenig, underligt, rappor...</td>\n",
              "      <td>[svar, enig, svært, uen, under, rapport, færds...</td>\n",
              "    </tr>\n",
              "  </tbody>\n",
              "</table>\n",
              "</div>"
            ],
            "text/plain": [
              "          Starttid  ...                                 T_Tekst_stopw_stem\n",
              "0  13:00:52.110000  ...  [dej, se, fyld, sal, publikumsbænk, højtid, da...\n",
              "1  13:05:42.060000  ...  [vedrør, valg, grønland, indstil, enig, udvalg...\n",
              "2  13:01:23.263000  ...  [står, rapport, forsvar, færdselssikkerhedskom...\n",
              "3  13:03:11.407000  ...  [tak, john, dyrby, pauls, fuldstænd, ret, audi...\n",
              "4  13:04:20.913000  ...  [svar, enig, svært, uen, under, rapport, færds...\n",
              "\n",
              "[5 rows x 11 columns]"
            ]
          },
          "metadata": {
            "tags": []
          },
          "execution_count": 39
        }
      ]
    },
    {
      "cell_type": "code",
      "metadata": {
        "id": "TgjGFwSgFYPu",
        "colab_type": "code",
        "colab": {}
      },
      "source": [
        "#df_m.to_csv('/content/drive/My Drive/Uni/MMC/4. semester/CDA/data/DPC_speeches_processed.csv')"
      ],
      "execution_count": 0,
      "outputs": []
    },
    {
      "cell_type": "markdown",
      "metadata": {
        "id": "zu8np5AS5FkD",
        "colab_type": "text"
      },
      "source": [
        "## <font color='blue'>Part 4</font>: Counting the most frequent words\n",
        "<a id=part4></a>"
      ]
    },
    {
      "cell_type": "code",
      "metadata": {
        "id": "oMk67qkw5FkG",
        "colab_type": "code",
        "outputId": "5d08646c-7761-413c-8e64-e5c7d3327cf1",
        "colab": {
          "base_uri": "https://localhost:8080/",
          "height": 34
        }
      },
      "source": [
        "df_m.shape"
      ],
      "execution_count": 0,
      "outputs": [
        {
          "output_type": "execute_result",
          "data": {
            "text/plain": [
              "(129843, 10)"
            ]
          },
          "metadata": {
            "tags": []
          },
          "execution_count": 37
        }
      ]
    },
    {
      "cell_type": "code",
      "metadata": {
        "id": "JZx71fmJ5FkK",
        "colab_type": "code",
        "colab": {}
      },
      "source": [
        "plot = 'no'"
      ],
      "execution_count": 0,
      "outputs": []
    },
    {
      "cell_type": "code",
      "metadata": {
        "id": "72pN2ckQ5FkN",
        "colab_type": "code",
        "colab": {}
      },
      "source": [
        "if plot == 'yes':\n",
        "    #counting words from the tokenized words\n",
        "    aggregate_counter = Counter()\n",
        "    for row_index, row in df_m.iterrows():\n",
        "        if row_index % 10000==0:\n",
        "            print(row_index)\n",
        "        c = Counter(row['T_Tekst_stopw_stem'])\n",
        "        aggregate_counter += c\n",
        "        \n",
        "    #defining common words\n",
        "    common_words = [word[0] for word in aggregate_counter.most_common(50)]\n",
        "    common_words_counts = [word[1] for word in aggregate_counter.most_common(50)]"
      ],
      "execution_count": 0,
      "outputs": []
    },
    {
      "cell_type": "code",
      "metadata": {
        "id": "6IUvOK1v5FkR",
        "colab_type": "code",
        "colab": {}
      },
      "source": [
        "#defining function to plot the words\n",
        "def barplot(words, words_counts, title):\n",
        "    fig = plt.figure(figsize=(18,6))\n",
        "    bar_plot = sns.barplot(x=words, y=words_counts)\n",
        "    for item in bar_plot.get_xticklabels():\n",
        "        item.set_rotation(90)\n",
        "    plt.title(title)\n",
        "    plt.savefig('../data/clusters/most_frequent_words.png')\n",
        "    plt.show()"
      ],
      "execution_count": 0,
      "outputs": []
    },
    {
      "cell_type": "code",
      "metadata": {
        "id": "NLVhCA3y5FkV",
        "colab_type": "code",
        "colab": {}
      },
      "source": [
        "#plotting the most used words in folketinget\n",
        "#barplot(words=common_words, words_counts=common_words_counts, title='Most Frequent Words used in Folketinget')"
      ],
      "execution_count": 0,
      "outputs": []
    },
    {
      "cell_type": "markdown",
      "metadata": {
        "id": "bUmh0fdE5Fkc",
        "colab_type": "text"
      },
      "source": [
        "## <font color='blue'>Part 5</font>: Doc2Vec & Autoencoder\n",
        "<a id=part5></a>"
      ]
    },
    {
      "cell_type": "markdown",
      "metadata": {
        "id": "f3VvwE8C5Fkd",
        "colab_type": "text"
      },
      "source": [
        "Now we are going to transform all the documents (all the speeches) into vectors. To get an idea about how many words we have in the speeches, lets take the average length of all the lists. "
      ]
    },
    {
      "cell_type": "code",
      "metadata": {
        "id": "WLV3dN0yKCQV",
        "colab_type": "code",
        "colab": {}
      },
      "source": [
        "#resetting the index om df_m \n",
        "#df_m = df_m.reset_index().iloc[:,1:]\n",
        "df_m = pd.read_csv('/content/gdrive/My Drive/Uni/MMC/4. semester/CDA/data/DPC_speeches_processed.csv')\n",
        "df_m = df_m.reset_index().iloc[:,2:]"
      ],
      "execution_count": 0,
      "outputs": []
    },
    {
      "cell_type": "code",
      "metadata": {
        "id": "nVpdfylsKMeO",
        "colab_type": "code",
        "outputId": "d0a7fa7b-5789-4f29-f35b-586873be3391",
        "colab": {
          "base_uri": "https://localhost:8080/",
          "height": 374
        }
      },
      "source": [
        "df_m.head()"
      ],
      "execution_count": 5,
      "outputs": [
        {
          "output_type": "execute_result",
          "data": {
            "text/html": [
              "<div>\n",
              "<style scoped>\n",
              "    .dataframe tbody tr th:only-of-type {\n",
              "        vertical-align: middle;\n",
              "    }\n",
              "\n",
              "    .dataframe tbody tr th {\n",
              "        vertical-align: top;\n",
              "    }\n",
              "\n",
              "    .dataframe thead th {\n",
              "        text-align: right;\n",
              "    }\n",
              "</style>\n",
              "<table border=\"1\" class=\"dataframe\">\n",
              "  <thead>\n",
              "    <tr style=\"text-align: right;\">\n",
              "      <th></th>\n",
              "      <th>Starttid</th>\n",
              "      <th>Sluttid</th>\n",
              "      <th>Navn</th>\n",
              "      <th>Rolle</th>\n",
              "      <th>Tekst</th>\n",
              "      <th>Parti</th>\n",
              "      <th>Dato</th>\n",
              "      <th>Tekst_clean</th>\n",
              "      <th>T_Tekst</th>\n",
              "      <th>T_Tekst_stopw</th>\n",
              "      <th>T_Tekst_stopw_stem</th>\n",
              "    </tr>\n",
              "  </thead>\n",
              "  <tbody>\n",
              "    <tr>\n",
              "      <th>0</th>\n",
              "      <td>13:00:52.110000</td>\n",
              "      <td>13:05:42.060000</td>\n",
              "      <td>Karen J. Klint</td>\n",
              "      <td>medlem</td>\n",
              "      <td>Tak for det. Det er jo dejligt at se så fyldt ...</td>\n",
              "      <td>S</td>\n",
              "      <td>2011-09-30</td>\n",
              "      <td>tak for det det er jo dejligt at se så fyldt e...</td>\n",
              "      <td>['tak', 'for', 'det', 'det', 'er', 'jo', 'dejl...</td>\n",
              "      <td>['dejligt', 'se', 'fyldt', 'sal', 'publikumsbæ...</td>\n",
              "      <td>['dej', 'se', 'fyld', 'sal', 'publikumsbænk', ...</td>\n",
              "    </tr>\n",
              "    <tr>\n",
              "      <th>1</th>\n",
              "      <td>13:05:42.060000</td>\n",
              "      <td>13:06:52.970000</td>\n",
              "      <td>Karen J. Klint</td>\n",
              "      <td>medlem</td>\n",
              "      <td>Vedrørende valget i Grønland indstiller et eni...</td>\n",
              "      <td>S</td>\n",
              "      <td>2011-09-30</td>\n",
              "      <td>vedrørende valget i grønland indstiller et eni...</td>\n",
              "      <td>['vedrørende', 'valget', 'i', 'grønland', 'ind...</td>\n",
              "      <td>['vedrørende', 'valget', 'grønland', 'indstill...</td>\n",
              "      <td>['vedrør', 'valg', 'grønland', 'indstil', 'eni...</td>\n",
              "    </tr>\n",
              "    <tr>\n",
              "      <th>2</th>\n",
              "      <td>13:01:23.263000</td>\n",
              "      <td>13:03:10.263000</td>\n",
              "      <td>John Dyrby Paulsen</td>\n",
              "      <td>medlem</td>\n",
              "      <td>Tak for det. Jeg står her med en rapport fra F...</td>\n",
              "      <td>S</td>\n",
              "      <td>2011-03-02</td>\n",
              "      <td>tak for det jeg står her med en rapport fra fo...</td>\n",
              "      <td>['tak', 'for', 'det', 'jeg', 'står', 'her', 'm...</td>\n",
              "      <td>['står', 'rapport', 'forsvarets', 'færdselssik...</td>\n",
              "      <td>['står', 'rapport', 'forsvar', 'færdselssikker...</td>\n",
              "    </tr>\n",
              "    <tr>\n",
              "      <th>3</th>\n",
              "      <td>13:03:11.407000</td>\n",
              "      <td>13:04:19.743000</td>\n",
              "      <td>Gitte Lillelund Bech</td>\n",
              "      <td>minister</td>\n",
              "      <td>Jeg takker for spørgsmålet. Hr. John Dyrby Pau...</td>\n",
              "      <td>V</td>\n",
              "      <td>2011-03-02</td>\n",
              "      <td>jeg takker for spørgsmålet hr john dyrby pauls...</td>\n",
              "      <td>['jeg', 'takker', 'for', 'spørgsmålet', 'hr', ...</td>\n",
              "      <td>['takker', 'john', 'dyrby', 'paulsen', 'fuldst...</td>\n",
              "      <td>['tak', 'john', 'dyrby', 'pauls', 'fuldstænd',...</td>\n",
              "    </tr>\n",
              "    <tr>\n",
              "      <th>4</th>\n",
              "      <td>13:04:20.913000</td>\n",
              "      <td>13:05:18.180000</td>\n",
              "      <td>John Dyrby Paulsen</td>\n",
              "      <td>medlem</td>\n",
              "      <td>Tak for svaret. Det er jeg jo enig med ministe...</td>\n",
              "      <td>S</td>\n",
              "      <td>2011-03-02</td>\n",
              "      <td>tak for svaret det er jeg jo enig med minister...</td>\n",
              "      <td>['tak', 'for', 'svaret', 'det', 'er', 'jeg', '...</td>\n",
              "      <td>['svaret', 'enig', 'svært', 'uenig', 'underlig...</td>\n",
              "      <td>['svar', 'enig', 'svært', 'uen', 'under', 'rap...</td>\n",
              "    </tr>\n",
              "  </tbody>\n",
              "</table>\n",
              "</div>"
            ],
            "text/plain": [
              "          Starttid  ...                                 T_Tekst_stopw_stem\n",
              "0  13:00:52.110000  ...  ['dej', 'se', 'fyld', 'sal', 'publikumsbænk', ...\n",
              "1  13:05:42.060000  ...  ['vedrør', 'valg', 'grønland', 'indstil', 'eni...\n",
              "2  13:01:23.263000  ...  ['står', 'rapport', 'forsvar', 'færdselssikker...\n",
              "3  13:03:11.407000  ...  ['tak', 'john', 'dyrby', 'pauls', 'fuldstænd',...\n",
              "4  13:04:20.913000  ...  ['svar', 'enig', 'svært', 'uen', 'under', 'rap...\n",
              "\n",
              "[5 rows x 11 columns]"
            ]
          },
          "metadata": {
            "tags": []
          },
          "execution_count": 5
        }
      ]
    },
    {
      "cell_type": "code",
      "metadata": {
        "id": "QskI7jSV5Fkd",
        "colab_type": "code",
        "outputId": "c3f0f6bd-0bc4-450d-a2b6-04d48785af8d",
        "colab": {
          "base_uri": "https://localhost:8080/",
          "height": 34
        }
      },
      "source": [
        "#looking at the average length (= average amount of words in speeches) of all the lists in all the \n",
        "#text-processed lists\n",
        "df_m.T_Tekst_stopw_stem.str.len().mean()"
      ],
      "execution_count": 0,
      "outputs": [
        {
          "output_type": "execute_result",
          "data": {
            "text/plain": [
              "868.0062449018972"
            ]
          },
          "metadata": {
            "tags": []
          },
          "execution_count": 6
        }
      ]
    },
    {
      "cell_type": "markdown",
      "metadata": {
        "id": "NT8IsHcC5Fkg",
        "colab_type": "text"
      },
      "source": [
        "So we might as well go for a vector size of something standard like 300 (following the example) "
      ]
    },
    {
      "cell_type": "markdown",
      "metadata": {
        "id": "70-Qu2jdbLlF",
        "colab_type": "text"
      },
      "source": [
        "### Creating Doc2Vec"
      ]
    },
    {
      "cell_type": "code",
      "metadata": {
        "id": "dJmYc-bh5Fkg",
        "colab_type": "code",
        "colab": {}
      },
      "source": [
        "from gensim.models.doc2vec import TaggedDocument, Doc2Vec\n",
        "from gensim.parsing.preprocessing import preprocess_string\n",
        "from sklearn.base import BaseEstimator\n",
        "from sklearn import utils as skl_utils\n",
        "from tqdm import tqdm\n",
        "\n",
        "import multiprocessing\n",
        "import numpy as np\n",
        "\n",
        "class Doc2VecTransformer(BaseEstimator):\n",
        "\n",
        "    def __init__(self, vector_size=100, learning_rate=0.02, epochs=20):\n",
        "        self.learning_rate = learning_rate\n",
        "        self.epochs = epochs\n",
        "        self._model = None\n",
        "        self.vector_size = vector_size\n",
        "        self.workers = multiprocessing.cpu_count() - 1\n",
        "\n",
        "    def fit(self, df_x, df_y=None):\n",
        "        tagged_x = [TaggedDocument(str(row['T_Tekst_stopw_stem']).split(), [index]) for index, row in df_x.iterrows()]\n",
        "        model = Doc2Vec(documents=tagged_x, vector_size=self.vector_size, workers=self.workers)\n",
        "\n",
        "        for epoch in range(self.epochs):\n",
        "            model.train(skl_utils.shuffle([x for x in tqdm(tagged_x)]), total_examples=len(tagged_x), epochs=1)\n",
        "            model.alpha -= self.learning_rate\n",
        "            model.min_alpha = model.alpha\n",
        "\n",
        "        self._model = model\n",
        "        return self\n",
        "\n",
        "    def transform(self, df_x):\n",
        "        return np.asmatrix(np.array([self._model.infer_vector(str(row['T_Tekst_stopw_stem']).split())\n",
        "                                     for index, row in df_x.iterrows()]))"
      ],
      "execution_count": 0,
      "outputs": []
    },
    {
      "cell_type": "code",
      "metadata": {
        "id": "a2SOMEzc9NM3",
        "colab_type": "code",
        "colab": {}
      },
      "source": [
        "doc2vec_tr = Doc2VecTransformer(vector_size=300)"
      ],
      "execution_count": 0,
      "outputs": []
    },
    {
      "cell_type": "code",
      "metadata": {
        "id": "DTqEsFpe9OKX",
        "colab_type": "code",
        "outputId": "a04eb6d8-556b-4570-f1f4-fd8ce17b785f",
        "colab": {
          "base_uri": "https://localhost:8080/",
          "height": 34
        }
      },
      "source": [
        "doc2vec_tr"
      ],
      "execution_count": 0,
      "outputs": [
        {
          "output_type": "execute_result",
          "data": {
            "text/plain": [
              "Doc2VecTransformer(epochs=20, learning_rate=0.02, vector_size=300)"
            ]
          },
          "metadata": {
            "tags": []
          },
          "execution_count": 3
        }
      ]
    },
    {
      "cell_type": "code",
      "metadata": {
        "id": "OhhV0xzP5Fki",
        "colab_type": "code",
        "outputId": "f3220173-5562-419b-a205-11b14491e3b5",
        "colab": {
          "base_uri": "https://localhost:8080/",
          "height": 357
        }
      },
      "source": [
        "#transforming all the speeches into vectors\n",
        "doc2vec_tr = Doc2VecTransformer(vector_size=300)\n",
        "doc2vec_tr.fit(df_m)\n",
        "doc2vec_vectors = doc2vec_tr.transform(df_m)"
      ],
      "execution_count": 0,
      "outputs": [
        {
          "output_type": "stream",
          "text": [
            "100%|██████████| 114013/114013 [00:00<00:00, 2136227.39it/s]\n",
            "100%|██████████| 114013/114013 [00:00<00:00, 2308229.71it/s]\n",
            "100%|██████████| 114013/114013 [00:00<00:00, 2385455.87it/s]\n",
            "100%|██████████| 114013/114013 [00:00<00:00, 2304647.71it/s]\n",
            "100%|██████████| 114013/114013 [00:00<00:00, 2394449.97it/s]\n",
            "100%|██████████| 114013/114013 [00:00<00:00, 2413008.42it/s]\n",
            "100%|██████████| 114013/114013 [00:00<00:00, 2312180.55it/s]\n",
            "100%|██████████| 114013/114013 [00:00<00:00, 2480857.77it/s]\n",
            "100%|██████████| 114013/114013 [00:00<00:00, 2403971.30it/s]\n",
            "100%|██████████| 114013/114013 [00:00<00:00, 2415482.67it/s]\n",
            "100%|██████████| 114013/114013 [00:00<00:00, 2370462.15it/s]\n",
            "100%|██████████| 114013/114013 [00:00<00:00, 2280751.57it/s]\n",
            "100%|██████████| 114013/114013 [00:00<00:00, 2475758.75it/s]\n",
            "100%|██████████| 114013/114013 [00:00<00:00, 2436279.81it/s]\n",
            "100%|██████████| 114013/114013 [00:00<00:00, 2359549.52it/s]\n",
            "100%|██████████| 114013/114013 [00:00<00:00, 2384218.96it/s]\n",
            "100%|██████████| 114013/114013 [00:00<00:00, 2326624.93it/s]\n",
            "100%|██████████| 114013/114013 [00:00<00:00, 2379165.77it/s]\n",
            "100%|██████████| 114013/114013 [00:00<00:00, 2398521.29it/s]\n",
            "100%|██████████| 114013/114013 [00:00<00:00, 2391540.09it/s]\n"
          ],
          "name": "stderr"
        }
      ]
    },
    {
      "cell_type": "code",
      "metadata": {
        "id": "HfFOdOL05Fkm",
        "colab_type": "code",
        "outputId": "a9345d15-70c9-4f55-aab4-a712f71bf803",
        "colab": {
          "base_uri": "https://localhost:8080/",
          "height": 238
        }
      },
      "source": [
        "print(doc2vec_vectors)"
      ],
      "execution_count": 0,
      "outputs": [
        {
          "output_type": "stream",
          "text": [
            "[[-1.3900460e-03 -5.1325356e-04 -4.2499384e-04 ...  1.4246573e-03\n",
            "  -1.0244491e-03  6.7322690e-04]\n",
            " [-6.4312393e-04  5.5483973e-04  8.6417113e-04 ...  1.1781782e-03\n",
            "  -3.5231624e-04 -1.5955511e-03]\n",
            " [ 8.0369238e-04  8.9146261e-04 -1.4031058e-03 ...  1.0899901e-05\n",
            "   1.4834588e-03 -1.2883655e-03]\n",
            " ...\n",
            " [-6.8049569e-04 -7.5754558e-04 -1.5944844e-03 ... -6.1966013e-04\n",
            "   4.9645163e-04 -1.3403239e-03]\n",
            " [-5.5599117e-05  2.0145916e-04 -6.9573754e-04 ... -1.5864819e-03\n",
            "  -6.4387819e-04  3.5761480e-04]\n",
            " [ 7.8309991e-04 -1.0210404e-03  1.6860377e-04 ... -1.2138262e-03\n",
            "  -5.9362251e-04 -1.0061505e-03]]\n"
          ],
          "name": "stdout"
        }
      ]
    },
    {
      "cell_type": "code",
      "metadata": {
        "id": "B7zX9rg9iPC8",
        "colab_type": "code",
        "colab": {}
      },
      "source": [
        "#with open('/content/drive/My Drive/Uni/MMC/4. semester/CDA/data/doc2vec_vectors.pickle', 'wb') as f:\n",
        "#    pickle.dump(doc2vec_vectors, f)"
      ],
      "execution_count": 0,
      "outputs": []
    },
    {
      "cell_type": "markdown",
      "metadata": {
        "id": "ixiz-QtObXvC",
        "colab_type": "text"
      },
      "source": [
        "### AE model"
      ]
    },
    {
      "cell_type": "code",
      "metadata": {
        "id": "IO9kddMxmxBR",
        "colab_type": "code",
        "colab": {}
      },
      "source": [
        "with open('/content/gdrive/My Drive/Uni/MMC/4. semester/CDA/data/doc2vec_vectors.pickle','rb') as f:\n",
        "    doc2vec_vectors = pickle.load(f)"
      ],
      "execution_count": 0,
      "outputs": []
    },
    {
      "cell_type": "code",
      "metadata": {
        "id": "35M8Swt1m2UF",
        "colab_type": "code",
        "outputId": "1b0bdcf6-8247-4520-c1fa-619bd3e845af",
        "colab": {
          "base_uri": "https://localhost:8080/",
          "height": 238
        }
      },
      "source": [
        "print(doc2vec_vectors)"
      ],
      "execution_count": 0,
      "outputs": [
        {
          "output_type": "stream",
          "text": [
            "[[-1.3900460e-03 -5.1325356e-04 -4.2499384e-04 ...  1.4246573e-03\n",
            "  -1.0244491e-03  6.7322690e-04]\n",
            " [-6.4312393e-04  5.5483973e-04  8.6417113e-04 ...  1.1781782e-03\n",
            "  -3.5231624e-04 -1.5955511e-03]\n",
            " [ 8.0369238e-04  8.9146261e-04 -1.4031058e-03 ...  1.0899901e-05\n",
            "   1.4834588e-03 -1.2883655e-03]\n",
            " ...\n",
            " [-6.8049569e-04 -7.5754558e-04 -1.5944844e-03 ... -6.1966013e-04\n",
            "   4.9645163e-04 -1.3403239e-03]\n",
            " [-5.5599117e-05  2.0145916e-04 -6.9573754e-04 ... -1.5864819e-03\n",
            "  -6.4387819e-04  3.5761480e-04]\n",
            " [ 7.8309991e-04 -1.0210404e-03  1.6860377e-04 ... -1.2138262e-03\n",
            "  -5.9362251e-04 -1.0061505e-03]]\n"
          ],
          "name": "stdout"
        }
      ]
    },
    {
      "cell_type": "code",
      "metadata": {
        "id": "AvdDzVimrc7H",
        "colab_type": "code",
        "outputId": "99f53359-6141-4199-c764-071fa58baeee",
        "colab": {
          "base_uri": "https://localhost:8080/",
          "height": 34
        }
      },
      "source": [
        "#printing the shape. We see that all the documents have become af vector of length 300. \n",
        "doc2vec_vectors.shape"
      ],
      "execution_count": 0,
      "outputs": [
        {
          "output_type": "execute_result",
          "data": {
            "text/plain": [
              "(114013, 300)"
            ]
          },
          "metadata": {
            "tags": []
          },
          "execution_count": 9
        }
      ]
    },
    {
      "cell_type": "code",
      "metadata": {
        "id": "W0A2RrIR56nI",
        "colab_type": "code",
        "outputId": "9ae51959-915b-4811-f6ac-9b648ba9fdcb",
        "colab": {
          "base_uri": "https://localhost:8080/",
          "height": 374
        }
      },
      "source": [
        "df_m.head()"
      ],
      "execution_count": 0,
      "outputs": [
        {
          "output_type": "execute_result",
          "data": {
            "text/html": [
              "<div>\n",
              "<style scoped>\n",
              "    .dataframe tbody tr th:only-of-type {\n",
              "        vertical-align: middle;\n",
              "    }\n",
              "\n",
              "    .dataframe tbody tr th {\n",
              "        vertical-align: top;\n",
              "    }\n",
              "\n",
              "    .dataframe thead th {\n",
              "        text-align: right;\n",
              "    }\n",
              "</style>\n",
              "<table border=\"1\" class=\"dataframe\">\n",
              "  <thead>\n",
              "    <tr style=\"text-align: right;\">\n",
              "      <th></th>\n",
              "      <th>Starttid</th>\n",
              "      <th>Sluttid</th>\n",
              "      <th>Navn</th>\n",
              "      <th>Rolle</th>\n",
              "      <th>Tekst</th>\n",
              "      <th>Parti</th>\n",
              "      <th>Dato</th>\n",
              "      <th>Tekst_clean</th>\n",
              "      <th>T_Tekst</th>\n",
              "      <th>T_Tekst_stopw</th>\n",
              "      <th>T_Tekst_stopw_stem</th>\n",
              "    </tr>\n",
              "  </thead>\n",
              "  <tbody>\n",
              "    <tr>\n",
              "      <th>0</th>\n",
              "      <td>13:00:52.110000</td>\n",
              "      <td>13:05:42.060000</td>\n",
              "      <td>Karen J. Klint</td>\n",
              "      <td>medlem</td>\n",
              "      <td>Tak for det. Det er jo dejligt at se så fyldt ...</td>\n",
              "      <td>S</td>\n",
              "      <td>2011-09-30</td>\n",
              "      <td>tak for det det er jo dejligt at se så fyldt e...</td>\n",
              "      <td>['tak', 'for', 'det', 'det', 'er', 'jo', 'dejl...</td>\n",
              "      <td>['dejligt', 'se', 'fyldt', 'sal', 'publikumsbæ...</td>\n",
              "      <td>['dej', 'se', 'fyld', 'sal', 'publikumsbænk', ...</td>\n",
              "    </tr>\n",
              "    <tr>\n",
              "      <th>1</th>\n",
              "      <td>13:05:42.060000</td>\n",
              "      <td>13:06:52.970000</td>\n",
              "      <td>Karen J. Klint</td>\n",
              "      <td>medlem</td>\n",
              "      <td>Vedrørende valget i Grønland indstiller et eni...</td>\n",
              "      <td>S</td>\n",
              "      <td>2011-09-30</td>\n",
              "      <td>vedrørende valget i grønland indstiller et eni...</td>\n",
              "      <td>['vedrørende', 'valget', 'i', 'grønland', 'ind...</td>\n",
              "      <td>['vedrørende', 'valget', 'grønland', 'indstill...</td>\n",
              "      <td>['vedrør', 'valg', 'grønland', 'indstil', 'eni...</td>\n",
              "    </tr>\n",
              "    <tr>\n",
              "      <th>2</th>\n",
              "      <td>13:01:23.263000</td>\n",
              "      <td>13:03:10.263000</td>\n",
              "      <td>John Dyrby Paulsen</td>\n",
              "      <td>medlem</td>\n",
              "      <td>Tak for det. Jeg står her med en rapport fra F...</td>\n",
              "      <td>S</td>\n",
              "      <td>2011-03-02</td>\n",
              "      <td>tak for det jeg står her med en rapport fra fo...</td>\n",
              "      <td>['tak', 'for', 'det', 'jeg', 'står', 'her', 'm...</td>\n",
              "      <td>['står', 'rapport', 'forsvarets', 'færdselssik...</td>\n",
              "      <td>['står', 'rapport', 'forsvar', 'færdselssikker...</td>\n",
              "    </tr>\n",
              "    <tr>\n",
              "      <th>3</th>\n",
              "      <td>13:03:11.407000</td>\n",
              "      <td>13:04:19.743000</td>\n",
              "      <td>Gitte Lillelund Bech</td>\n",
              "      <td>minister</td>\n",
              "      <td>Jeg takker for spørgsmålet. Hr. John Dyrby Pau...</td>\n",
              "      <td>V</td>\n",
              "      <td>2011-03-02</td>\n",
              "      <td>jeg takker for spørgsmålet hr john dyrby pauls...</td>\n",
              "      <td>['jeg', 'takker', 'for', 'spørgsmålet', 'hr', ...</td>\n",
              "      <td>['takker', 'john', 'dyrby', 'paulsen', 'fuldst...</td>\n",
              "      <td>['tak', 'john', 'dyrby', 'pauls', 'fuldstænd',...</td>\n",
              "    </tr>\n",
              "    <tr>\n",
              "      <th>4</th>\n",
              "      <td>13:04:20.913000</td>\n",
              "      <td>13:05:18.180000</td>\n",
              "      <td>John Dyrby Paulsen</td>\n",
              "      <td>medlem</td>\n",
              "      <td>Tak for svaret. Det er jeg jo enig med ministe...</td>\n",
              "      <td>S</td>\n",
              "      <td>2011-03-02</td>\n",
              "      <td>tak for svaret det er jeg jo enig med minister...</td>\n",
              "      <td>['tak', 'for', 'svaret', 'det', 'er', 'jeg', '...</td>\n",
              "      <td>['svaret', 'enig', 'svært', 'uenig', 'underlig...</td>\n",
              "      <td>['svar', 'enig', 'svært', 'uen', 'under', 'rap...</td>\n",
              "    </tr>\n",
              "  </tbody>\n",
              "</table>\n",
              "</div>"
            ],
            "text/plain": [
              "          Starttid  ...                                 T_Tekst_stopw_stem\n",
              "0  13:00:52.110000  ...  ['dej', 'se', 'fyld', 'sal', 'publikumsbænk', ...\n",
              "1  13:05:42.060000  ...  ['vedrør', 'valg', 'grønland', 'indstil', 'eni...\n",
              "2  13:01:23.263000  ...  ['står', 'rapport', 'forsvar', 'færdselssikker...\n",
              "3  13:03:11.407000  ...  ['tak', 'john', 'dyrby', 'pauls', 'fuldstænd',...\n",
              "4  13:04:20.913000  ...  ['svar', 'enig', 'svært', 'uen', 'under', 'rap...\n",
              "\n",
              "[5 rows x 11 columns]"
            ]
          },
          "metadata": {
            "tags": []
          },
          "execution_count": 10
        }
      ]
    },
    {
      "cell_type": "code",
      "metadata": {
        "id": "tHvLWIHL6KmS",
        "colab_type": "code",
        "outputId": "32560105-4d0e-4216-e911-d8b4b237e435",
        "colab": {
          "base_uri": "https://localhost:8080/",
          "height": 54
        }
      },
      "source": [
        "df_m.iloc[0,4]"
      ],
      "execution_count": 0,
      "outputs": [
        {
          "output_type": "execute_result",
          "data": {
            "text/plain": [
              "'Tak for det. Det er jo dejligt at se så fyldt en sal og publikumsbænkene. Det er også en højtidelig dag.Som formand for Udvalget til Prøvelse af Valgene kan jeg oplyse følgende om udvalgets arbejde, idet jeg samtidig skal henvise til den offentliggjorte betænkning og indstillingerne:Arbejdet har som sædvanlig vedrørt tre spørgsmål.For det første har det vedrørt spørgsmålet om gyldighed af valghandlingen, herunder valgets forberedelse, stemmeafgivelsen, optællingen af selve stemmesedlerne, vurderingen af dem samt valgbøgerne og disses førelse m.m.For det andet har det vedrørt spørgsmålet om godkendelse af ændringer af de af Indenrigs- og Sundhedsministeriets foretagne opgørelser og beregninger. For det tredje har det vedrørt spørgsmålet om godkendelse af de kandidater, der har opnået valg.Om gyldigheden af valghandlingen kan jeg sige, at vi i udvalget har gennemgået Indenrigs- og Sundhedsministeriets redegørelse, der indeholder de bemærkninger, som gennemgangen af valgbogsudskrifterne har givet ministeriet anledning til. Hvert valg har sine udfordringer. Det lige overståede valg havde dog nogle, vi ikke har set før – situationer, der alle er løst kvalificeret af kommunerne og af valgbestyrelserne. Jeg vil så tillade mig at nævne et par af dem her:Ved gennemgangen af ministeriets redegørelse har udvalget særlig bemærket, at det i valgbogen for Guldborgsundkredsen er oplyst, at et afstemningssted måtte flyttes på selve valgdagen på grund af sundhedsskadelige omstændigheder. Det lykkedes at flytte afstemningsstedet på mindre end 2½ time. Endvidere blev der taget forholdsregler, der sikrede, at vælgerne ikke gik forgæves til det oprindelige afstemningssted. I valgbogen for Middelfartkredsen er det oplyst, at 121 brevstemmer gik tabt på grund af brand i Søndersø Rådhus. Det lykkedes dog kommunen at identificere de pågældende brevstemmeafgivere, som fik mulighed for at stemme på ny. I valghåndbogen for Københavns Storkreds, 7. kreds, Brønshøj, er anført en bemærkning om, at man på afstemningsstedet 7. kreds Nord, Tingbjerg, valgdagen igennem oplevede en mindre gruppe af personer, der opfordrede vælgerne til at undlade at stemme. Valgbestyrelsen var løbende i dialog med den pågældende gruppe og politiet. Sidste hændelsesforløb fremgår også af en af de klager, udvalget har behandlet. Når jeg nævner dem, er det for at rose de valgbestyrelser og de kommuner, der har håndteret nogle atypiske situationer, og det synes jeg godt at vi som Folketing kan være stolte af.Vi har i alt i udvalget forholdt os til 33 klager og henvendelser vedrørende valghandlingen, der har foreligget i forbindelse med folketingsvalget 2011. Ingen af de modtagne klager giver anledning til at så tvivl om valgets resultat.Med hensyn til udvalgets indstilling til de modtagne klager skal jeg henvise til betænkningen, hvori alle klager er oplistet og kommenteret. Jeg vil tillade mig kort her kun at gøre opmærksom på to af udvalgets bemærkninger:Flere af klagerne omhandler håndtering af brevafstemningen. Udvalgets bemærkning til Indenrigs- og Sundhedsministeriet går på at overveje, hvorvidt regler, vejledninger m.v. omkring brevafstemning kan forbedres, herunder overveje, om der skal være et fast klokkeslæt for sidste frist for afgivning af brevstemmerne.Et par klager vedrørende agitation m.v. nær et valgsted har vi også forholdt os til, og udvalgets bemærkning til Indenrigs- og Sundhedsministeriet går på at overveje, hvorvidt reglerne for agitation m.m. nær et valgsted eventuelt bør revurderes.Vedrørende spørgsmålet om godkendelse af Indenrigs- og Sundhedsministeriets opgørelse og beregninger har udvalget behandlet godkendelsen af disse, og de samlede opgørelser og beregninger har ikke givet anledning til bemærkninger fra udvalget. Hvad angår spørgsmålet om godkendelse af de valgte har udvalget følgende indstilling:Vedrørende valget i Danmark indstiller udvalget i enighed, at Folketinget godkender det den 15. september 2011 afholdte valg af medlemmer til Folketinget, de af Indenrigs- og Sundhedsministeriet den 28. september 2011 fremsendte beregninger og opgørelser vedrørende dette valg og de på den omdelte særskilte valgkredsfortegnelse opførte 175 kandidater som valgte fra og med den 15. september 2011.'"
            ]
          },
          "metadata": {
            "tags": []
          },
          "execution_count": 11
        }
      ]
    },
    {
      "cell_type": "code",
      "metadata": {
        "id": "nLdgqTUN51-x",
        "colab_type": "code",
        "outputId": "edaffa4b-9419-4f32-e70e-8edfba43eee5",
        "colab": {
          "base_uri": "https://localhost:8080/",
          "height": 1000
        }
      },
      "source": [
        "doc2vec_vectors[0]"
      ],
      "execution_count": 0,
      "outputs": [
        {
          "output_type": "execute_result",
          "data": {
            "text/plain": [
              "matrix([[-1.39004597e-03, -5.13253559e-04, -4.24993836e-04,\n",
              "         -6.29114365e-05,  1.78627306e-04,  1.28803332e-03,\n",
              "          1.37633900e-03, -1.21991651e-03, -1.18092413e-03,\n",
              "          1.63272803e-03, -6.31046423e-05,  1.52743049e-03,\n",
              "         -5.96245809e-04, -7.56697205e-04, -2.51850521e-04,\n",
              "         -1.08740211e-03,  5.36573178e-04,  3.47554276e-04,\n",
              "          1.42035412e-03, -5.25934214e-04, -1.22946803e-03,\n",
              "         -6.60775171e-04, -1.38018210e-03, -7.85143347e-04,\n",
              "          1.29511056e-03, -9.82635189e-04, -4.48953273e-04,\n",
              "         -4.17219038e-04, -1.52547110e-03, -5.60375163e-04,\n",
              "          1.35692453e-03, -8.41386558e-04, -1.54563913e-03,\n",
              "          1.27495721e-03, -1.45790598e-03,  6.27494534e-04,\n",
              "         -9.80174053e-04, -1.85663797e-04,  1.62734836e-03,\n",
              "         -9.49979352e-04,  9.06645000e-05,  1.31174317e-03,\n",
              "         -1.25649749e-04,  5.85229718e-04, -5.01846662e-04,\n",
              "          1.59834337e-03,  3.03631532e-04,  6.00258121e-04,\n",
              "         -6.53562951e-04, -7.56602909e-04,  1.00404397e-03,\n",
              "          1.23235618e-03,  4.53388602e-05, -1.00383605e-03,\n",
              "         -1.35978591e-03, -6.41386781e-04,  1.51307858e-03,\n",
              "          1.06813433e-03,  1.56490467e-04,  1.06966414e-04,\n",
              "         -5.66983595e-04,  1.36447733e-03, -1.41025998e-03,\n",
              "          1.48280582e-04, -1.71929511e-04, -6.76653057e-04,\n",
              "          7.95610831e-04,  3.64596228e-04,  1.38057175e-03,\n",
              "          1.51942263e-03, -8.85636196e-04,  1.03778893e-03,\n",
              "          4.18440002e-04,  9.71035159e-04,  6.62708539e-04,\n",
              "          7.96872133e-04, -1.47330051e-03,  1.52454828e-03,\n",
              "         -2.32768682e-04,  1.39415351e-04, -1.31644588e-03,\n",
              "          1.26878754e-03, -1.13053177e-03,  7.71558320e-04,\n",
              "         -1.39248557e-03,  1.14270602e-03, -8.55393766e-04,\n",
              "          1.47229747e-03, -5.97104881e-05, -2.49883858e-04,\n",
              "          1.06218003e-03,  3.72081267e-04, -1.62271550e-03,\n",
              "          5.46082039e-04,  1.02785986e-03, -7.52347638e-04,\n",
              "          1.03925203e-03, -5.49422111e-04,  7.74803222e-04,\n",
              "          8.09887206e-05,  6.61677841e-05,  1.32400892e-03,\n",
              "         -1.58379436e-03,  1.25952225e-04,  2.16575107e-04,\n",
              "         -1.14284328e-03,  1.48241303e-03,  7.46849284e-04,\n",
              "          1.34218077e-03, -1.45445089e-03, -9.10497969e-04,\n",
              "          1.28386531e-03, -2.40707566e-04, -1.14660501e-03,\n",
              "         -1.50627200e-03,  7.78043061e-04, -8.35641404e-04,\n",
              "          1.05619070e-03,  2.43936898e-04, -7.65796576e-04,\n",
              "         -6.43376436e-04, -6.61143858e-04,  1.11659057e-03,\n",
              "          1.49193255e-03, -1.62018172e-03,  3.09814262e-04,\n",
              "          1.45017670e-03,  1.45921228e-03,  5.97746330e-05,\n",
              "         -8.84358888e-04,  1.01342110e-03, -1.18178281e-03,\n",
              "          1.47503032e-03, -4.48912906e-04, -2.40760273e-05,\n",
              "          4.72259941e-04, -4.75346344e-04, -1.53358816e-03,\n",
              "         -1.07197429e-03, -2.48095370e-04, -3.54505173e-05,\n",
              "          2.20060319e-04,  1.30465414e-04,  9.14096367e-04,\n",
              "          4.88022430e-04,  1.66270445e-04,  1.06929347e-03,\n",
              "          1.61229793e-04, -1.25213090e-04,  1.20226631e-03,\n",
              "          2.37936212e-04, -1.04665256e-03,  1.40312547e-03,\n",
              "          6.44415617e-04,  1.32617063e-03, -1.38837972e-03,\n",
              "         -2.30952253e-04,  3.63835105e-04,  1.11291814e-03,\n",
              "         -1.01301994e-03, -1.46332313e-03, -1.88550242e-04,\n",
              "          1.59577222e-03,  2.68826872e-04, -1.36838434e-03,\n",
              "          1.36607874e-03, -2.91495409e-04,  2.19684196e-04,\n",
              "          2.81486515e-04, -1.47299038e-03,  1.58856157e-03,\n",
              "          5.37533429e-04, -1.33343728e-03,  1.26275211e-03,\n",
              "         -2.71384575e-04,  8.03471310e-04,  1.17289729e-03,\n",
              "         -7.70303770e-04, -9.74370458e-04,  4.40652548e-05,\n",
              "         -6.94713613e-04, -1.65485160e-03, -7.96272128e-04,\n",
              "          1.65486534e-03, -1.22903485e-03,  1.16762414e-03,\n",
              "          8.06449214e-04, -1.38346467e-03, -1.46479486e-03,\n",
              "         -7.69207370e-04,  3.55123630e-05,  5.08696714e-04,\n",
              "          3.24844266e-04,  1.59907353e-03, -3.69241956e-04,\n",
              "         -4.91521438e-04, -1.43819244e-03, -9.06327259e-05,\n",
              "         -9.01517924e-04, -1.13468023e-03, -1.08779548e-03,\n",
              "         -1.17690361e-03,  1.01026194e-03, -9.33029864e-04,\n",
              "          2.82673253e-04,  1.57571374e-03, -9.05601133e-04,\n",
              "          1.54337136e-03, -8.31314013e-04, -5.46806958e-04,\n",
              "          1.28583005e-03,  7.28088839e-04, -7.08015170e-04,\n",
              "          1.25159079e-03, -1.66341488e-03,  4.66737780e-04,\n",
              "          1.62046484e-03,  8.36018065e-04,  1.88661274e-04,\n",
              "         -1.57361396e-03, -1.19587698e-03, -1.54276402e-03,\n",
              "         -7.52369990e-04,  2.61225738e-04, -1.52468553e-03,\n",
              "          7.96907116e-04, -9.13232041e-04, -1.63779024e-03,\n",
              "         -6.65210362e-04,  1.39503740e-04, -1.17645704e-03,\n",
              "         -3.45371693e-04, -3.47174966e-04, -8.46745505e-04,\n",
              "          1.12745969e-03, -1.21407001e-03, -9.54765885e-04,\n",
              "          4.20310564e-04,  1.12717575e-03,  9.52937466e-04,\n",
              "          1.29701477e-03, -1.35970942e-04, -5.56260929e-04,\n",
              "          1.73451917e-05,  1.13159709e-03,  1.09064335e-03,\n",
              "         -7.74167653e-04, -1.40265867e-04,  1.39609026e-03,\n",
              "          9.34170850e-04,  6.30466850e-04,  8.91349977e-04,\n",
              "         -1.27986108e-03,  4.29672131e-04,  3.58835823e-05,\n",
              "          1.18320633e-03,  2.71591067e-04,  1.63668103e-03,\n",
              "         -8.42329639e-04, -1.35334942e-03,  1.03356631e-03,\n",
              "          1.31599966e-03, -3.81083199e-04,  5.71504177e-04,\n",
              "          1.12989196e-03,  7.03150290e-04,  8.73601821e-04,\n",
              "         -5.18124609e-04,  1.42923801e-03,  7.17133575e-04,\n",
              "          3.18733568e-04, -4.63128614e-04, -1.45922927e-03,\n",
              "          1.09753862e-03,  9.27927380e-04, -7.65123870e-04,\n",
              "          1.65501947e-03,  1.61796459e-03, -1.12981093e-03,\n",
              "         -5.26760647e-04,  1.05588173e-03,  8.79323270e-05,\n",
              "          1.29642291e-03, -3.67503002e-04,  1.56430539e-03,\n",
              "          3.43991924e-05,  1.26945460e-03,  5.85641072e-04,\n",
              "          7.06821796e-04, -1.18285441e-03, -5.98255603e-04,\n",
              "          5.42803435e-04, -2.68269825e-04,  7.21059216e-04,\n",
              "          7.10688008e-04, -1.55207980e-03,  7.69489736e-04,\n",
              "          1.42465730e-03, -1.02444913e-03,  6.73226896e-04]],\n",
              "       dtype=float32)"
            ]
          },
          "metadata": {
            "tags": []
          },
          "execution_count": 12
        }
      ]
    },
    {
      "cell_type": "markdown",
      "metadata": {
        "id": "xvE8JaATpFQn",
        "colab_type": "text"
      },
      "source": [
        "Another article for using AE for outlier detection: https://towardsdatascience.com/auto-encoder-what-is-it-and-what-is-it-used-for-part-1-3e5c6f017726\n",
        "\n",
        "Apparently, for unsupervised learning, X goes into both X and y. "
      ]
    },
    {
      "cell_type": "code",
      "metadata": {
        "id": "KpZaJvWOsMb6",
        "colab_type": "code",
        "colab": {}
      },
      "source": [
        "#Documentation for MLPRegressor: https://scikit-learn.org/stable/modules/generated/sklearn.neural_network.MLPRegressor.html"
      ],
      "execution_count": 0,
      "outputs": []
    },
    {
      "cell_type": "code",
      "metadata": {
        "id": "Ly4VgzG0pMv1",
        "colab_type": "code",
        "colab": {}
      },
      "source": [
        "#defining the autoencoder\n",
        "auto_encoder = MLPRegressor(hidden_layer_sizes=(\n",
        "                                                 200,\n",
        "                                                 100, \n",
        "                                                 200,\n",
        "                                               ),batch_size=1024, max_iter=20, verbose=1)"
      ],
      "execution_count": 0,
      "outputs": []
    },
    {
      "cell_type": "markdown",
      "metadata": {
        "id": "6uRLpxoFGG9A",
        "colab_type": "text"
      },
      "source": [
        "#### Training"
      ]
    },
    {
      "cell_type": "code",
      "metadata": {
        "id": "BAKDCLnkrpZg",
        "colab_type": "code",
        "outputId": "b8a0f258-ddbc-4f36-a8c7-e1be46e35d57",
        "colab": {
          "base_uri": "https://localhost:8080/",
          "height": 289
        }
      },
      "source": [
        "#fitting the autoencoder. Normally, .fit(X,y), but since this is unsupervised, we will fit the doc2vec_vectors in both \n",
        "#X and y\n",
        "auto_encoder.fit(doc2vec_vectors, doc2vec_vectors)\n",
        "predicted_vectors = auto_encoder.predict(doc2vec_vectors)"
      ],
      "execution_count": 0,
      "outputs": [
        {
          "output_type": "stream",
          "text": [
            "Iteration 1, loss = 0.00410984\n",
            "Iteration 2, loss = 0.00087304\n",
            "Iteration 3, loss = 0.00069755\n",
            "Iteration 4, loss = 0.00055653\n",
            "Iteration 5, loss = 0.00047083\n",
            "Iteration 6, loss = 0.00049310\n",
            "Iteration 7, loss = 0.00048954\n",
            "Iteration 8, loss = 0.00056503\n",
            "Iteration 9, loss = 0.00050168\n",
            "Iteration 10, loss = 0.00040587\n",
            "Iteration 11, loss = 0.00034262\n",
            "Iteration 12, loss = 0.00035327\n",
            "Iteration 13, loss = 0.00038289\n",
            "Iteration 14, loss = 0.00043459\n",
            "Iteration 15, loss = 0.00032112\n",
            "Training loss did not improve more than tol=0.000100 for 10 consecutive epochs. Stopping.\n"
          ],
          "name": "stdout"
        }
      ]
    },
    {
      "cell_type": "code",
      "metadata": {
        "id": "Ryyp5gnKry7i",
        "colab_type": "code",
        "outputId": "b2fab6ef-4d94-4679-a7aa-8bdac6047d06",
        "colab": {
          "base_uri": "https://localhost:8080/",
          "height": 181
        }
      },
      "source": [
        "ae_s = auto_encoder.score(predicted_vectors, doc2vec_vectors)\n",
        "print('Score', ae_s)"
      ],
      "execution_count": 0,
      "outputs": [
        {
          "output_type": "error",
          "ename": "NameError",
          "evalue": "ignored",
          "traceback": [
            "\u001b[0;31m---------------------------------------------------------------------------\u001b[0m",
            "\u001b[0;31mNameError\u001b[0m                                 Traceback (most recent call last)",
            "\u001b[0;32m<ipython-input-31-cfd3a917f6eb>\u001b[0m in \u001b[0;36m<module>\u001b[0;34m()\u001b[0m\n\u001b[0;32m----> 1\u001b[0;31m \u001b[0mae_s\u001b[0m \u001b[0;34m=\u001b[0m \u001b[0mauto_encoder\u001b[0m\u001b[0;34m.\u001b[0m\u001b[0mscore\u001b[0m\u001b[0;34m(\u001b[0m\u001b[0mpredicted_vectors\u001b[0m\u001b[0;34m,\u001b[0m \u001b[0mdoc2vec_vectors\u001b[0m\u001b[0;34m)\u001b[0m\u001b[0;34m\u001b[0m\u001b[0;34m\u001b[0m\u001b[0m\n\u001b[0m\u001b[1;32m      2\u001b[0m \u001b[0mprint\u001b[0m\u001b[0;34m(\u001b[0m\u001b[0;34m'Score'\u001b[0m\u001b[0;34m,\u001b[0m \u001b[0mae_s\u001b[0m\u001b[0;34m)\u001b[0m\u001b[0;34m\u001b[0m\u001b[0;34m\u001b[0m\u001b[0m\n",
            "\u001b[0;31mNameError\u001b[0m: name 'predicted_vectors' is not defined"
          ]
        }
      ]
    },
    {
      "cell_type": "code",
      "metadata": {
        "id": "YJyuWe8VuqFJ",
        "colab_type": "code",
        "outputId": "7c8dcf54-9090-4a90-cd35-62f1b623b6ce",
        "colab": {
          "base_uri": "https://localhost:8080/",
          "height": 34
        }
      },
      "source": [
        "#saving the model\n",
        "#joblib.dump(auto_encoder, '/content/drive/My Drive/Uni/MMC/4. semester/CDA/data/AE_300_200_100.pkl')"
      ],
      "execution_count": 0,
      "outputs": [
        {
          "output_type": "execute_result",
          "data": {
            "text/plain": [
              "['/content/drive/My Drive/Uni/MMC/4. semester/CDA/data/AE_300_200_100.pkl']"
            ]
          },
          "metadata": {
            "tags": []
          },
          "execution_count": 21
        }
      ]
    },
    {
      "cell_type": "markdown",
      "metadata": {
        "id": "uAfPn9hBv1vy",
        "colab_type": "text"
      },
      "source": [
        "### Finding outlier speeches"
      ]
    },
    {
      "cell_type": "code",
      "metadata": {
        "id": "9Y3trYlM_1j3",
        "colab_type": "code",
        "colab": {}
      },
      "source": [
        "#resetting the index om df_m \n",
        "#df_m = df_m.reset_index().iloc[:,1:]\n",
        "df_m = pd.read_csv('/content/gdrive/My Drive/Uni/MMC/4. semester/CDA/data/DPC_speeches_processed.csv')\n",
        "df_m = df_m.reset_index().iloc[:,2:]"
      ],
      "execution_count": 0,
      "outputs": []
    },
    {
      "cell_type": "code",
      "metadata": {
        "id": "fmFPRgEKvj68",
        "colab_type": "code",
        "outputId": "a7cc4314-df4d-4549-c9be-6b9ddb211884",
        "colab": {
          "base_uri": "https://localhost:8080/",
          "height": 88
        }
      },
      "source": [
        "#Load the model:\n",
        "ae_ = joblib.load('/content/gdrive/My Drive/Uni/MMC/4. semester/CDA/data/AE_300_200_100.pkl')\n",
        "\n",
        "#define predicted vectors\n",
        "predicted_vectors = ae_.predict(doc2vec_vectors)\n",
        "ae_.score(predicted_vectors, doc2vec_vectors)"
      ],
      "execution_count": 0,
      "outputs": [
        {
          "output_type": "stream",
          "text": [
            "/usr/local/lib/python3.6/dist-packages/sklearn/base.py:434: FutureWarning: The default value of multioutput (not exposed in score method) will change from 'variance_weighted' to 'uniform_average' in 0.23 to keep consistent with 'metrics.r2_score'. To specify the default value manually and avoid the warning, please either call 'metrics.r2_score' directly or make a custom scorer with 'metrics.make_scorer' (the built-in scorer 'r2' uses multioutput='uniform_average').\n",
            "  \"multioutput='uniform_average').\", FutureWarning)\n"
          ],
          "name": "stderr"
        },
        {
          "output_type": "execute_result",
          "data": {
            "text/plain": [
              "0.9445262901050916"
            ]
          },
          "metadata": {
            "tags": []
          },
          "execution_count": 16
        }
      ]
    },
    {
      "cell_type": "code",
      "metadata": {
        "id": "g4hhS4l2cTzh",
        "colab_type": "code",
        "outputId": "11b0faf0-a745-4d1d-963e-136ea3d418ee",
        "colab": {
          "base_uri": "https://localhost:8080/",
          "height": 136
        }
      },
      "source": [
        "auto_encoder"
      ],
      "execution_count": 0,
      "outputs": [
        {
          "output_type": "execute_result",
          "data": {
            "text/plain": [
              "MLPRegressor(activation='relu', alpha=0.0001, batch_size=1024, beta_1=0.9,\n",
              "             beta_2=0.999, early_stopping=False, epsilon=1e-08,\n",
              "             hidden_layer_sizes=(200, 100, 200), learning_rate='constant',\n",
              "             learning_rate_init=0.001, max_fun=15000, max_iter=20, momentum=0.9,\n",
              "             n_iter_no_change=10, nesterovs_momentum=True, power_t=0.5,\n",
              "             random_state=None, shuffle=True, solver='adam', tol=0.0001,\n",
              "             validation_fraction=0.1, verbose=1, warm_start=False)"
            ]
          },
          "metadata": {
            "tags": []
          },
          "execution_count": 17
        }
      ]
    },
    {
      "cell_type": "code",
      "metadata": {
        "id": "o36d8pMfcE5H",
        "colab_type": "code",
        "outputId": "dadc6e1e-47a4-44c0-a3ad-72c47c122426",
        "colab": {
          "base_uri": "https://localhost:8080/",
          "height": 34
        }
      },
      "source": [
        "ae_.loss_"
      ],
      "execution_count": 0,
      "outputs": [
        {
          "output_type": "execute_result",
          "data": {
            "text/plain": [
              "0.00032111727231550055"
            ]
          },
          "metadata": {
            "tags": []
          },
          "execution_count": 18
        }
      ]
    },
    {
      "cell_type": "code",
      "metadata": {
        "id": "GnQ9xxY3uMbz",
        "colab_type": "code",
        "outputId": "86eea5dd-576f-4118-ab12-6e4b7541dbb3",
        "colab": {
          "base_uri": "https://localhost:8080/",
          "height": 282
        }
      },
      "source": [
        "pd.DataFrame(ae_.loss_curve_).plot()"
      ],
      "execution_count": 0,
      "outputs": [
        {
          "output_type": "execute_result",
          "data": {
            "text/plain": [
              "<matplotlib.axes._subplots.AxesSubplot at 0x7fbf37438b38>"
            ]
          },
          "metadata": {
            "tags": []
          },
          "execution_count": 19
        },
        {
          "output_type": "display_data",
          "data": {
            "image/png": "[encoded data removed]",
            "text/plain": [
              "<Figure size 432x288 with 1 Axes>"
            ]
          },
          "metadata": {
            "tags": [],
            "needs_background": "light"
          }
        }
      ]
    },
    {
      "cell_type": "code",
      "metadata": {
        "id": "Vm7rfp0TuU7q",
        "colab_type": "code",
        "colab": {}
      },
      "source": [
        "#printing the most outlier speeches:\n",
        "def key_consine_similarity(tupple):\n",
        "    return tupple[1]\n",
        "\n",
        "def get_computed_similarities(vectors, predicted_vectors, reverse=False):\n",
        "    data_size = len(df_m)\n",
        "    cosine_similarities = []\n",
        "    for i in range(data_size):\n",
        "        cosine_sim_val = (1 - cosine(vectors[i], predicted_vectors[i]))\n",
        "        cosine_similarities.append((i, cosine_sim_val))\n",
        "\n",
        "    return sorted(cosine_similarities, key=key_consine_similarity, reverse=reverse)\n",
        "\n",
        "def display_top_n(sorted_cosine_similarities, n=5):\n",
        "    speech_date = []\n",
        "    speech_person = []\n",
        "    for i in range(n):\n",
        "        index, consine_sim_val = sorted_cosine_similarities[i]\n",
        "        print('Date of speech: ', df_m.iloc[index, 6],df_m.iloc[index, 0])\n",
        "        speech_date.append((df_m.iloc[index, 6],df_m.iloc[index, 0]))\n",
        "        print('Speech by: ', df_m.iloc[index, 2], df_m.iloc[index, 5])\n",
        "        speech_person.append((df_m.iloc[index, 2],df_m.iloc[index, 5]))\n",
        "        print('Cosine Sim Val :', consine_sim_val)\n",
        "        print('---------------------------------')\n",
        "\n",
        "    return(speech_date, speech_person)"
      ],
      "execution_count": 0,
      "outputs": []
    },
    {
      "cell_type": "code",
      "metadata": {
        "id": "62AT-3MLwI-n",
        "colab_type": "code",
        "outputId": "82c6d41d-8722-4bb3-8dfc-9116c77b53de",
        "colab": {
          "base_uri": "https://localhost:8080/",
          "height": 714
        }
      },
      "source": [
        "print('Top 10 most unique speeches in Folketinget')\n",
        "sorted_cosine_similarities = get_computed_similarities(vectors=doc2vec_vectors, predicted_vectors=predicted_vectors)\n",
        "date, person = display_top_n(sorted_cosine_similarities=sorted_cosine_similarities, n=10)"
      ],
      "execution_count": 0,
      "outputs": [
        {
          "output_type": "stream",
          "text": [
            "Top 10 most unique speeches in Folketinget\n",
            "Date of speech:  2012-05-15 21:55:40.190000\n",
            "Speech by:  Christine Antorini S\n",
            "Cosine Sim Val : -0.2745416535718954\n",
            "---------------------------------\n",
            "Date of speech:  2013-12-05 13:29:53.427000\n",
            "Speech by:  Stine Brix EL\n",
            "Cosine Sim Val : -0.2621228777603084\n",
            "---------------------------------\n",
            "Date of speech:  2010-02-05 12:31:53.037000\n",
            "Speech by:  Christian H. Hansen UFG\n",
            "Cosine Sim Val : -0.25793147251320425\n",
            "---------------------------------\n",
            "Date of speech:  2012-10-23 13:58:29.433000\n",
            "Speech by:  Mai Henriksen nan\n",
            "Cosine Sim Val : -0.23184202946833388\n",
            "---------------------------------\n",
            "Date of speech:  2011-12-20 15:54:51.270000\n",
            "Speech by:  Anne Baastrup SF\n",
            "Cosine Sim Val : -0.2243537877948656\n",
            "---------------------------------\n",
            "Date of speech:  2010-01-26 15:33:28.757000\n",
            "Speech by:  Per Ørum Jørgensen KD\n",
            "Cosine Sim Val : -0.21562379226167216\n",
            "---------------------------------\n",
            "Date of speech:  2010-11-18 13:56:07.410000\n",
            "Speech by:  Peter Westermann SF\n",
            "Cosine Sim Val : -0.21457424016686222\n",
            "---------------------------------\n",
            "Date of speech:  2010-01-13 18:04:47.190000\n",
            "Speech by:  Bertel Haarder V\n",
            "Cosine Sim Val : -0.21305774266377075\n",
            "---------------------------------\n",
            "Date of speech:  2013-05-29 20:07:55.140000\n",
            "Speech by:  Thomas Danielsen V\n",
            "Cosine Sim Val : -0.21145007266064497\n",
            "---------------------------------\n",
            "Date of speech:  2013-10-03 13:55:00.503000\n",
            "Speech by:  Kristian Thulesen Dahl S\n",
            "Cosine Sim Val : -0.20983866534976503\n",
            "---------------------------------\n"
          ],
          "name": "stdout"
        }
      ]
    },
    {
      "cell_type": "markdown",
      "metadata": {
        "id": "YbT6UG5nyMBG",
        "colab_type": "text"
      },
      "source": [
        "### Validating results"
      ]
    },
    {
      "cell_type": "markdown",
      "metadata": {
        "id": "k_Vr_p8PMXKR",
        "colab_type": "text"
      },
      "source": [
        "#### Distribution"
      ]
    },
    {
      "cell_type": "code",
      "metadata": {
        "id": "KmxevyXqMfrQ",
        "colab_type": "code",
        "colab": {}
      },
      "source": [
        "sim = pd.DataFrame(sorted_cosine_similarities,columns = ['idx','Similarity'])"
      ],
      "execution_count": 0,
      "outputs": []
    },
    {
      "cell_type": "code",
      "metadata": {
        "id": "E_6F4oieMfA_",
        "colab_type": "code",
        "outputId": "14005b63-8d35-4023-8c36-e25b529496c9",
        "colab": {
          "base_uri": "https://localhost:8080/",
          "height": 279
        }
      },
      "source": [
        "sns.distplot(sim['Similarity'],bins=20);#.savefig('/content/gdrive/My Drive/Uni/MMC/4. semester/CDA/plots/dist.png')"
      ],
      "execution_count": 0,
      "outputs": [
        {
          "output_type": "display_data",
          "data": {
            "image/png": "[encoded data removed]",
            "text/plain": [
              "<Figure size 432x288 with 1 Axes>"
            ]
          },
          "metadata": {
            "tags": [],
            "needs_background": "light"
          }
        }
      ]
    },
    {
      "cell_type": "markdown",
      "metadata": {
        "id": "pZNimGfvMbpS",
        "colab_type": "text"
      },
      "source": [
        "#### Speeches"
      ]
    },
    {
      "cell_type": "code",
      "metadata": {
        "id": "bhKTJH_ZyOIq",
        "colab_type": "code",
        "outputId": "5b0d9d8c-5987-4862-c45b-bda8b2b687c5",
        "colab": {
          "base_uri": "https://localhost:8080/",
          "height": 187
        }
      },
      "source": [
        "# we have the following persons speaking\n",
        "for i, date_ in enumerate(date):\n",
        "  print(date_, person[i])"
      ],
      "execution_count": 0,
      "outputs": [
        {
          "output_type": "stream",
          "text": [
            "('2012-05-15', '21:55:40.190000') ('Christine Antorini', 'S')\n",
            "('2013-12-05', '13:29:53.427000') ('Stine Brix', 'EL')\n",
            "('2010-02-05', '12:31:53.037000') ('Christian H. Hansen', 'UFG')\n",
            "('2012-10-23', '13:58:29.433000') ('Mai Henriksen', nan)\n",
            "('2011-12-20', '15:54:51.270000') ('Anne Baastrup', 'SF')\n",
            "('2010-01-26', '15:33:28.757000') ('Per Ørum Jørgensen', 'KD')\n",
            "('2010-11-18', '13:56:07.410000') ('Peter Westermann', 'SF')\n",
            "('2010-01-13', '18:04:47.190000') ('Bertel Haarder', 'V')\n",
            "('2013-05-29', '20:07:55.140000') ('Thomas Danielsen', 'V')\n",
            "('2013-10-03', '13:55:00.503000') ('Kristian Thulesen Dahl', 'S')\n"
          ],
          "name": "stdout"
        }
      ]
    },
    {
      "cell_type": "code",
      "metadata": {
        "id": "aoXSu7L10yB4",
        "colab_type": "code",
        "colab": {}
      },
      "source": [
        "#which outlier speech to look at\n",
        "top_x = 8"
      ],
      "execution_count": 0,
      "outputs": []
    },
    {
      "cell_type": "code",
      "metadata": {
        "id": "j8dAkscqGHpF",
        "colab_type": "code",
        "outputId": "2208e02d-8c01-4fc8-d251-b955f2ecb4f4",
        "colab": {
          "base_uri": "https://localhost:8080/",
          "height": 34
        }
      },
      "source": [
        "len(df_m[(df_m.Starttid == date[top_x-1][1]) & (df_m.Navn == person[top_x-1][0])].iloc[0,4])"
      ],
      "execution_count": 0,
      "outputs": [
        {
          "output_type": "execute_result",
          "data": {
            "text/plain": [
              "1370"
            ]
          },
          "metadata": {
            "tags": []
          },
          "execution_count": 26
        }
      ]
    },
    {
      "cell_type": "code",
      "metadata": {
        "id": "DZG3V21czF5M",
        "colab_type": "code",
        "outputId": "434611b8-83eb-4051-8830-5a0e3205c117",
        "colab": {
          "base_uri": "https://localhost:8080/",
          "height": 54
        }
      },
      "source": [
        "print(df_m[(df_m.Starttid == date[top_x-1][1]) & (df_m.Navn == person[top_x-1][0])].iloc[0,4])"
      ],
      "execution_count": 0,
      "outputs": [
        {
          "output_type": "stream",
          "text": [
            "Det er sådan, at antallet eller procentdelen af unge, som er under 40, og som har taget en ungdomsuddannelse, er faldet under højkonjunkturen. Jeg er overbevist om, at det er i gang med at stige nu. Det er også rigtigt, at hvis man kun tæller dem, der har en ungdomsuddannelse, er det gået lidt tilbage, og det ligger i øjeblikket omkring 80 pct. Det er fuldstændig rigtigt.Jeg er også helt sikker på, at da man fastsatte 85-procent-målsætningen for 2010, havde man ikke tænkt på, at der også var nogle, der tog en videregående uddannelse uden at have en ungdomsuddannelse. Derfor kan spørgeren jo have lidt ret i, at målsætningen ikke er nået, men så er det jo da en trøst, at der er så mange, som tager en videregående uddannelse uden at have en ungdomsuddannelse. Det tror jeg også spørgeren mener. Mit politiske mål er, at der er endnu flere end 5 pct., som får lov at gå den skæve vej til en videregående uddannelse.Sandheden er jo, at vores uddannelser er alt for stive. Optagelseskravene er alt for stive. Der er alt for mange, der bliver afvist, fordi de ikke har en studentereksamen osv. Lad os dog få lidt flere af de der skæve ind. Og hvis vi gør det, skal vi så ikke tælle dem med? Det skal vi da. Det er jeg da sikker på at en S-SF-regering også vil gøre. Så hvad skal vi med alt det her snak, når jeg har været fuldstændig åben og ærlig hele vejen igennem?\n"
          ],
          "name": "stdout"
        }
      ]
    },
    {
      "cell_type": "markdown",
      "metadata": {
        "id": "4yHvz7hx5RP5",
        "colab_type": "text"
      },
      "source": [
        "From just looking at the top 10 different speeches, there is nothing in particular that stands out. "
      ]
    },
    {
      "cell_type": "markdown",
      "metadata": {
        "id": "6JpAvVKN5K5u",
        "colab_type": "text"
      },
      "source": [
        "#### Checking anormalies over time"
      ]
    },
    {
      "cell_type": "code",
      "metadata": {
        "id": "nmME6-6MzuWm",
        "colab_type": "code",
        "outputId": "f6a1e9ff-ebb3-4cea-d19c-f7586fa5ad6b",
        "colab": {
          "base_uri": "https://localhost:8080/",
          "height": 34
        }
      },
      "source": [
        "#checking that we have observations for all speeches\n",
        "len(sorted_cosine_similarities)"
      ],
      "execution_count": 0,
      "outputs": [
        {
          "output_type": "execute_result",
          "data": {
            "text/plain": [
              "114013"
            ]
          },
          "metadata": {
            "tags": []
          },
          "execution_count": 31
        }
      ]
    },
    {
      "cell_type": "code",
      "metadata": {
        "id": "xbsYwg_E9yhR",
        "colab_type": "code",
        "outputId": "07630ff7-180f-4cfc-c79b-87940c8a9e82",
        "colab": {
          "base_uri": "https://localhost:8080/",
          "height": 34
        }
      },
      "source": [
        "type(sorted_cosine_similarities[0])"
      ],
      "execution_count": 0,
      "outputs": [
        {
          "output_type": "execute_result",
          "data": {
            "text/plain": [
              "tuple"
            ]
          },
          "metadata": {
            "tags": []
          },
          "execution_count": 32
        }
      ]
    },
    {
      "cell_type": "code",
      "metadata": {
        "id": "fxGy9GKZ5YHf",
        "colab_type": "code",
        "colab": {}
      },
      "source": [
        "#making the list into a pandas, such that we can merge the similarity measure on to the dataframe\n",
        "#similarities = pd.DataFrame(sorted_cosine_similarities)\n",
        "#similarities.columns = [['index_','similarity']]\n",
        "similarities = pd.DataFrame(sorted_cosine_similarities, columns =['place','score']) "
      ],
      "execution_count": 0,
      "outputs": []
    },
    {
      "cell_type": "code",
      "metadata": {
        "id": "40hovo2gNxKO",
        "colab_type": "code",
        "colab": {}
      },
      "source": [
        "#df_m.head()"
      ],
      "execution_count": 0,
      "outputs": []
    },
    {
      "cell_type": "code",
      "metadata": {
        "id": "1AMvjKvj7MLQ",
        "colab_type": "code",
        "colab": {}
      },
      "source": [
        "#making a column in df_m which can be merged\n",
        "df_m['index'] = list(df_m.index)"
      ],
      "execution_count": 0,
      "outputs": []
    },
    {
      "cell_type": "code",
      "metadata": {
        "id": "p1hf9KLC6XZM",
        "colab_type": "code",
        "colab": {}
      },
      "source": [
        "similarities = similarities.sort_values(by= ['place'],  ascending= True)\n",
        "#similarities.head()"
      ],
      "execution_count": 0,
      "outputs": []
    },
    {
      "cell_type": "code",
      "metadata": {
        "id": "WQuMAVkJ7xNm",
        "colab_type": "code",
        "outputId": "b9706d87-e58b-4f8f-a421-21f1da60fb7a",
        "colab": {
          "base_uri": "https://localhost:8080/",
          "height": 34
        }
      },
      "source": [
        "print('Length of similarities', len(similarities), 'length of the speeches', len(df_m))"
      ],
      "execution_count": 0,
      "outputs": [
        {
          "output_type": "stream",
          "text": [
            "Length of similarities 114013 length of the speeches 114013\n"
          ],
          "name": "stdout"
        }
      ]
    },
    {
      "cell_type": "code",
      "metadata": {
        "id": "9nbzFe8hN-m3",
        "colab_type": "code",
        "outputId": "3e59843f-300b-466d-80a3-deda6a9663e4",
        "colab": {
          "base_uri": "https://localhost:8080/",
          "height": 34
        }
      },
      "source": [
        "df_m.shape"
      ],
      "execution_count": 0,
      "outputs": [
        {
          "output_type": "execute_result",
          "data": {
            "text/plain": [
              "(114013, 12)"
            ]
          },
          "metadata": {
            "tags": []
          },
          "execution_count": 38
        }
      ]
    },
    {
      "cell_type": "code",
      "metadata": {
        "id": "_s95e3FM5hLi",
        "colab_type": "code",
        "colab": {}
      },
      "source": [
        "df_m = df_m.merge(similarities, left_on= 'index', right_on = 'place')"
      ],
      "execution_count": 0,
      "outputs": []
    },
    {
      "cell_type": "code",
      "metadata": {
        "id": "h3DnPFDX6ohE",
        "colab_type": "code",
        "outputId": "8f3dcb55-97b4-4a91-8f6f-07f64f6e3dcb",
        "colab": {
          "base_uri": "https://localhost:8080/",
          "height": 34
        }
      },
      "source": [
        "df_m.shape"
      ],
      "execution_count": 0,
      "outputs": [
        {
          "output_type": "execute_result",
          "data": {
            "text/plain": [
              "(114013, 14)"
            ]
          },
          "metadata": {
            "tags": []
          },
          "execution_count": 40
        }
      ]
    },
    {
      "cell_type": "code",
      "metadata": {
        "id": "_gNEOHwSOId7",
        "colab_type": "code",
        "colab": {}
      },
      "source": [
        "#df_m.to_csv('/content/drive/My Drive/Uni/MMC/4. semester/CDA/data/DPC_speeches_processed_w_similarities_300_200_100.csv')"
      ],
      "execution_count": 0,
      "outputs": []
    },
    {
      "cell_type": "code",
      "metadata": {
        "id": "L5aXhBKBpzW0",
        "colab_type": "code",
        "colab": {}
      },
      "source": [
        ""
      ],
      "execution_count": 0,
      "outputs": []
    },
    {
      "cell_type": "markdown",
      "metadata": {
        "id": "HhuTaehLH1ZL",
        "colab_type": "text"
      },
      "source": [
        "## <font color='blue'>Part 6</font>: Results and anormalies\n",
        "<a id=part6></a>"
      ]
    },
    {
      "cell_type": "code",
      "metadata": {
        "id": "vJUSWzyEOUc4",
        "colab_type": "code",
        "colab": {}
      },
      "source": [
        "#reading the dataframe that keeps all the similarities\n",
        "df = pd.read_csv('/content/gdrive/My Drive/Uni/MMC/4. semester/CDA/data/DPC_speeches_processed_w_similarities_300_200_100.csv') #DPC_speeches_processed_w_similarities.csv')\n",
        "df = df.reset_index().iloc[:,2:]"
      ],
      "execution_count": 0,
      "outputs": []
    },
    {
      "cell_type": "code",
      "metadata": {
        "id": "uJsgW6SSHSpx",
        "colab_type": "code",
        "colab": {}
      },
      "source": [
        "#deleting the two columns which was used to merge the DF's\n",
        "del df['index']\n",
        "del df['place']"
      ],
      "execution_count": 0,
      "outputs": []
    },
    {
      "cell_type": "code",
      "metadata": {
        "id": "uec1JXqxpx-j",
        "colab_type": "code",
        "outputId": "9a0b8bc3-1324-4fca-e952-b855ac9f7759",
        "colab": {
          "base_uri": "https://localhost:8080/",
          "height": 374
        }
      },
      "source": [
        "#looking at the df\n",
        "df.head()"
      ],
      "execution_count": 0,
      "outputs": [
        {
          "output_type": "execute_result",
          "data": {
            "text/html": [
              "<div>\n",
              "<style scoped>\n",
              "    .dataframe tbody tr th:only-of-type {\n",
              "        vertical-align: middle;\n",
              "    }\n",
              "\n",
              "    .dataframe tbody tr th {\n",
              "        vertical-align: top;\n",
              "    }\n",
              "\n",
              "    .dataframe thead th {\n",
              "        text-align: right;\n",
              "    }\n",
              "</style>\n",
              "<table border=\"1\" class=\"dataframe\">\n",
              "  <thead>\n",
              "    <tr style=\"text-align: right;\">\n",
              "      <th></th>\n",
              "      <th>Starttid</th>\n",
              "      <th>Sluttid</th>\n",
              "      <th>Navn</th>\n",
              "      <th>Rolle</th>\n",
              "      <th>Tekst</th>\n",
              "      <th>Parti</th>\n",
              "      <th>Dato</th>\n",
              "      <th>Tekst_clean</th>\n",
              "      <th>T_Tekst</th>\n",
              "      <th>T_Tekst_stopw</th>\n",
              "      <th>T_Tekst_stopw_stem</th>\n",
              "      <th>score</th>\n",
              "    </tr>\n",
              "  </thead>\n",
              "  <tbody>\n",
              "    <tr>\n",
              "      <th>0</th>\n",
              "      <td>13:00:52.110000</td>\n",
              "      <td>13:05:42.060000</td>\n",
              "      <td>Karen J. Klint</td>\n",
              "      <td>medlem</td>\n",
              "      <td>Tak for det. Det er jo dejligt at se så fyldt ...</td>\n",
              "      <td>S</td>\n",
              "      <td>2011-09-30</td>\n",
              "      <td>tak for det det er jo dejligt at se så fyldt e...</td>\n",
              "      <td>['tak', 'for', 'det', 'det', 'er', 'jo', 'dejl...</td>\n",
              "      <td>['dejligt', 'se', 'fyldt', 'sal', 'publikumsbæ...</td>\n",
              "      <td>['dej', 'se', 'fyld', 'sal', 'publikumsbænk', ...</td>\n",
              "      <td>0.053486</td>\n",
              "    </tr>\n",
              "    <tr>\n",
              "      <th>1</th>\n",
              "      <td>13:05:42.060000</td>\n",
              "      <td>13:06:52.970000</td>\n",
              "      <td>Karen J. Klint</td>\n",
              "      <td>medlem</td>\n",
              "      <td>Vedrørende valget i Grønland indstiller et eni...</td>\n",
              "      <td>S</td>\n",
              "      <td>2011-09-30</td>\n",
              "      <td>vedrørende valget i grønland indstiller et eni...</td>\n",
              "      <td>['vedrørende', 'valget', 'i', 'grønland', 'ind...</td>\n",
              "      <td>['vedrørende', 'valget', 'grønland', 'indstill...</td>\n",
              "      <td>['vedrør', 'valg', 'grønland', 'indstil', 'eni...</td>\n",
              "      <td>0.006949</td>\n",
              "    </tr>\n",
              "    <tr>\n",
              "      <th>2</th>\n",
              "      <td>13:01:23.263000</td>\n",
              "      <td>13:03:10.263000</td>\n",
              "      <td>John Dyrby Paulsen</td>\n",
              "      <td>medlem</td>\n",
              "      <td>Tak for det. Jeg står her med en rapport fra F...</td>\n",
              "      <td>S</td>\n",
              "      <td>2011-03-02</td>\n",
              "      <td>tak for det jeg står her med en rapport fra fo...</td>\n",
              "      <td>['tak', 'for', 'det', 'jeg', 'står', 'her', 'm...</td>\n",
              "      <td>['står', 'rapport', 'forsvarets', 'færdselssik...</td>\n",
              "      <td>['står', 'rapport', 'forsvar', 'færdselssikker...</td>\n",
              "      <td>-0.014555</td>\n",
              "    </tr>\n",
              "    <tr>\n",
              "      <th>3</th>\n",
              "      <td>13:03:11.407000</td>\n",
              "      <td>13:04:19.743000</td>\n",
              "      <td>Gitte Lillelund Bech</td>\n",
              "      <td>minister</td>\n",
              "      <td>Jeg takker for spørgsmålet. Hr. John Dyrby Pau...</td>\n",
              "      <td>V</td>\n",
              "      <td>2011-03-02</td>\n",
              "      <td>jeg takker for spørgsmålet hr john dyrby pauls...</td>\n",
              "      <td>['jeg', 'takker', 'for', 'spørgsmålet', 'hr', ...</td>\n",
              "      <td>['takker', 'john', 'dyrby', 'paulsen', 'fuldst...</td>\n",
              "      <td>['tak', 'john', 'dyrby', 'pauls', 'fuldstænd',...</td>\n",
              "      <td>0.037837</td>\n",
              "    </tr>\n",
              "    <tr>\n",
              "      <th>4</th>\n",
              "      <td>13:04:20.913000</td>\n",
              "      <td>13:05:18.180000</td>\n",
              "      <td>John Dyrby Paulsen</td>\n",
              "      <td>medlem</td>\n",
              "      <td>Tak for svaret. Det er jeg jo enig med ministe...</td>\n",
              "      <td>S</td>\n",
              "      <td>2011-03-02</td>\n",
              "      <td>tak for svaret det er jeg jo enig med minister...</td>\n",
              "      <td>['tak', 'for', 'svaret', 'det', 'er', 'jeg', '...</td>\n",
              "      <td>['svaret', 'enig', 'svært', 'uenig', 'underlig...</td>\n",
              "      <td>['svar', 'enig', 'svært', 'uen', 'under', 'rap...</td>\n",
              "      <td>-0.115678</td>\n",
              "    </tr>\n",
              "  </tbody>\n",
              "</table>\n",
              "</div>"
            ],
            "text/plain": [
              "          Starttid  ...     score\n",
              "0  13:00:52.110000  ...  0.053486\n",
              "1  13:05:42.060000  ...  0.006949\n",
              "2  13:01:23.263000  ... -0.014555\n",
              "3  13:03:11.407000  ...  0.037837\n",
              "4  13:04:20.913000  ... -0.115678\n",
              "\n",
              "[5 rows x 12 columns]"
            ]
          },
          "metadata": {
            "tags": []
          },
          "execution_count": 30
        }
      ]
    },
    {
      "cell_type": "code",
      "metadata": {
        "id": "lhvB8nfXU_0I",
        "colab_type": "code",
        "outputId": "1b8e0769-2de6-4e75-b1c9-a5fe558a49b7",
        "colab": {
          "base_uri": "https://localhost:8080/",
          "height": 54
        }
      },
      "source": [
        "df.iloc[0,-3]"
      ],
      "execution_count": 0,
      "outputs": [
        {
          "output_type": "execute_result",
          "data": {
            "text/plain": [
              "\"['dejligt', 'se', 'fyldt', 'sal', 'publikumsbænkene', 'højtidelig', 'dag', 'formand', 'udvalget', 'prøvelse', 'valgene', 'kan', 'oplyse', 'følgende', 'udvalgets', 'arbejde', 'idet', 'samtidig', 'henvise', 'offentliggjorte', 'betænkning', 'indstillingerne', 'arbejdet', 'sædvanlig', 'vedrørt', 'tre', 'første', 'vedrørt', 'gyldighed', 'valghandlingen', 'herunder', 'valgets', 'forberedelse', 'stemmeafgivelsen', 'optællingen', 'selve', 'stemmesedlerne', 'vurderingen', 'samt', 'valgbøgerne', 'disses', 'førelse', 'm', 'm', 'andet', 'vedrørt', 'godkendelse', 'ændringer', 'indenrigs', 'sundhedsministeriets', 'foretagne', 'opgørelser', 'beregninger', 'tredje', 'vedrørt', 'godkendelse', 'kandidater', 'opnået', 'valg', 'gyldigheden', 'valghandlingen', 'kan', 'sige', 'udvalget', 'gennemgået', 'indenrigs', 'sundhedsministeriets', 'redegørelse', 'indeholder', 'bemærkninger', 'gennemgangen', 'valgbogsudskrifterne', 'givet', 'ministeriet', 'anledning', 'hvert', 'valg', 'udfordringer', 'lige', 'overståede', 'valg', 'set', 'før', '–', 'situationer', 'løst', 'kvalificeret', 'kommunerne', 'valgbestyrelserne', 'tillade', 'nævne', 'par', 'ved', 'gennemgangen', 'ministeriets', 'redegørelse', 'udvalget', 'særlig', 'bemærket', 'valgbogen', 'guldborgsundkredsen', 'oplyst', 'afstemningssted', 'måtte', 'flyttes', 'selve', 'valgdagen', 'grund', 'sundhedsskadelige', 'omstændigheder', 'lykkedes', 'flytte', 'afstemningsstedet', 'mindre', '½', 'time', 'endvidere', 'taget', 'forholdsregler', 'sikrede', 'vælgerne', 'gik', 'forgæves', 'oprindelige', 'afstemningssted', 'valgbogen', 'middelfartkredsen', 'oplyst', 'brevstemmer', 'gik', 'tabt', 'grund', 'brand', 'søndersø', 'rådhus', 'lykkedes', 'kommunen', 'identificere', 'pågældende', 'brevstemmeafgivere', 'fik', 'mulighed', 'stemme', 'ny', 'valghåndbogen', 'københavns', 'storkreds', 'kreds', 'brønshøj', 'anført', 'bemærkning', 'afstemningsstedet', 'kreds', 'nord', 'tingbjerg', 'valgdagen', 'igennem', 'oplevede', 'mindre', 'gruppe', 'personer', 'opfordrede', 'vælgerne', 'undlade', 'stemme', 'valgbestyrelsen', 'løbende', 'dialog', 'pågældende', 'gruppe', 'politiet', 'sidste', 'hændelsesforløb', 'fremgår', 'klager', 'udvalget', 'behandlet', 'nævner', 'rose', 'valgbestyrelser', 'kommuner', 'håndteret', 'atypiske', 'situationer', 'synes', 'godt', 'folketing', 'kan', 'stolte', 'udvalget', 'forholdt', 'klager', 'henvendelser', 'vedrørende', 'valghandlingen', 'foreligget', 'forbindelse', 'folketingsvalget', 'ingen', 'modtagne', 'klager', 'giver', 'anledning', 'tvivl', 'valgets', 'resultat', 'hensyn', 'udvalgets', 'indstilling', 'modtagne', 'klager', 'henvise', 'betænkningen', 'hvori', 'klager', 'oplistet', 'kommenteret', 'tillade', 'kort', 'kun', 'gøre', 'opmærksom', 'to', 'udvalgets', 'bemærkninger', 'flere', 'klagerne', 'omhandler', 'håndtering', 'brevafstemningen', 'udvalgets', 'bemærkning', 'indenrigs', 'sundhedsministeriet', 'går', 'overveje', 'hvorvidt', 'regler', 'vejledninger', 'm', 'v', 'omkring', 'brevafstemning', 'kan', 'forbedres', 'herunder', 'overveje', 'fast', 'klokkeslæt', 'sidste', 'frist', 'afgivning', 'brevstemmerne', 'par', 'klager', 'vedrørende', 'agitation', 'm', 'v', 'nær', 'valgsted', 'forholdt', 'udvalgets', 'bemærkning', 'indenrigs', 'sundhedsministeriet', 'går', 'overveje', 'hvorvidt', 'reglerne', 'agitation', 'm', 'm', 'nær', 'valgsted', 'eventuelt', 'bør', 'revurderes', 'vedrørende', 'godkendelse', 'indenrigs', 'sundhedsministeriets', 'opgørelse', 'beregninger', 'udvalget', 'behandlet', 'godkendelsen', 'samlede', 'opgørelser', 'beregninger', 'givet', 'anledning', 'bemærkninger', 'udvalget', 'angår', 'godkendelse', 'valgte', 'udvalget', 'følgende', 'indstilling', 'vedrørende', 'valget', 'danmark', 'indstiller', 'udvalget', 'enighed', 'folketinget', 'godkender', 'september', 'afholdte', 'valg', 'medlemmer', 'folketinget', 'indenrigs', 'sundhedsministeriet', 'september', 'fremsendte', 'beregninger', 'opgørelser', 'vedrørende', 'valg', 'omdelte', 'særskilte', 'valgkredsfortegnelse', 'opførte', 'kandidater', 'valgte', 'september']\""
            ]
          },
          "metadata": {
            "tags": []
          },
          "execution_count": 67
        }
      ]
    },
    {
      "cell_type": "markdown",
      "metadata": {
        "id": "w3DuCnp8IBBv",
        "colab_type": "text"
      },
      "source": [
        "### Looking at anormalies over time"
      ]
    },
    {
      "cell_type": "markdown",
      "metadata": {
        "id": "722iz0gMRnzn",
        "colab_type": "text"
      },
      "source": [
        "Remember:\n",
        "Two vectors with the same orientation have a cosine similarity of 1, two vectors oriented at 90° relative to each other have a similarity of 0, and two vectors diametrically opposed have a similarity of -1. \n",
        "\n",
        "This means, that outliers have very low score, and hence the lowest scores are the biggest outliers. What we are measuring the cosine similarity between, is the predicted vector, and the actual vector of a given speech. This should be a type of outlier prediction, since the Autoencoder has learned to re-create the output from the input. Hence, if the two vectors have a large angle between them, the cosine similarity will be negative. "
      ]
    },
    {
      "cell_type": "code",
      "metadata": {
        "id": "scIVaDNCIeqH",
        "colab_type": "code",
        "colab": {}
      },
      "source": [
        "#making the dates into datetime\n",
        "df['Dato'] = pd.to_datetime(df['Dato'])"
      ],
      "execution_count": 0,
      "outputs": []
    },
    {
      "cell_type": "code",
      "metadata": {
        "id": "WZAVMIx2KFJ0",
        "colab_type": "code",
        "colab": {}
      },
      "source": [
        "#sorting out observations after 2015 (we are also only looking at 09-14)\n",
        "df = df[df.Dato<'2015-01-01']"
      ],
      "execution_count": 0,
      "outputs": []
    },
    {
      "cell_type": "markdown",
      "metadata": {
        "id": "hPL4DraSYoef",
        "colab_type": "text"
      },
      "source": [
        "For this, we can also add which party has had most speaking time on the particular day, and which parties in general are the most 'anormal' speeches."
      ]
    },
    {
      "cell_type": "code",
      "metadata": {
        "id": "Q9rMnsJZRx_s",
        "colab_type": "code",
        "outputId": "555444cd-c9f0-4333-c34c-f9e01a6418a8",
        "colab": {
          "base_uri": "https://localhost:8080/",
          "height": 153
        }
      },
      "source": [
        "df.groupby(df.Dato.dt.year).mean()['score']"
      ],
      "execution_count": 0,
      "outputs": [
        {
          "output_type": "execute_result",
          "data": {
            "text/plain": [
              "Dato\n",
              "2009    0.061162\n",
              "2010    0.059678\n",
              "2011    0.062533\n",
              "2012    0.061639\n",
              "2013    0.060343\n",
              "2014    0.058327\n",
              "Name: score, dtype: float64"
            ]
          },
          "metadata": {
            "tags": []
          },
          "execution_count": 33
        }
      ]
    },
    {
      "cell_type": "code",
      "metadata": {
        "id": "TbZEZZxZO2MX",
        "colab_type": "code",
        "outputId": "96517670-1519-49d3-e707-adf593323d8c",
        "colab": {
          "base_uri": "https://localhost:8080/",
          "height": 153
        }
      },
      "source": [
        "df.groupby(df.Dato.dt.year).std()['score']/10"
      ],
      "execution_count": 0,
      "outputs": [
        {
          "output_type": "execute_result",
          "data": {
            "text/plain": [
              "Dato\n",
              "2009    0.021756\n",
              "2010    0.021470\n",
              "2011    0.021843\n",
              "2012    0.021867\n",
              "2013    0.021629\n",
              "2014    0.021439\n",
              "Name: score, dtype: float64"
            ]
          },
          "metadata": {
            "tags": []
          },
          "execution_count": 34
        }
      ]
    },
    {
      "cell_type": "code",
      "metadata": {
        "id": "Zz7f0a4yCHtn",
        "colab_type": "code",
        "colab": {}
      },
      "source": [
        "#function for plotting with std\n",
        "def plot_time(df, time, save= 'no', std_ = 'no'):\n",
        "  div = 1\n",
        "  std = 0\n",
        "  #data\n",
        "  if time == 'year':\n",
        "    x = df.groupby(df.Dato.dt.year).mean()['score'].reset_index().iloc[:,0].to_list()\n",
        "    y = df.groupby(df.Dato.dt.year).mean()['score'].reset_index().iloc[:,1].to_list()\n",
        "    if std_ == 'yes':\n",
        "      std = df.groupby(df.Dato.dt.year).std()['score']/div\n",
        "      std = std.reset_index().iloc[:,1].to_list() #std of the time interval\n",
        "\n",
        "  elif time == 'week':\n",
        "    x = df.groupby(df.Dato.dt.week).mean()['score'].reset_index().iloc[:,0].to_list()\n",
        "    y = df.groupby(df.Dato.dt.week).mean()['score'].reset_index().iloc[:,1].to_list()\n",
        "    if std_ == 'yes':\n",
        "      std = df.groupby(df.Dato.dt.week).std()['score']/div\n",
        "      std = std.reset_index().iloc[:,1].to_list() #std of the time interval\n",
        "    \n",
        "  elif time == 'date':\n",
        "    x = df.groupby(df.Dato.dt.date).mean()['score'].reset_index().iloc[:,0].to_list()\n",
        "    y = df.groupby(df.Dato.dt.date).mean()['score'].reset_index().iloc[:,1].to_list()\n",
        "    #std = df.groupby(df.Dato.dt.date).std()['score']/div\n",
        "    #std = std.reset_index().iloc[:,1].to_list() #std of the time interval\n",
        "    std = 0\n",
        "\n",
        "  # error bar values w/ different -/+ errors\n",
        "  lower_error = std\n",
        "  upper_error = std\n",
        "  asymmetric_error = [lower_error, upper_error]\n",
        "\n",
        "  #ax0 = plt.plot()\n",
        "  #ax0.errorbar(x, y, yerr=std, fmt='-o')\n",
        "  #ax0.set_title('Title')\n",
        "\n",
        "  #x = np.array([1, 2, 3, 4, 5])\n",
        "  #y = np.power(x, 2) # Effectively y = x**2\n",
        "  e = std\n",
        "\n",
        "  plt.errorbar(x, y, e)#, linestyle='None', marker='^')\n",
        "  plt.xlabel(time)\n",
        "  plt.ylabel('Cosine similarity')\n",
        "  plt.title('Periodic development of behavior in speeches.')\n",
        "\n",
        "  plt.grid(True)\n",
        "\n",
        "  if save == 'yes':\n",
        "    plt.savefig('/content/gdrive/My Drive/Uni/MMC/4. semester/CDA/plots/'+time+'.png')\n",
        "\n",
        "  plt.show()\n",
        "\n",
        "  #ax1.errorbar(x, y, xerr=asymmetric_error, fmt='o')\n",
        "  #ax1.set_title('variable, asymmetric error')\n",
        "  #ax1.set_yscale('log')\n",
        "  #plt.show()"
      ],
      "execution_count": 0,
      "outputs": []
    },
    {
      "cell_type": "code",
      "metadata": {
        "id": "9A0grQ1HQW7O",
        "colab_type": "code",
        "outputId": "7b525a9e-f27c-435f-8b62-2ffef48e49f1",
        "colab": {
          "base_uri": "https://localhost:8080/",
          "height": 295
        }
      },
      "source": [
        "plot_time(df, 'week', 'no', 'yes')"
      ],
      "execution_count": 0,
      "outputs": [
        {
          "output_type": "display_data",
          "data": {
            "image/png": "[encoded data removed]",
            "text/plain": [
              "<Figure size 432x288 with 1 Axes>"
            ]
          },
          "metadata": {
            "tags": [],
            "needs_background": "light"
          }
        }
      ]
    },
    {
      "cell_type": "markdown",
      "metadata": {
        "id": "VeXqcKLxXjUu",
        "colab_type": "text"
      },
      "source": [
        "##### Years"
      ]
    },
    {
      "cell_type": "code",
      "metadata": {
        "id": "39hQ99XcHu0K",
        "colab_type": "code",
        "outputId": "d84f9a47-1a46-4957-ef94-fb588e98b358",
        "colab": {
          "base_uri": "https://localhost:8080/",
          "height": 295
        }
      },
      "source": [
        "#plotting over the years\n",
        "plot_time(df, 'year', 'yes')"
      ],
      "execution_count": 0,
      "outputs": [
        {
          "output_type": "display_data",
          "data": {
            "image/png": "[encoded data removed]",
            "text/plain": [
              "<Figure size 432x288 with 1 Axes>"
            ]
          },
          "metadata": {
            "tags": [],
            "needs_background": "light"
          }
        }
      ]
    },
    {
      "cell_type": "markdown",
      "metadata": {
        "id": "5jThwkN_KkA9",
        "colab_type": "text"
      },
      "source": [
        "We had a Folketingsvalg in 2011 and 2015, which might be why the two years up to that particular event might be low in similarity. "
      ]
    },
    {
      "cell_type": "markdown",
      "metadata": {
        "id": "JlFc8oXLXmP7",
        "colab_type": "text"
      },
      "source": [
        "##### Weeks"
      ]
    },
    {
      "cell_type": "code",
      "metadata": {
        "id": "f48nayGxVwXB",
        "colab_type": "code",
        "outputId": "42675e4d-0ced-44c1-d5ae-355ed6333d2e",
        "colab": {
          "base_uri": "https://localhost:8080/",
          "height": 295
        }
      },
      "source": [
        "#plotting over weeks\n",
        "plot_time(df, 'week', 'yes')\n",
        "#df.groupby(df.Dato.dt.week).mean()['score'].plot()"
      ],
      "execution_count": 0,
      "outputs": [
        {
          "output_type": "display_data",
          "data": {
            "image/png": "[encoded data removed]",
            "text/plain": [
              "<Figure size 432x288 with 1 Axes>"
            ]
          },
          "metadata": {
            "tags": [],
            "needs_background": "light"
          }
        }
      ]
    },
    {
      "cell_type": "markdown",
      "metadata": {
        "id": "CdGzeh7oJ9lU",
        "colab_type": "text"
      },
      "source": [
        "+- std?"
      ]
    },
    {
      "cell_type": "code",
      "metadata": {
        "id": "Y2OAUvPuJnWO",
        "colab_type": "code",
        "colab": {}
      },
      "source": [
        "#saving weeks\n",
        "w = df.groupby(df.Dato.dt.week).mean()['score'].reset_index()"
      ],
      "execution_count": 0,
      "outputs": []
    },
    {
      "cell_type": "code",
      "metadata": {
        "id": "6UMFiTEWV64v",
        "colab_type": "code",
        "outputId": "9a6b6fcf-63ef-4f49-d8ef-94c4fdc87275",
        "colab": {
          "base_uri": "https://localhost:8080/",
          "height": 204
        }
      },
      "source": [
        "#sorting\n",
        "w.sort_values(by=['score']).head()"
      ],
      "execution_count": 0,
      "outputs": [
        {
          "output_type": "execute_result",
          "data": {
            "text/html": [
              "<div>\n",
              "<style scoped>\n",
              "    .dataframe tbody tr th:only-of-type {\n",
              "        vertical-align: middle;\n",
              "    }\n",
              "\n",
              "    .dataframe tbody tr th {\n",
              "        vertical-align: top;\n",
              "    }\n",
              "\n",
              "    .dataframe thead th {\n",
              "        text-align: right;\n",
              "    }\n",
              "</style>\n",
              "<table border=\"1\" class=\"dataframe\">\n",
              "  <thead>\n",
              "    <tr style=\"text-align: right;\">\n",
              "      <th></th>\n",
              "      <th>Dato</th>\n",
              "      <th>score</th>\n",
              "    </tr>\n",
              "  </thead>\n",
              "  <tbody>\n",
              "    <tr>\n",
              "      <th>28</th>\n",
              "      <td>39</td>\n",
              "      <td>0.030217</td>\n",
              "    </tr>\n",
              "    <tr>\n",
              "      <th>21</th>\n",
              "      <td>25</td>\n",
              "      <td>0.037247</td>\n",
              "    </tr>\n",
              "    <tr>\n",
              "      <th>25</th>\n",
              "      <td>35</td>\n",
              "      <td>0.043754</td>\n",
              "    </tr>\n",
              "    <tr>\n",
              "      <th>27</th>\n",
              "      <td>37</td>\n",
              "      <td>0.047697</td>\n",
              "    </tr>\n",
              "    <tr>\n",
              "      <th>22</th>\n",
              "      <td>26</td>\n",
              "      <td>0.048677</td>\n",
              "    </tr>\n",
              "  </tbody>\n",
              "</table>\n",
              "</div>"
            ],
            "text/plain": [
              "    Dato     score\n",
              "28    39  0.030217\n",
              "21    25  0.037247\n",
              "25    35  0.043754\n",
              "27    37  0.047697\n",
              "22    26  0.048677"
            ]
          },
          "metadata": {
            "tags": []
          },
          "execution_count": 64
        }
      ]
    },
    {
      "cell_type": "markdown",
      "metadata": {
        "id": "NHl8K4bsWPDd",
        "colab_type": "text"
      },
      "source": [
        "Week 25\tJune 15, 2009\tJune 21, 2009\n",
        "\n",
        "Week 35\tAug. 24, 2009\tAug. 30, 2009\n",
        "\n",
        "Week 37\tSep. 7, 2009\tSep. 13, 2009\n",
        "\n",
        "Week 39\tSep. 21, 2009\tSep. 27, 2009\n",
        "\n",
        "Week 40\tSep. 28, 2009\tOct. 4, 2009"
      ]
    },
    {
      "cell_type": "markdown",
      "metadata": {
        "id": "48bpfTBNLZSI",
        "colab_type": "text"
      },
      "source": [
        "Folketinget has holdiday from mid-June and opens first Tuesday in October: https://da.wikipedia.org/wiki/Folketings%C3%A5r\n",
        "\n",
        "Forslag til næste års finanslov fremsættes inden udgangen af august (følge af § 45). Folketinget samles i september – uanset sommerferien – til førstebehandling af lovforslaget. Finanslovsforslaget bortfalder herefter ved folketingsårets slutning, men genfremsættes efter det nye folketingsårs begyndelse den første tirsdag i oktober. Lovforslaget gennemgår herefter som andre lovforslag tre behandlinger i Folketinget. Tredjebehandlingen finder normalt sted i december. : https://da.wikipedia.org/wiki/Finansloven"
      ]
    },
    {
      "cell_type": "markdown",
      "metadata": {
        "id": "XmJuvzZSXrsA",
        "colab_type": "text"
      },
      "source": [
        "##### Days"
      ]
    },
    {
      "cell_type": "code",
      "metadata": {
        "id": "gDN2iIIYJgkz",
        "colab_type": "code",
        "outputId": "f78f3620-23cc-4532-d9b8-b579d3eb5400",
        "colab": {
          "base_uri": "https://localhost:8080/",
          "height": 295
        }
      },
      "source": [
        "#plotting over the days\n",
        "plot_time(df, 'date', 'yes')\n",
        "#df.groupby(df.Dato.dt.date).mean()['score'].plot()"
      ],
      "execution_count": 0,
      "outputs": [
        {
          "output_type": "display_data",
          "data": {
            "image/png": "[encoded data removed]",
            "text/plain": [
              "<Figure size 432x288 with 1 Axes>"
            ]
          },
          "metadata": {
            "tags": [],
            "needs_background": "light"
          }
        }
      ]
    },
    {
      "cell_type": "code",
      "metadata": {
        "id": "oXlRDASYLGht",
        "colab_type": "code",
        "colab": {}
      },
      "source": [
        "#saving the mean scores of any given day:\n",
        "date_scores = df.groupby(df.Dato.dt.date).mean()['score'].reset_index().sort_values(by=['score'])"
      ],
      "execution_count": 0,
      "outputs": []
    },
    {
      "cell_type": "code",
      "metadata": {
        "id": "bXBOG7U-PFwb",
        "colab_type": "code",
        "outputId": "4924738f-2bd8-41df-b5ac-c2ab6935707d",
        "colab": {
          "base_uri": "https://localhost:8080/",
          "height": 204
        }
      },
      "source": [
        "#looking at the 5 highest scores\n",
        "date_scores.head()"
      ],
      "execution_count": 0,
      "outputs": [
        {
          "output_type": "execute_result",
          "data": {
            "text/html": [
              "<div>\n",
              "<style scoped>\n",
              "    .dataframe tbody tr th:only-of-type {\n",
              "        vertical-align: middle;\n",
              "    }\n",
              "\n",
              "    .dataframe tbody tr th {\n",
              "        vertical-align: top;\n",
              "    }\n",
              "\n",
              "    .dataframe thead th {\n",
              "        text-align: right;\n",
              "    }\n",
              "</style>\n",
              "<table border=\"1\" class=\"dataframe\">\n",
              "  <thead>\n",
              "    <tr style=\"text-align: right;\">\n",
              "      <th></th>\n",
              "      <th>Dato</th>\n",
              "      <th>score</th>\n",
              "    </tr>\n",
              "  </thead>\n",
              "  <tbody>\n",
              "    <tr>\n",
              "      <th>418</th>\n",
              "      <td>2013-06-26</td>\n",
              "      <td>-0.040278</td>\n",
              "    </tr>\n",
              "    <tr>\n",
              "      <th>175</th>\n",
              "      <td>2011-03-19</td>\n",
              "      <td>-0.032150</td>\n",
              "    </tr>\n",
              "    <tr>\n",
              "      <th>485</th>\n",
              "      <td>2014-03-19</td>\n",
              "      <td>-0.005050</td>\n",
              "    </tr>\n",
              "    <tr>\n",
              "      <th>109</th>\n",
              "      <td>2010-10-05</td>\n",
              "      <td>-0.003316</td>\n",
              "    </tr>\n",
              "    <tr>\n",
              "      <th>312</th>\n",
              "      <td>2012-09-10</td>\n",
              "      <td>-0.002289</td>\n",
              "    </tr>\n",
              "  </tbody>\n",
              "</table>\n",
              "</div>"
            ],
            "text/plain": [
              "           Dato     score\n",
              "418  2013-06-26 -0.040278\n",
              "175  2011-03-19 -0.032150\n",
              "485  2014-03-19 -0.005050\n",
              "109  2010-10-05 -0.003316\n",
              "312  2012-09-10 -0.002289"
            ]
          },
          "metadata": {
            "tags": []
          },
          "execution_count": 54
        }
      ]
    },
    {
      "cell_type": "markdown",
      "metadata": {
        "id": "ACR-7M1GT7wv",
        "colab_type": "text"
      },
      "source": [
        "2012 1. oktober – Den nye lukkelov træder i kraft, og butikker kan nu som hovedregel holde åbent alle ugens dage året rundt.\n",
        "\n"
      ]
    },
    {
      "cell_type": "markdown",
      "metadata": {
        "id": "5L70OpHwaCw3",
        "colab_type": "text"
      },
      "source": [
        "### Looking at anormalities over speeches, parties, and roles"
      ]
    },
    {
      "cell_type": "markdown",
      "metadata": {
        "id": "eXk4klcpXvFc",
        "colab_type": "text"
      },
      "source": [
        "##### Single speeches"
      ]
    },
    {
      "cell_type": "markdown",
      "metadata": {
        "id": "fWyyvIEzYO6A",
        "colab_type": "text"
      },
      "source": [
        "We can look at the head and tail of the sorted scores, to see which are the 'most normal' and which are the most outliers."
      ]
    },
    {
      "cell_type": "code",
      "metadata": {
        "id": "JUibrH_lYXDg",
        "colab_type": "code",
        "outputId": "22fba003-47e9-4c5d-df6b-9900829f7f67",
        "colab": {
          "base_uri": "https://localhost:8080/",
          "height": 391
        }
      },
      "source": [
        "#looking at the head\n",
        "df.sort_values(by=['score']).head()"
      ],
      "execution_count": 0,
      "outputs": [
        {
          "output_type": "execute_result",
          "data": {
            "text/html": [
              "<div>\n",
              "<style scoped>\n",
              "    .dataframe tbody tr th:only-of-type {\n",
              "        vertical-align: middle;\n",
              "    }\n",
              "\n",
              "    .dataframe tbody tr th {\n",
              "        vertical-align: top;\n",
              "    }\n",
              "\n",
              "    .dataframe thead th {\n",
              "        text-align: right;\n",
              "    }\n",
              "</style>\n",
              "<table border=\"1\" class=\"dataframe\">\n",
              "  <thead>\n",
              "    <tr style=\"text-align: right;\">\n",
              "      <th></th>\n",
              "      <th>Starttid</th>\n",
              "      <th>Sluttid</th>\n",
              "      <th>Navn</th>\n",
              "      <th>Rolle</th>\n",
              "      <th>Tekst</th>\n",
              "      <th>Parti</th>\n",
              "      <th>Dato</th>\n",
              "      <th>Tekst_clean</th>\n",
              "      <th>T_Tekst</th>\n",
              "      <th>T_Tekst_stopw</th>\n",
              "      <th>T_Tekst_stopw_stem</th>\n",
              "      <th>score</th>\n",
              "    </tr>\n",
              "  </thead>\n",
              "  <tbody>\n",
              "    <tr>\n",
              "      <th>42940</th>\n",
              "      <td>21:55:40.190000</td>\n",
              "      <td>21:56:28.440000</td>\n",
              "      <td>Christine Antorini</td>\n",
              "      <td>minister</td>\n",
              "      <td>Jeg tror, at Enhedslistens ordfører godt ved, ...</td>\n",
              "      <td>S</td>\n",
              "      <td>2012-05-15</td>\n",
              "      <td>jeg tror at enhedslistens ordfører godt ved at...</td>\n",
              "      <td>['jeg', 'tror', 'at', 'enhedslistens', 'ordfør...</td>\n",
              "      <td>['tror', 'enhedslistens', 'godt', 'ved', 'lidt...</td>\n",
              "      <td>['tror', 'enhedslist', 'godt', 'ved', 'lidt', ...</td>\n",
              "      <td>-0.274542</td>\n",
              "    </tr>\n",
              "    <tr>\n",
              "      <th>72047</th>\n",
              "      <td>13:29:53.427000</td>\n",
              "      <td>13:30:04.207000</td>\n",
              "      <td>Stine Brix</td>\n",
              "      <td>medlem</td>\n",
              "      <td>Undringen må blafre i vinden. Jeg må bede hr. ...</td>\n",
              "      <td>EL</td>\n",
              "      <td>2013-12-05</td>\n",
              "      <td>undringen må blafre i vinden jeg må bede hr ch...</td>\n",
              "      <td>['undringen', 'må', 'blafre', 'i', 'vinden', '...</td>\n",
              "      <td>['undringen', 'må', 'blafre', 'vinden', 'må', ...</td>\n",
              "      <td>['undring', 'må', 'blafr', 'vind', 'må', 'bed'...</td>\n",
              "      <td>-0.262123</td>\n",
              "    </tr>\n",
              "    <tr>\n",
              "      <th>92575</th>\n",
              "      <td>12:31:53.037000</td>\n",
              "      <td>12:32:27.617000</td>\n",
              "      <td>Christian H. Hansen</td>\n",
              "      <td>medlem</td>\n",
              "      <td>Jamen jeg har jo ikke stået her og påstået, at...</td>\n",
              "      <td>UFG</td>\n",
              "      <td>2010-02-05</td>\n",
              "      <td>jamen jeg har jo ikke stået her og påstået at ...</td>\n",
              "      <td>['jamen', 'jeg', 'har', 'jo', 'ikke', 'stået',...</td>\n",
              "      <td>['jamen', 'stået', 'påstået', 'hele', 'verdens...</td>\n",
              "      <td>['jam', 'stået', 'påstå', 'hel', 'verdensopfat...</td>\n",
              "      <td>-0.257931</td>\n",
              "    </tr>\n",
              "    <tr>\n",
              "      <th>46384</th>\n",
              "      <td>13:58:29.433000</td>\n",
              "      <td>13:59:03.543000</td>\n",
              "      <td>Mai Henriksen</td>\n",
              "      <td>medlem</td>\n",
              "      <td>»Bland jer uden om, hvem vi ansætter. Det er b...</td>\n",
              "      <td>NaN</td>\n",
              "      <td>2012-10-23</td>\n",
              "      <td>»bland jer uden om hvem vi ansætter det er bes...</td>\n",
              "      <td>['»', 'bland', 'jer', 'uden', 'om', 'hvem', 'v...</td>\n",
              "      <td>['»', 'bland', 'uden', 'hvem', 'ansætter', 'be...</td>\n",
              "      <td>['bland', 'uden', 'hvem', 'ansæt', 'besked', '...</td>\n",
              "      <td>-0.231842</td>\n",
              "    </tr>\n",
              "    <tr>\n",
              "      <th>29857</th>\n",
              "      <td>15:54:51.270000</td>\n",
              "      <td>15:55:29.177000</td>\n",
              "      <td>Anne Baastrup</td>\n",
              "      <td>medlem</td>\n",
              "      <td>Jeg ved det ikke helt. Var det ikke de oplysni...</td>\n",
              "      <td>SF</td>\n",
              "      <td>2011-12-20</td>\n",
              "      <td>jeg ved det ikke helt var det ikke de oplysnin...</td>\n",
              "      <td>['jeg', 'ved', 'det', 'ikke', 'helt', 'var', '...</td>\n",
              "      <td>['ved', 'helt', 'oplysninger', 'karsten', 'lau...</td>\n",
              "      <td>['ved', 'helt', 'oplysning', 'karst', 'lauritz...</td>\n",
              "      <td>-0.224354</td>\n",
              "    </tr>\n",
              "  </tbody>\n",
              "</table>\n",
              "</div>"
            ],
            "text/plain": [
              "              Starttid  ...     score\n",
              "42940  21:55:40.190000  ... -0.274542\n",
              "72047  13:29:53.427000  ... -0.262123\n",
              "92575  12:31:53.037000  ... -0.257931\n",
              "46384  13:58:29.433000  ... -0.231842\n",
              "29857  15:54:51.270000  ... -0.224354\n",
              "\n",
              "[5 rows x 12 columns]"
            ]
          },
          "metadata": {
            "tags": []
          },
          "execution_count": 55
        }
      ]
    },
    {
      "cell_type": "code",
      "metadata": {
        "id": "mzAuhPPpT27V",
        "colab_type": "code",
        "outputId": "5914bace-935e-4c77-c70d-9d3d1a405bdb",
        "colab": {
          "base_uri": "https://localhost:8080/",
          "height": 374
        }
      },
      "source": [
        "#looking at the tail\n",
        "df.sort_values(by=['score']).tail()"
      ],
      "execution_count": 0,
      "outputs": [
        {
          "output_type": "execute_result",
          "data": {
            "text/html": [
              "<div>\n",
              "<style scoped>\n",
              "    .dataframe tbody tr th:only-of-type {\n",
              "        vertical-align: middle;\n",
              "    }\n",
              "\n",
              "    .dataframe tbody tr th {\n",
              "        vertical-align: top;\n",
              "    }\n",
              "\n",
              "    .dataframe thead th {\n",
              "        text-align: right;\n",
              "    }\n",
              "</style>\n",
              "<table border=\"1\" class=\"dataframe\">\n",
              "  <thead>\n",
              "    <tr style=\"text-align: right;\">\n",
              "      <th></th>\n",
              "      <th>Starttid</th>\n",
              "      <th>Sluttid</th>\n",
              "      <th>Navn</th>\n",
              "      <th>Rolle</th>\n",
              "      <th>Tekst</th>\n",
              "      <th>Parti</th>\n",
              "      <th>Dato</th>\n",
              "      <th>Tekst_clean</th>\n",
              "      <th>T_Tekst</th>\n",
              "      <th>T_Tekst_stopw</th>\n",
              "      <th>T_Tekst_stopw_stem</th>\n",
              "      <th>score</th>\n",
              "    </tr>\n",
              "  </thead>\n",
              "  <tbody>\n",
              "    <tr>\n",
              "      <th>76493</th>\n",
              "      <td>10:35:21.003000</td>\n",
              "      <td>10:36:00.923000</td>\n",
              "      <td>Jonas Dahl</td>\n",
              "      <td>medlem</td>\n",
              "      <td>Jeg er gladere for at benytte ordet bane, men ...</td>\n",
              "      <td>SF</td>\n",
              "      <td>2013-10-31</td>\n",
              "      <td>jeg er gladere for at benytte ordet bane men d...</td>\n",
              "      <td>['jeg', 'er', 'gladere', 'for', 'at', 'benytte...</td>\n",
              "      <td>['gladere', 'benytte', 'ordet', 'bane', 'kan',...</td>\n",
              "      <td>['glad', 'benyt', 'ord', 'ban', 'forskel', 'fo...</td>\n",
              "      <td>0.999485</td>\n",
              "    </tr>\n",
              "    <tr>\n",
              "      <th>73633</th>\n",
              "      <td>10:10:45.910000</td>\n",
              "      <td>10:16:45.123000</td>\n",
              "      <td>Hans Christian Schmidt</td>\n",
              "      <td>medlem</td>\n",
              "      <td>Tak for det, formand. Når vi i dag om et øjebl...</td>\n",
              "      <td>V</td>\n",
              "      <td>2014-04-10</td>\n",
              "      <td>tak for det formand når vi i dag om et øjeblik...</td>\n",
              "      <td>['tak', 'for', 'det', 'formand', 'når', 'vi', ...</td>\n",
              "      <td>['formand', 'dag', 'øjeblik', 'vedtager', 'l',...</td>\n",
              "      <td>['formand', 'dag', 'øjeblik', 'vedtag', 'l', '...</td>\n",
              "      <td>0.999485</td>\n",
              "    </tr>\n",
              "    <tr>\n",
              "      <th>103528</th>\n",
              "      <td>15:31:33.327000</td>\n",
              "      <td>15:32:09.377000</td>\n",
              "      <td>Carina Christensen</td>\n",
              "      <td>minister</td>\n",
              "      <td>Jamen det er jeg sådan set enig i. Jeg sagde j...</td>\n",
              "      <td>KF</td>\n",
              "      <td>2009-10-21</td>\n",
              "      <td>jamen det er jeg sådan set enig i jeg sagde jo...</td>\n",
              "      <td>['jamen', 'det', 'er', 'jeg', 'sådan', 'set', ...</td>\n",
              "      <td>['jamen', 'set', 'enig', 'sagde', 'gjort', 'go...</td>\n",
              "      <td>['jam', 'set', 'enig', 'sagd', 'gjort', 'god',...</td>\n",
              "      <td>0.999486</td>\n",
              "    </tr>\n",
              "    <tr>\n",
              "      <th>39200</th>\n",
              "      <td>15:18:17.873000</td>\n",
              "      <td>15:19:13.343000</td>\n",
              "      <td>Karen Hækkerup</td>\n",
              "      <td>minister</td>\n",
              "      <td>Tak. Jeg vil gerne starte med at sige, at jeg ...</td>\n",
              "      <td>S</td>\n",
              "      <td>2011-12-07</td>\n",
              "      <td>tak jeg vil gerne starte med at sige at jeg er...</td>\n",
              "      <td>['tak', 'jeg', 'vil', 'gerne', 'starte', 'med'...</td>\n",
              "      <td>['gerne', 'starte', 'sige', 'helt', 'sikker', ...</td>\n",
              "      <td>['gern', 'start', 'helt', 'sik', 'ansat', 'sta...</td>\n",
              "      <td>0.999486</td>\n",
              "    </tr>\n",
              "    <tr>\n",
              "      <th>3080</th>\n",
              "      <td>15:08:34.887000</td>\n",
              "      <td>15:12:08.153000</td>\n",
              "      <td>Claus Hjort Frederiksen</td>\n",
              "      <td>minister</td>\n",
              "      <td>Regeringen har på den baggrund fokus på bedre ...</td>\n",
              "      <td>V</td>\n",
              "      <td>2011-05-25</td>\n",
              "      <td>regeringen har på den baggrund fokus på bedre ...</td>\n",
              "      <td>['regeringen', 'har', 'på', 'den', 'baggrund',...</td>\n",
              "      <td>['regeringen', 'baggrund', 'fokus', 'bedre', '...</td>\n",
              "      <td>['regering', 'baggrund', 'fokus', 'bedr', 'øko...</td>\n",
              "      <td>0.999486</td>\n",
              "    </tr>\n",
              "  </tbody>\n",
              "</table>\n",
              "</div>"
            ],
            "text/plain": [
              "               Starttid  ...     score\n",
              "76493   10:35:21.003000  ...  0.999485\n",
              "73633   10:10:45.910000  ...  0.999485\n",
              "103528  15:31:33.327000  ...  0.999486\n",
              "39200   15:18:17.873000  ...  0.999486\n",
              "3080    15:08:34.887000  ...  0.999486\n",
              "\n",
              "[5 rows x 12 columns]"
            ]
          },
          "metadata": {
            "tags": []
          },
          "execution_count": 56
        }
      ]
    },
    {
      "cell_type": "markdown",
      "metadata": {
        "id": "K9ctde18Y1KJ",
        "colab_type": "text"
      },
      "source": [
        "##### By parties"
      ]
    },
    {
      "cell_type": "code",
      "metadata": {
        "id": "sRKcBrUwXy4h",
        "colab_type": "code",
        "outputId": "f2d96c11-0390-4507-c435-661255c6540c",
        "colab": {
          "base_uri": "https://localhost:8080/",
          "height": 340
        }
      },
      "source": [
        "df.groupby('Parti').mean()['score']"
      ],
      "execution_count": 0,
      "outputs": [
        {
          "output_type": "execute_result",
          "data": {
            "text/plain": [
              "Parti\n",
              "ALT              0.070677\n",
              "DF               0.056047\n",
              "EL               0.054608\n",
              "IA               0.112865\n",
              "JF               0.086253\n",
              "KD               0.069272\n",
              "KF               0.071483\n",
              "LA               0.054571\n",
              "RV               0.061747\n",
              "S                0.061766\n",
              "SF               0.062297\n",
              "SIU              0.082107\n",
              "SP               0.089222\n",
              "T                0.082969\n",
              "UFG              0.066523\n",
              "V                0.060332\n",
              "udpeget af SF    0.097290\n",
              "Name: score, dtype: float64"
            ]
          },
          "metadata": {
            "tags": []
          },
          "execution_count": 57
        }
      ]
    },
    {
      "cell_type": "markdown",
      "metadata": {
        "id": "vqo4cHHAZEs1",
        "colab_type": "text"
      },
      "source": [
        "##### By person"
      ]
    },
    {
      "cell_type": "code",
      "metadata": {
        "id": "R7bpNhBBY771",
        "colab_type": "code",
        "outputId": "2376ea04-a3cb-4e1d-bcd8-e0c73fd36012",
        "colab": {
          "base_uri": "https://localhost:8080/",
          "height": 204
        }
      },
      "source": [
        "df.groupby(['Navn','Parti']).mean()['score'].reset_index().sort_values(by=['score']).head()"
      ],
      "execution_count": 0,
      "outputs": [
        {
          "output_type": "execute_result",
          "data": {
            "text/html": [
              "<div>\n",
              "<style scoped>\n",
              "    .dataframe tbody tr th:only-of-type {\n",
              "        vertical-align: middle;\n",
              "    }\n",
              "\n",
              "    .dataframe tbody tr th {\n",
              "        vertical-align: top;\n",
              "    }\n",
              "\n",
              "    .dataframe thead th {\n",
              "        text-align: right;\n",
              "    }\n",
              "</style>\n",
              "<table border=\"1\" class=\"dataframe\">\n",
              "  <thead>\n",
              "    <tr style=\"text-align: right;\">\n",
              "      <th></th>\n",
              "      <th>Navn</th>\n",
              "      <th>Parti</th>\n",
              "      <th>score</th>\n",
              "    </tr>\n",
              "  </thead>\n",
              "  <tbody>\n",
              "    <tr>\n",
              "      <th>9</th>\n",
              "      <td>Anne-Marie Meldgaard</td>\n",
              "      <td>S</td>\n",
              "      <td>-0.003625</td>\n",
              "    </tr>\n",
              "    <tr>\n",
              "      <th>184</th>\n",
              "      <td>Niels Sindal</td>\n",
              "      <td>S</td>\n",
              "      <td>0.009381</td>\n",
              "    </tr>\n",
              "    <tr>\n",
              "      <th>71</th>\n",
              "      <td>Hüseyin Arac</td>\n",
              "      <td>S</td>\n",
              "      <td>0.011510</td>\n",
              "    </tr>\n",
              "    <tr>\n",
              "      <th>133</th>\n",
              "      <td>Laura Lindahl</td>\n",
              "      <td>LA</td>\n",
              "      <td>0.012212</td>\n",
              "    </tr>\n",
              "    <tr>\n",
              "      <th>36</th>\n",
              "      <td>Daniel Rugholm</td>\n",
              "      <td>KF</td>\n",
              "      <td>0.012461</td>\n",
              "    </tr>\n",
              "  </tbody>\n",
              "</table>\n",
              "</div>"
            ],
            "text/plain": [
              "                     Navn Parti     score\n",
              "9    Anne-Marie Meldgaard     S -0.003625\n",
              "184          Niels Sindal     S  0.009381\n",
              "71           Hüseyin Arac     S  0.011510\n",
              "133         Laura Lindahl    LA  0.012212\n",
              "36         Daniel Rugholm    KF  0.012461"
            ]
          },
          "metadata": {
            "tags": []
          },
          "execution_count": 58
        }
      ]
    },
    {
      "cell_type": "markdown",
      "metadata": {
        "id": "_OZ7hj9BZcv7",
        "colab_type": "text"
      },
      "source": [
        "##### By function"
      ]
    },
    {
      "cell_type": "code",
      "metadata": {
        "id": "H4tOiGuZZK3r",
        "colab_type": "code",
        "outputId": "d45bc9dc-bb83-4516-a6c1-75151f20ebbb",
        "colab": {
          "base_uri": "https://localhost:8080/",
          "height": 476
        }
      },
      "source": [
        "df.groupby(['Rolle','Parti']).mean()['score']"
      ],
      "execution_count": 0,
      "outputs": [
        {
          "output_type": "execute_result",
          "data": {
            "text/plain": [
              "Rolle            Parti        \n",
              "aldersformanden  RV              -0.011220\n",
              "                 V                0.004742\n",
              "medlem           ALT              0.051637\n",
              "                 DF               0.056047\n",
              "                 EL               0.054608\n",
              "                 IA               0.112865\n",
              "                 JF               0.086253\n",
              "                 KD               0.069272\n",
              "                 KF               0.062875\n",
              "                 LA               0.054571\n",
              "                 RV               0.052511\n",
              "                 S                0.058689\n",
              "                 SF               0.061106\n",
              "                 SIU              0.082107\n",
              "                 SP               0.089222\n",
              "                 T                0.082969\n",
              "                 UFG              0.066523\n",
              "                 V                0.056527\n",
              "                 udpeget af SF    0.097290\n",
              "minister         ALT              0.082028\n",
              "                 KF               0.087685\n",
              "                 RV               0.087903\n",
              "                 S                0.070301\n",
              "                 SF               0.075753\n",
              "                 V                0.070402\n",
              "Name: score, dtype: float64"
            ]
          },
          "metadata": {
            "tags": []
          },
          "execution_count": 62
        }
      ]
    },
    {
      "cell_type": "markdown",
      "metadata": {
        "id": "Hb-IY16LaHal",
        "colab_type": "text"
      },
      "source": [
        "It actually seems like, that there is a trend in parties being more 'normal' when being in office (holding minister positions), than when being in the opposition. This, again, just forces the fact that it could be fun to add sentiment as an input to the NN. "
      ]
    },
    {
      "cell_type": "markdown",
      "metadata": {
        "id": "9L14pIU9aaXu",
        "colab_type": "text"
      },
      "source": [
        "### Anormaly-distribution"
      ]
    },
    {
      "cell_type": "code",
      "metadata": {
        "id": "21ypT-yTZk7w",
        "colab_type": "code",
        "colab": {}
      },
      "source": [
        "#saving the sorted values\n",
        "dist = df.sort_values(by=['score']).score.reset_index()"
      ],
      "execution_count": 0,
      "outputs": []
    },
    {
      "cell_type": "code",
      "metadata": {
        "id": "57Xoa_I0a0vp",
        "colab_type": "code",
        "outputId": "ffe8ed57-0547-48c4-b67b-6fdd49a025fe",
        "colab": {
          "base_uri": "https://localhost:8080/",
          "height": 204
        }
      },
      "source": [
        "dist.head()"
      ],
      "execution_count": 0,
      "outputs": [
        {
          "output_type": "execute_result",
          "data": {
            "text/html": [
              "<div>\n",
              "<style scoped>\n",
              "    .dataframe tbody tr th:only-of-type {\n",
              "        vertical-align: middle;\n",
              "    }\n",
              "\n",
              "    .dataframe tbody tr th {\n",
              "        vertical-align: top;\n",
              "    }\n",
              "\n",
              "    .dataframe thead th {\n",
              "        text-align: right;\n",
              "    }\n",
              "</style>\n",
              "<table border=\"1\" class=\"dataframe\">\n",
              "  <thead>\n",
              "    <tr style=\"text-align: right;\">\n",
              "      <th></th>\n",
              "      <th>index</th>\n",
              "      <th>score</th>\n",
              "    </tr>\n",
              "  </thead>\n",
              "  <tbody>\n",
              "    <tr>\n",
              "      <th>0</th>\n",
              "      <td>67634</td>\n",
              "      <td>-0.379502</td>\n",
              "    </tr>\n",
              "    <tr>\n",
              "      <th>1</th>\n",
              "      <td>30902</td>\n",
              "      <td>-0.367491</td>\n",
              "    </tr>\n",
              "    <tr>\n",
              "      <th>2</th>\n",
              "      <td>13328</td>\n",
              "      <td>-0.346520</td>\n",
              "    </tr>\n",
              "    <tr>\n",
              "      <th>3</th>\n",
              "      <td>14706</td>\n",
              "      <td>-0.327124</td>\n",
              "    </tr>\n",
              "    <tr>\n",
              "      <th>4</th>\n",
              "      <td>68844</td>\n",
              "      <td>-0.322206</td>\n",
              "    </tr>\n",
              "  </tbody>\n",
              "</table>\n",
              "</div>"
            ],
            "text/plain": [
              "   index     score\n",
              "0  67634 -0.379502\n",
              "1  30902 -0.367491\n",
              "2  13328 -0.346520\n",
              "3  14706 -0.327124\n",
              "4  68844 -0.322206"
            ]
          },
          "metadata": {
            "tags": []
          },
          "execution_count": 42
        }
      ]
    },
    {
      "cell_type": "code",
      "metadata": {
        "id": "9u8LI0Ruae51",
        "colab_type": "code",
        "colab": {}
      },
      "source": [
        "#deleting the index-columns\n",
        "del dist['index']"
      ],
      "execution_count": 0,
      "outputs": []
    },
    {
      "cell_type": "code",
      "metadata": {
        "id": "MV14w55ketgW",
        "colab_type": "code",
        "outputId": "2c4cf128-1495-47ec-db5b-cb53527c1d44",
        "colab": {
          "base_uri": "https://localhost:8080/",
          "height": 282
        }
      },
      "source": [
        "dist.plot()"
      ],
      "execution_count": 0,
      "outputs": [
        {
          "output_type": "execute_result",
          "data": {
            "text/plain": [
              "<matplotlib.axes._subplots.AxesSubplot at 0x7f153fd9fdd8>"
            ]
          },
          "metadata": {
            "tags": []
          },
          "execution_count": 44
        },
        {
          "output_type": "display_data",
          "data": {
            "image/png": "[encoded data removed]",
            "text/plain": [
              "<Figure size 432x288 with 1 Axes>"
            ]
          },
          "metadata": {
            "tags": [],
            "needs_background": "light"
          }
        }
      ]
    },
    {
      "cell_type": "code",
      "metadata": {
        "id": "_KKcG9zPa7K0",
        "colab_type": "code",
        "outputId": "bba4e9b7-d377-4025-ce43-dc391861bc81",
        "colab": {
          "base_uri": "https://localhost:8080/",
          "height": 265
        }
      },
      "source": [
        "sns.distplot(dist,bins=20);"
      ],
      "execution_count": 0,
      "outputs": [
        {
          "output_type": "display_data",
          "data": {
            "image/png": "[encoded data removed]",
            "text/plain": [
              "<Figure size 432x288 with 1 Axes>"
            ]
          },
          "metadata": {
            "tags": [],
            "needs_background": "light"
          }
        }
      ]
    },
    {
      "cell_type": "markdown",
      "metadata": {
        "id": "kCLZG3A8pE4a",
        "colab_type": "text"
      },
      "source": [
        "NB: from looking at the distribution, we are seeing that something is a bit wired, since most of them are distributed around 0. A cosine 0 means that the predicted vector (of the speech) and the actual vector has a 90 degree angle, which essentially means that there is no similarity. \n",
        "\n",
        "There might be several reasons for this. The most obvious one (and most likely the root course) is due to the Doc2Vec is not made given a Danish framework. This means, that it utilizes English word-embeddings, does not hold the latent meaning of the Danish words. "
      ]
    },
    {
      "cell_type": "markdown",
      "metadata": {
        "id": "utXzNYRHp4Nz",
        "colab_type": "text"
      },
      "source": [
        "NEXT: Google: doc2vec danish"
      ]
    },
    {
      "cell_type": "code",
      "metadata": {
        "id": "4DVP7bg3b4r7",
        "colab_type": "code",
        "colab": {}
      },
      "source": [
        ""
      ],
      "execution_count": 0,
      "outputs": []
    },
    {
      "cell_type": "markdown",
      "metadata": {
        "id": "dEus-N_2rfQL",
        "colab_type": "text"
      },
      "source": [
        "## <font color='blue'>Part 7</font>: Decreasing vecor sizes\n",
        "<a id=part7></a>"
      ]
    },
    {
      "cell_type": "code",
      "metadata": {
        "id": "LLrJQfYYwEpy",
        "colab_type": "code",
        "colab": {}
      },
      "source": [
        "def decrease_comp(dec2vec_, predicted_, comp, bins_, std):\n",
        "    #if std == 'yes':\n",
        "      #Standardizing\n",
        "    #  doc2vec_ = StandardScaler().fit_transform(dec2vec_)\n",
        "    #  predicted_ = StandardScaler().fit_transform(predicted_)\n",
        "\n",
        "    #defining pca and turning into vectors\n",
        "    pca = PCA(n_components=comp)\n",
        "\n",
        "    #transforming the standardized doc2vec into its 50 principal components\n",
        "    doc2vec_comp = pca.fit_transform(doc2vec_)\n",
        "    predicted_comp = pca.fit_transform(predicted_)\n",
        "\n",
        "    #calculating similarity and plotting\n",
        "    sorted_cosine_similarities = get_computed_similarities(vectors= doc2vec_comp, predicted_vectors= predicted_comp)\n",
        "    sim = pd.DataFrame(sorted_cosine_similarities,columns = ['idx','sim'])\n",
        "    sns.distplot(sim['sim'],bins=bins_);"
      ],
      "execution_count": 0,
      "outputs": []
    },
    {
      "cell_type": "code",
      "metadata": {
        "id": "8cINMUF_x0W7",
        "colab_type": "code",
        "outputId": "fdd10d60-81f7-4519-e84d-625081914b59",
        "colab": {
          "base_uri": "https://localhost:8080/",
          "height": 283
        }
      },
      "source": [
        "decrease_comp(doc2vec_vectors, predicted_vectors, 300, 20, 'no') #50, 20 worked very well"
      ],
      "execution_count": 0,
      "outputs": [
        {
          "output_type": "error",
          "ename": "NameError",
          "evalue": "ignored",
          "traceback": [
            "\u001b[0;31m---------------------------------------------------------------------------\u001b[0m",
            "\u001b[0;31mNameError\u001b[0m                                 Traceback (most recent call last)",
            "\u001b[0;32m<ipython-input-89-00f0e153b71c>\u001b[0m in \u001b[0;36m<module>\u001b[0;34m()\u001b[0m\n\u001b[0;32m----> 1\u001b[0;31m \u001b[0mdecrease_comp\u001b[0m\u001b[0;34m(\u001b[0m\u001b[0mdoc2vec_vectors\u001b[0m\u001b[0;34m,\u001b[0m \u001b[0mpredicted_vectors\u001b[0m\u001b[0;34m,\u001b[0m \u001b[0;36m300\u001b[0m\u001b[0;34m,\u001b[0m \u001b[0;36m20\u001b[0m\u001b[0;34m,\u001b[0m \u001b[0;34m'no'\u001b[0m\u001b[0;34m)\u001b[0m \u001b[0;31m#50, 20 worked very well\u001b[0m\u001b[0;34m\u001b[0m\u001b[0;34m\u001b[0m\u001b[0m\n\u001b[0m",
            "\u001b[0;32m<ipython-input-88-01f061eccad3>\u001b[0m in \u001b[0;36mdecrease_comp\u001b[0;34m(dec2vec_, predicted_, comp, bins_, std)\u001b[0m\n\u001b[1;32m      9\u001b[0m \u001b[0;34m\u001b[0m\u001b[0m\n\u001b[1;32m     10\u001b[0m     \u001b[0;31m#transforming the standardized doc2vec into its 50 principal components\u001b[0m\u001b[0;34m\u001b[0m\u001b[0;34m\u001b[0m\u001b[0;34m\u001b[0m\u001b[0m\n\u001b[0;32m---> 11\u001b[0;31m     \u001b[0mdoc2vec_comp\u001b[0m \u001b[0;34m=\u001b[0m \u001b[0mpca\u001b[0m\u001b[0;34m.\u001b[0m\u001b[0mfit_transform\u001b[0m\u001b[0;34m(\u001b[0m\u001b[0mdoc2vec_\u001b[0m\u001b[0;34m)\u001b[0m\u001b[0;34m\u001b[0m\u001b[0;34m\u001b[0m\u001b[0m\n\u001b[0m\u001b[1;32m     12\u001b[0m     \u001b[0mpredicted_comp\u001b[0m \u001b[0;34m=\u001b[0m \u001b[0mpca\u001b[0m\u001b[0;34m.\u001b[0m\u001b[0mfit_transform\u001b[0m\u001b[0;34m(\u001b[0m\u001b[0mpredicted_\u001b[0m\u001b[0;34m)\u001b[0m\u001b[0;34m\u001b[0m\u001b[0;34m\u001b[0m\u001b[0m\n\u001b[1;32m     13\u001b[0m \u001b[0;34m\u001b[0m\u001b[0m\n",
            "\u001b[0;31mNameError\u001b[0m: name 'doc2vec_' is not defined"
          ]
        }
      ]
    },
    {
      "cell_type": "code",
      "metadata": {
        "id": "yX5FlD_trigP",
        "colab_type": "code",
        "colab": {}
      },
      "source": [
        "#standardizing the vectors vectors=doc2vec_vectors, predicted_vectors=predicted_vectors\n",
        "\n",
        "##doc2vec\n",
        "doc2vec_vectors_s = StandardScaler().fit_transform(doc2vec_vectors)\n",
        "\n",
        "##predicted\n",
        "predicted_vectors_s = StandardScaler().fit_transform(predicted_vectors)"
      ],
      "execution_count": 0,
      "outputs": []
    },
    {
      "cell_type": "code",
      "metadata": {
        "id": "CEPeBaQWsJ7k",
        "colab_type": "code",
        "colab": {}
      },
      "source": [
        "#defining the pca w. 50 components\n",
        "pca = PCA(n_components=50)\n",
        "\n",
        "#transforming the standardized doc2vec into its 50 principal components\n",
        "doc2vec_vectors_comp = pca.fit_transform(doc2vec_vectors_s)\n",
        "\n",
        "#transforming the standardized predicted vectors into its 50 principal components"
      ],
      "execution_count": 0,
      "outputs": []
    },
    {
      "cell_type": "code",
      "metadata": {
        "id": "iTE1b4X6sYHD",
        "colab_type": "code",
        "outputId": "99338d0d-09e4-431a-eb87-e39860f60afd",
        "colab": {
          "base_uri": "https://localhost:8080/",
          "height": 238
        }
      },
      "source": [
        ""
      ],
      "execution_count": 0,
      "outputs": [
        {
          "output_type": "execute_result",
          "data": {
            "text/plain": [
              "array([[-4.98320550e-01, -5.82904756e-01,  4.06956859e-02, ...,\n",
              "        -7.07131403e-04, -1.07771587e-02, -3.31347063e-03],\n",
              "       [-5.05706429e-01, -5.83132923e-01,  3.28796543e-02, ...,\n",
              "         1.07227266e-02,  1.16919456e-02,  7.22786551e-03],\n",
              "       [-5.06644666e-01, -5.81250072e-01,  2.66945176e-02, ...,\n",
              "        -1.15194800e-03, -1.19047454e-02,  1.02384307e-03],\n",
              "       ...,\n",
              "       [-4.86760587e-01, -5.90692401e-01,  2.56802719e-02, ...,\n",
              "         1.86244566e-02,  1.07103493e-04, -1.41794365e-02],\n",
              "       [-4.87635881e-01, -5.79493940e-01,  3.63905393e-02, ...,\n",
              "         1.77857820e-02,  8.10466427e-03, -8.45501944e-03],\n",
              "       [-4.95359600e-01, -5.76493323e-01,  3.54273431e-02, ...,\n",
              "        -2.11870996e-03,  5.80639718e-03,  1.00123975e-02]], dtype=float32)"
            ]
          },
          "metadata": {
            "tags": []
          },
          "execution_count": 38
        }
      ]
    },
    {
      "cell_type": "markdown",
      "metadata": {
        "id": "TFGKUKqgs6Ps",
        "colab_type": "text"
      },
      "source": [
        "#### plotting in 2 dimensions"
      ]
    },
    {
      "cell_type": "code",
      "metadata": {
        "id": "B4hQ3tQHsYDo",
        "colab_type": "code",
        "colab": {}
      },
      "source": [
        "#pca on doc2vec\n",
        "pca_2 = PCA(n_components=2)\n",
        "#transforming the standardized doc2vec into its 50 principal components\n",
        "doc2vec_vectors_comp_2 = pca_2.fit_transform(doc2vec_vectors_s)"
      ],
      "execution_count": 0,
      "outputs": []
    },
    {
      "cell_type": "code",
      "metadata": {
        "id": "cnB79eQBsX0z",
        "colab_type": "code",
        "colab": {}
      },
      "source": [
        "comp_2 = pd.DataFrame(data = doc2vec_vectors_comp_2, columns = ['p1', 'p2'])"
      ],
      "execution_count": 0,
      "outputs": []
    },
    {
      "cell_type": "code",
      "metadata": {
        "id": "PTmLoXs2tUU4",
        "colab_type": "code",
        "outputId": "27b69f37-dabc-4d84-b22e-82d2165fce6c",
        "colab": {
          "base_uri": "https://localhost:8080/",
          "height": 296
        }
      },
      "source": [
        "comp_2.plot(kind='scatter', x='p1',y='p2')"
      ],
      "execution_count": 0,
      "outputs": [
        {
          "output_type": "execute_result",
          "data": {
            "text/plain": [
              "<matplotlib.axes._subplots.AxesSubplot at 0x7fd61e340198>"
            ]
          },
          "metadata": {
            "tags": []
          },
          "execution_count": 51
        },
        {
          "output_type": "display_data",
          "data": {
            "image/png": "[encoded data removed]",
            "text/plain": [
              "<Figure size 432x288 with 1 Axes>"
            ]
          },
          "metadata": {
            "tags": [],
            "needs_background": "light"
          }
        }
      ]
    },
    {
      "cell_type": "code",
      "metadata": {
        "id": "27noSik0uslH",
        "colab_type": "code",
        "colab": {}
      },
      "source": [
        "#pca on predicted values\n",
        "pca_2 = PCA(n_components=2)\n",
        "#transforming the standardized doc2vec into its 50 principal components\n",
        "predicted_vectors_comp_2 = pca_2.fit_transform(predicted_vectors_s)"
      ],
      "execution_count": 0,
      "outputs": []
    },
    {
      "cell_type": "code",
      "metadata": {
        "id": "fFcO9Xaku5Ja",
        "colab_type": "code",
        "outputId": "8ffb5d3b-98f4-49bc-a09b-6b95ed6be609",
        "colab": {
          "base_uri": "https://localhost:8080/",
          "height": 34
        }
      },
      "source": [
        "print(predicted_vectors_comp_2.shape,doc2vec_vectors_comp_2.shape)"
      ],
      "execution_count": 0,
      "outputs": [
        {
          "output_type": "stream",
          "text": [
            "(114013, 2) (114013, 2)\n"
          ],
          "name": "stdout"
        }
      ]
    },
    {
      "cell_type": "code",
      "metadata": {
        "id": "Wp3mIN9euGFt",
        "colab_type": "code",
        "outputId": "662ce972-4d93-4aa5-d337-b056daa55c74",
        "colab": {
          "base_uri": "https://localhost:8080/",
          "height": 714
        }
      },
      "source": [
        "#looking at the biggest outliers from only 2 components\n",
        "print('Top 10 most unique speeches in Folketinget')\n",
        "sorted_cosine_similarities = get_computed_similarities(vectors=doc2vec_vectors_comp_2, predicted_vectors=predicted_vectors_comp_2)\n",
        "date, person = display_top_n(sorted_cosine_similarities=sorted_cosine_similarities, n=10)"
      ],
      "execution_count": 0,
      "outputs": [
        {
          "output_type": "stream",
          "text": [
            "Top 10 most unique speeches in Folketinget\n",
            "Date of speech:  2013-11-26 14:13:24.773000\n",
            "Speech by:  Jørgen Arbo-Bæhr EL\n",
            "Cosine Sim Val : -0.9999936778863288\n",
            "---------------------------------\n",
            "Date of speech:  2014-03-25 16:08:57.813000\n",
            "Speech by:  Kristian Pihl Lorentzen V\n",
            "Cosine Sim Val : -0.9999890372181883\n",
            "---------------------------------\n",
            "Date of speech:  2013-01-11 13:58:05.227000\n",
            "Speech by:  Carsten Hansen S\n",
            "Cosine Sim Val : -0.999971451569114\n",
            "---------------------------------\n",
            "Date of speech:  2012-10-10 15:37:52.210000\n",
            "Speech by:  Inger Støjberg V\n",
            "Cosine Sim Val : -0.9999456354821026\n",
            "---------------------------------\n",
            "Date of speech:  2010-02-03 20:02:35.607000\n",
            "Speech by:  Lykke Friis V\n",
            "Cosine Sim Val : -0.9999304530092505\n",
            "---------------------------------\n",
            "Date of speech:  2014-06-02 12:21:21.390000\n",
            "Speech by:  Christian Juhl EL\n",
            "Cosine Sim Val : -0.9999091816008487\n",
            "---------------------------------\n",
            "Date of speech:  2010-04-22 17:26:34.667000\n",
            "Speech by:  Per Clausen EL\n",
            "Cosine Sim Val : -0.9998919224403271\n",
            "---------------------------------\n",
            "Date of speech:  2012-05-30 17:38:22.893000\n",
            "Speech by:  Helle Thorning-Schmidt S\n",
            "Cosine Sim Val : -0.9998858491762357\n",
            "---------------------------------\n",
            "Date of speech:  2012-02-03 10:44:21.967000\n",
            "Speech by:  Ida Damborg nan\n",
            "Cosine Sim Val : -0.9998820259221834\n",
            "---------------------------------\n",
            "Date of speech:  2011-05-13 12:42:00.600000\n",
            "Speech by:  Per Clausen EL\n",
            "Cosine Sim Val : -0.9998672008939353\n",
            "---------------------------------\n"
          ],
          "name": "stdout"
        }
      ]
    },
    {
      "cell_type": "code",
      "metadata": {
        "id": "zttFfGVsvDEu",
        "colab_type": "code",
        "colab": {}
      },
      "source": [
        "sim = pd.DataFrame(sorted_cosine_similarities,columns = ['idx','sim'])"
      ],
      "execution_count": 0,
      "outputs": []
    },
    {
      "cell_type": "code",
      "metadata": {
        "id": "GePJB1PsveVo",
        "colab_type": "code",
        "outputId": "bd756f70-7418-4ce4-9537-1fb0be410de3",
        "colab": {
          "base_uri": "https://localhost:8080/",
          "height": 204
        }
      },
      "source": [
        "sim.head()"
      ],
      "execution_count": 0,
      "outputs": [
        {
          "output_type": "execute_result",
          "data": {
            "text/html": [
              "<div>\n",
              "<style scoped>\n",
              "    .dataframe tbody tr th:only-of-type {\n",
              "        vertical-align: middle;\n",
              "    }\n",
              "\n",
              "    .dataframe tbody tr th {\n",
              "        vertical-align: top;\n",
              "    }\n",
              "\n",
              "    .dataframe thead th {\n",
              "        text-align: right;\n",
              "    }\n",
              "</style>\n",
              "<table border=\"1\" class=\"dataframe\">\n",
              "  <thead>\n",
              "    <tr style=\"text-align: right;\">\n",
              "      <th></th>\n",
              "      <th>idx</th>\n",
              "      <th>sim</th>\n",
              "    </tr>\n",
              "  </thead>\n",
              "  <tbody>\n",
              "    <tr>\n",
              "      <th>0</th>\n",
              "      <td>78853</td>\n",
              "      <td>-0.999994</td>\n",
              "    </tr>\n",
              "    <tr>\n",
              "      <th>1</th>\n",
              "      <td>75247</td>\n",
              "      <td>-0.999989</td>\n",
              "    </tr>\n",
              "    <tr>\n",
              "      <th>2</th>\n",
              "      <td>60607</td>\n",
              "      <td>-0.999971</td>\n",
              "    </tr>\n",
              "    <tr>\n",
              "      <th>3</th>\n",
              "      <td>59129</td>\n",
              "      <td>-0.999946</td>\n",
              "    </tr>\n",
              "    <tr>\n",
              "      <th>4</th>\n",
              "      <td>109978</td>\n",
              "      <td>-0.999930</td>\n",
              "    </tr>\n",
              "  </tbody>\n",
              "</table>\n",
              "</div>"
            ],
            "text/plain": [
              "      idx       sim\n",
              "0   78853 -0.999994\n",
              "1   75247 -0.999989\n",
              "2   60607 -0.999971\n",
              "3   59129 -0.999946\n",
              "4  109978 -0.999930"
            ]
          },
          "metadata": {
            "tags": []
          },
          "execution_count": 62
        }
      ]
    },
    {
      "cell_type": "code",
      "metadata": {
        "id": "vsw_uN26vWG9",
        "colab_type": "code",
        "outputId": "de344d71-e859-4bca-a3d0-b4bb3830868c",
        "colab": {
          "base_uri": "https://localhost:8080/",
          "height": 279
        }
      },
      "source": [
        "sns.distplot(sim['sim'],bins=10);"
      ],
      "execution_count": 0,
      "outputs": [
        {
          "output_type": "display_data",
          "data": {
            "image/png": "[encoded data removed]",
            "text/plain": [
              "<Figure size 432x288 with 1 Axes>"
            ]
          },
          "metadata": {
            "tags": [],
            "needs_background": "light"
          }
        }
      ]
    },
    {
      "cell_type": "code",
      "metadata": {
        "id": "GCbo5ePbvhmp",
        "colab_type": "code",
        "colab": {}
      },
      "source": [
        ""
      ],
      "execution_count": 0,
      "outputs": []
    },
    {
      "cell_type": "markdown",
      "metadata": {
        "id": "fYrk5RKY8_uB",
        "colab_type": "text"
      },
      "source": [
        "## Word2Vec and average"
      ]
    },
    {
      "cell_type": "code",
      "metadata": {
        "id": "gSRUMX8N9CYY",
        "colab_type": "code",
        "colab": {}
      },
      "source": [
        "def get_model():\n",
        "    from gensim.models.wrappers.fasttext import FastText\n",
        "    return FastText.load_fasttext_format('/content/drive/My Drive/Uni/MMC/3. semester/NLP/problem/Practical/wiki/wiki.da.bin')\n",
        "\n",
        "#Create word-vectors: (This model is used in the )\n",
        "def word2vec(word):\n",
        "    empty_list = np.ones((300))\n",
        "    wordemb = []\n",
        "    try: # If not empty\n",
        "        word_emb = lan_model.wv.word_vec(word)\n",
        "        wordemb.append(word_emb)\n",
        "    except: # If empty or word not known create list of ones:\n",
        "        wordemb.append(empty_list)\n",
        "    return wordemb"
      ],
      "execution_count": 0,
      "outputs": []
    },
    {
      "cell_type": "code",
      "metadata": {
        "id": "hQqs7_2U9k15",
        "colab_type": "code",
        "colab": {}
      },
      "source": [
        "transfer_words = True"
      ],
      "execution_count": 0,
      "outputs": []
    },
    {
      "cell_type": "code",
      "metadata": {
        "id": "SaJ0-CRs-Hao",
        "colab_type": "code",
        "outputId": "cd11e745-a8db-44e6-91b7-c6dce966ce10",
        "colab": {
          "base_uri": "https://localhost:8080/",
          "height": 412
        }
      },
      "source": [
        "#resetting the index om df_m \n",
        "#df_m = df_m.reset_index().iloc[:,1:]\n",
        "df_m = pd.read_csv('/content/drive/My Drive/Uni/MMC/4. semester/CDA/data/DPC_speeches_processed.csv')\n",
        "df_m = df_m.reset_index().iloc[:,2:]"
      ],
      "execution_count": 0,
      "outputs": [
        {
          "output_type": "error",
          "ename": "FileNotFoundError",
          "evalue": "ignored",
          "traceback": [
            "\u001b[0;31m---------------------------------------------------------------------------\u001b[0m",
            "\u001b[0;31mFileNotFoundError\u001b[0m                         Traceback (most recent call last)",
            "\u001b[0;32m<ipython-input-9-f4fe04da8a83>\u001b[0m in \u001b[0;36m<module>\u001b[0;34m()\u001b[0m\n\u001b[0;32m----> 1\u001b[0;31m \u001b[0mdf_m\u001b[0m \u001b[0;34m=\u001b[0m \u001b[0mpd\u001b[0m\u001b[0;34m.\u001b[0m\u001b[0mread_csv\u001b[0m\u001b[0;34m(\u001b[0m\u001b[0;34m'/content/drive/My Drive/Uni/MMC/4. semester/CDA/data/DPC_speeches_processed.csv'\u001b[0m\u001b[0;34m)\u001b[0m\u001b[0;34m\u001b[0m\u001b[0;34m\u001b[0m\u001b[0m\n\u001b[0m\u001b[1;32m      2\u001b[0m \u001b[0mdf_m\u001b[0m \u001b[0;34m=\u001b[0m \u001b[0mdf_m\u001b[0m\u001b[0;34m.\u001b[0m\u001b[0mreset_index\u001b[0m\u001b[0;34m(\u001b[0m\u001b[0;34m)\u001b[0m\u001b[0;34m.\u001b[0m\u001b[0miloc\u001b[0m\u001b[0;34m[\u001b[0m\u001b[0;34m:\u001b[0m\u001b[0;34m,\u001b[0m\u001b[0;36m2\u001b[0m\u001b[0;34m:\u001b[0m\u001b[0;34m]\u001b[0m\u001b[0;34m\u001b[0m\u001b[0;34m\u001b[0m\u001b[0m\n",
            "\u001b[0;32m/usr/local/lib/python3.6/dist-packages/pandas/io/parsers.py\u001b[0m in \u001b[0;36mparser_f\u001b[0;34m(filepath_or_buffer, sep, delimiter, header, names, index_col, usecols, squeeze, prefix, mangle_dupe_cols, dtype, engine, converters, true_values, false_values, skipinitialspace, skiprows, skipfooter, nrows, na_values, keep_default_na, na_filter, verbose, skip_blank_lines, parse_dates, infer_datetime_format, keep_date_col, date_parser, dayfirst, cache_dates, iterator, chunksize, compression, thousands, decimal, lineterminator, quotechar, quoting, doublequote, escapechar, comment, encoding, dialect, error_bad_lines, warn_bad_lines, delim_whitespace, low_memory, memory_map, float_precision)\u001b[0m\n\u001b[1;32m    674\u001b[0m         )\n\u001b[1;32m    675\u001b[0m \u001b[0;34m\u001b[0m\u001b[0m\n\u001b[0;32m--> 676\u001b[0;31m         \u001b[0;32mreturn\u001b[0m \u001b[0m_read\u001b[0m\u001b[0;34m(\u001b[0m\u001b[0mfilepath_or_buffer\u001b[0m\u001b[0;34m,\u001b[0m \u001b[0mkwds\u001b[0m\u001b[0;34m)\u001b[0m\u001b[0;34m\u001b[0m\u001b[0;34m\u001b[0m\u001b[0m\n\u001b[0m\u001b[1;32m    677\u001b[0m \u001b[0;34m\u001b[0m\u001b[0m\n\u001b[1;32m    678\u001b[0m     \u001b[0mparser_f\u001b[0m\u001b[0;34m.\u001b[0m\u001b[0m__name__\u001b[0m \u001b[0;34m=\u001b[0m \u001b[0mname\u001b[0m\u001b[0;34m\u001b[0m\u001b[0;34m\u001b[0m\u001b[0m\n",
            "\u001b[0;32m/usr/local/lib/python3.6/dist-packages/pandas/io/parsers.py\u001b[0m in \u001b[0;36m_read\u001b[0;34m(filepath_or_buffer, kwds)\u001b[0m\n\u001b[1;32m    446\u001b[0m \u001b[0;34m\u001b[0m\u001b[0m\n\u001b[1;32m    447\u001b[0m     \u001b[0;31m# Create the parser.\u001b[0m\u001b[0;34m\u001b[0m\u001b[0;34m\u001b[0m\u001b[0;34m\u001b[0m\u001b[0m\n\u001b[0;32m--> 448\u001b[0;31m     \u001b[0mparser\u001b[0m \u001b[0;34m=\u001b[0m \u001b[0mTextFileReader\u001b[0m\u001b[0;34m(\u001b[0m\u001b[0mfp_or_buf\u001b[0m\u001b[0;34m,\u001b[0m \u001b[0;34m**\u001b[0m\u001b[0mkwds\u001b[0m\u001b[0;34m)\u001b[0m\u001b[0;34m\u001b[0m\u001b[0;34m\u001b[0m\u001b[0m\n\u001b[0m\u001b[1;32m    449\u001b[0m \u001b[0;34m\u001b[0m\u001b[0m\n\u001b[1;32m    450\u001b[0m     \u001b[0;32mif\u001b[0m \u001b[0mchunksize\u001b[0m \u001b[0;32mor\u001b[0m \u001b[0miterator\u001b[0m\u001b[0;34m:\u001b[0m\u001b[0;34m\u001b[0m\u001b[0;34m\u001b[0m\u001b[0m\n",
            "\u001b[0;32m/usr/local/lib/python3.6/dist-packages/pandas/io/parsers.py\u001b[0m in \u001b[0;36m__init__\u001b[0;34m(self, f, engine, **kwds)\u001b[0m\n\u001b[1;32m    878\u001b[0m             \u001b[0mself\u001b[0m\u001b[0;34m.\u001b[0m\u001b[0moptions\u001b[0m\u001b[0;34m[\u001b[0m\u001b[0;34m\"has_index_names\"\u001b[0m\u001b[0;34m]\u001b[0m \u001b[0;34m=\u001b[0m \u001b[0mkwds\u001b[0m\u001b[0;34m[\u001b[0m\u001b[0;34m\"has_index_names\"\u001b[0m\u001b[0;34m]\u001b[0m\u001b[0;34m\u001b[0m\u001b[0;34m\u001b[0m\u001b[0m\n\u001b[1;32m    879\u001b[0m \u001b[0;34m\u001b[0m\u001b[0m\n\u001b[0;32m--> 880\u001b[0;31m         \u001b[0mself\u001b[0m\u001b[0;34m.\u001b[0m\u001b[0m_make_engine\u001b[0m\u001b[0;34m(\u001b[0m\u001b[0mself\u001b[0m\u001b[0;34m.\u001b[0m\u001b[0mengine\u001b[0m\u001b[0;34m)\u001b[0m\u001b[0;34m\u001b[0m\u001b[0;34m\u001b[0m\u001b[0m\n\u001b[0m\u001b[1;32m    881\u001b[0m \u001b[0;34m\u001b[0m\u001b[0m\n\u001b[1;32m    882\u001b[0m     \u001b[0;32mdef\u001b[0m \u001b[0mclose\u001b[0m\u001b[0;34m(\u001b[0m\u001b[0mself\u001b[0m\u001b[0;34m)\u001b[0m\u001b[0;34m:\u001b[0m\u001b[0;34m\u001b[0m\u001b[0;34m\u001b[0m\u001b[0m\n",
            "\u001b[0;32m/usr/local/lib/python3.6/dist-packages/pandas/io/parsers.py\u001b[0m in \u001b[0;36m_make_engine\u001b[0;34m(self, engine)\u001b[0m\n\u001b[1;32m   1112\u001b[0m     \u001b[0;32mdef\u001b[0m \u001b[0m_make_engine\u001b[0m\u001b[0;34m(\u001b[0m\u001b[0mself\u001b[0m\u001b[0;34m,\u001b[0m \u001b[0mengine\u001b[0m\u001b[0;34m=\u001b[0m\u001b[0;34m\"c\"\u001b[0m\u001b[0;34m)\u001b[0m\u001b[0;34m:\u001b[0m\u001b[0;34m\u001b[0m\u001b[0;34m\u001b[0m\u001b[0m\n\u001b[1;32m   1113\u001b[0m         \u001b[0;32mif\u001b[0m \u001b[0mengine\u001b[0m \u001b[0;34m==\u001b[0m \u001b[0;34m\"c\"\u001b[0m\u001b[0;34m:\u001b[0m\u001b[0;34m\u001b[0m\u001b[0;34m\u001b[0m\u001b[0m\n\u001b[0;32m-> 1114\u001b[0;31m             \u001b[0mself\u001b[0m\u001b[0;34m.\u001b[0m\u001b[0m_engine\u001b[0m \u001b[0;34m=\u001b[0m \u001b[0mCParserWrapper\u001b[0m\u001b[0;34m(\u001b[0m\u001b[0mself\u001b[0m\u001b[0;34m.\u001b[0m\u001b[0mf\u001b[0m\u001b[0;34m,\u001b[0m \u001b[0;34m**\u001b[0m\u001b[0mself\u001b[0m\u001b[0;34m.\u001b[0m\u001b[0moptions\u001b[0m\u001b[0;34m)\u001b[0m\u001b[0;34m\u001b[0m\u001b[0;34m\u001b[0m\u001b[0m\n\u001b[0m\u001b[1;32m   1115\u001b[0m         \u001b[0;32melse\u001b[0m\u001b[0;34m:\u001b[0m\u001b[0;34m\u001b[0m\u001b[0;34m\u001b[0m\u001b[0m\n\u001b[1;32m   1116\u001b[0m             \u001b[0;32mif\u001b[0m \u001b[0mengine\u001b[0m \u001b[0;34m==\u001b[0m \u001b[0;34m\"python\"\u001b[0m\u001b[0;34m:\u001b[0m\u001b[0;34m\u001b[0m\u001b[0;34m\u001b[0m\u001b[0m\n",
            "\u001b[0;32m/usr/local/lib/python3.6/dist-packages/pandas/io/parsers.py\u001b[0m in \u001b[0;36m__init__\u001b[0;34m(self, src, **kwds)\u001b[0m\n\u001b[1;32m   1889\u001b[0m         \u001b[0mkwds\u001b[0m\u001b[0;34m[\u001b[0m\u001b[0;34m\"usecols\"\u001b[0m\u001b[0;34m]\u001b[0m \u001b[0;34m=\u001b[0m \u001b[0mself\u001b[0m\u001b[0;34m.\u001b[0m\u001b[0musecols\u001b[0m\u001b[0;34m\u001b[0m\u001b[0;34m\u001b[0m\u001b[0m\n\u001b[1;32m   1890\u001b[0m \u001b[0;34m\u001b[0m\u001b[0m\n\u001b[0;32m-> 1891\u001b[0;31m         \u001b[0mself\u001b[0m\u001b[0;34m.\u001b[0m\u001b[0m_reader\u001b[0m \u001b[0;34m=\u001b[0m \u001b[0mparsers\u001b[0m\u001b[0;34m.\u001b[0m\u001b[0mTextReader\u001b[0m\u001b[0;34m(\u001b[0m\u001b[0msrc\u001b[0m\u001b[0;34m,\u001b[0m \u001b[0;34m**\u001b[0m\u001b[0mkwds\u001b[0m\u001b[0;34m)\u001b[0m\u001b[0;34m\u001b[0m\u001b[0;34m\u001b[0m\u001b[0m\n\u001b[0m\u001b[1;32m   1892\u001b[0m         \u001b[0mself\u001b[0m\u001b[0;34m.\u001b[0m\u001b[0munnamed_cols\u001b[0m \u001b[0;34m=\u001b[0m \u001b[0mself\u001b[0m\u001b[0;34m.\u001b[0m\u001b[0m_reader\u001b[0m\u001b[0;34m.\u001b[0m\u001b[0munnamed_cols\u001b[0m\u001b[0;34m\u001b[0m\u001b[0;34m\u001b[0m\u001b[0m\n\u001b[1;32m   1893\u001b[0m \u001b[0;34m\u001b[0m\u001b[0m\n",
            "\u001b[0;32mpandas/_libs/parsers.pyx\u001b[0m in \u001b[0;36mpandas._libs.parsers.TextReader.__cinit__\u001b[0;34m()\u001b[0m\n",
            "\u001b[0;32mpandas/_libs/parsers.pyx\u001b[0m in \u001b[0;36mpandas._libs.parsers.TextReader._setup_parser_source\u001b[0;34m()\u001b[0m\n",
            "\u001b[0;31mFileNotFoundError\u001b[0m: [Errno 2] File /content/drive/My Drive/Uni/MMC/4. semester/CDA/data/DPC_speeches_processed.csv does not exist: '/content/drive/My Drive/Uni/MMC/4. semester/CDA/data/DPC_speeches_processed.csv'"
          ]
        }
      ]
    },
    {
      "cell_type": "code",
      "metadata": {
        "id": "9ag3URKK-Ig8",
        "colab_type": "code",
        "outputId": "377fdcc5-e99e-4067-8760-32a0b7764549",
        "colab": {
          "base_uri": "https://localhost:8080/",
          "height": 164
        }
      },
      "source": [
        "df_m.head()"
      ],
      "execution_count": 0,
      "outputs": [
        {
          "output_type": "error",
          "ename": "NameError",
          "evalue": "ignored",
          "traceback": [
            "\u001b[0;31m---------------------------------------------------------------------------\u001b[0m",
            "\u001b[0;31mNameError\u001b[0m                                 Traceback (most recent call last)",
            "\u001b[0;32m<ipython-input-6-5f6d5707d8dd>\u001b[0m in \u001b[0;36m<module>\u001b[0;34m()\u001b[0m\n\u001b[0;32m----> 1\u001b[0;31m \u001b[0mdf_m\u001b[0m\u001b[0;34m.\u001b[0m\u001b[0mhead\u001b[0m\u001b[0;34m(\u001b[0m\u001b[0;34m)\u001b[0m\u001b[0;34m\u001b[0m\u001b[0;34m\u001b[0m\u001b[0m\n\u001b[0m",
            "\u001b[0;31mNameError\u001b[0m: name 'df_m' is not defined"
          ]
        }
      ]
    },
    {
      "cell_type": "code",
      "metadata": {
        "id": "-fQo1lBw-Sjs",
        "colab_type": "code",
        "outputId": "72b31f95-6d5d-4aec-dcb0-1fbd9ab3247a",
        "colab": {
          "base_uri": "https://localhost:8080/",
          "height": 181
        }
      },
      "source": [
        "import ast\n",
        "df_m['T_Tekst_stopw_stem'] = df_m['T_Tekst_stopw_stem'].apply(lambda x: ast.literal_eval(x))"
      ],
      "execution_count": 0,
      "outputs": [
        {
          "output_type": "error",
          "ename": "NameError",
          "evalue": "ignored",
          "traceback": [
            "\u001b[0;31m---------------------------------------------------------------------------\u001b[0m",
            "\u001b[0;31mNameError\u001b[0m                                 Traceback (most recent call last)",
            "\u001b[0;32m<ipython-input-7-914ff2669c9a>\u001b[0m in \u001b[0;36m<module>\u001b[0;34m()\u001b[0m\n\u001b[1;32m      1\u001b[0m \u001b[0;32mimport\u001b[0m \u001b[0mast\u001b[0m\u001b[0;34m\u001b[0m\u001b[0;34m\u001b[0m\u001b[0m\n\u001b[0;32m----> 2\u001b[0;31m \u001b[0mdf_m\u001b[0m\u001b[0;34m[\u001b[0m\u001b[0;34m'T_Tekst_stopw_stem'\u001b[0m\u001b[0;34m]\u001b[0m \u001b[0;34m=\u001b[0m \u001b[0mdf_m\u001b[0m\u001b[0;34m[\u001b[0m\u001b[0;34m'T_Tekst_stopw_stem'\u001b[0m\u001b[0;34m]\u001b[0m\u001b[0;34m.\u001b[0m\u001b[0mapply\u001b[0m\u001b[0;34m(\u001b[0m\u001b[0;32mlambda\u001b[0m \u001b[0mx\u001b[0m\u001b[0;34m:\u001b[0m \u001b[0mast\u001b[0m\u001b[0;34m.\u001b[0m\u001b[0mliteral_eval\u001b[0m\u001b[0;34m(\u001b[0m\u001b[0mx\u001b[0m\u001b[0;34m)\u001b[0m\u001b[0;34m)\u001b[0m\u001b[0;34m\u001b[0m\u001b[0;34m\u001b[0m\u001b[0m\n\u001b[0m",
            "\u001b[0;31mNameError\u001b[0m: name 'df_m' is not defined"
          ]
        }
      ]
    },
    {
      "cell_type": "code",
      "metadata": {
        "id": "4eT_DdhpANUz",
        "colab_type": "code",
        "outputId": "7cf85647-be19-43b3-f61b-c258a80de57a",
        "colab": {
          "base_uri": "https://localhost:8080/",
          "height": 34
        }
      },
      "source": [
        "df_m.shape"
      ],
      "execution_count": 0,
      "outputs": [
        {
          "output_type": "execute_result",
          "data": {
            "text/plain": [
              "(114013, 11)"
            ]
          },
          "metadata": {
            "tags": []
          },
          "execution_count": 14
        }
      ]
    },
    {
      "cell_type": "code",
      "metadata": {
        "id": "mBTZvReXASId",
        "colab_type": "code",
        "outputId": "4e192e6d-59f7-4095-811d-f0939dc57a2e",
        "colab": {
          "base_uri": "https://localhost:8080/",
          "height": 34
        }
      },
      "source": [
        "cut = int(np.round(df_m.shape[0]/2))\n",
        "df_m_sub = df_m.iloc[:cut,:]\n",
        "df_m_sub.shape"
      ],
      "execution_count": 0,
      "outputs": [
        {
          "output_type": "execute_result",
          "data": {
            "text/plain": [
              "(57006, 11)"
            ]
          },
          "metadata": {
            "tags": []
          },
          "execution_count": 17
        }
      ]
    },
    {
      "cell_type": "code",
      "metadata": {
        "id": "TcwgCRiy9QZA",
        "colab_type": "code",
        "outputId": "c5991757-95b3-4d0d-c051-8f9f4b29bc6c",
        "colab": {
          "base_uri": "https://localhost:8080/",
          "height": 748
        }
      },
      "source": [
        "if transfer_words == True:\n",
        "    train_x = df_m_sub \n",
        "    \n",
        "    lan_model = get_model()\n",
        "    \n",
        "    #train_x_l = []\n",
        "    #for i in range(len(train_x)):\n",
        "    #    train_x_l.append([[w.lower() for w in line] for line in train_x[i]])\n",
        "\n",
        "    train_x_l_em = []\n",
        "    for i in range(len(train_x)):\n",
        "        train_x_l_em.append([[word2vec(w) for w in line] for line in train_x.iloc[i,-1]])\n",
        "        if i%1000==0:\n",
        "          print(i)\n",
        "        \n",
        "    x_train = train_x_l_em"
      ],
      "execution_count": 0,
      "outputs": [
        {
          "output_type": "stream",
          "text": [
            "0\n",
            "1000\n",
            "2000\n",
            "3000\n",
            "4000\n",
            "5000\n",
            "6000\n",
            "7000\n",
            "8000\n",
            "9000\n",
            "10000\n",
            "11000\n",
            "12000\n",
            "13000\n",
            "14000\n",
            "15000\n",
            "16000\n",
            "17000\n",
            "18000\n",
            "19000\n",
            "20000\n",
            "21000\n",
            "22000\n",
            "23000\n",
            "24000\n",
            "25000\n",
            "26000\n",
            "27000\n",
            "28000\n",
            "29000\n",
            "30000\n",
            "31000\n",
            "32000\n",
            "33000\n",
            "34000\n",
            "35000\n",
            "36000\n",
            "37000\n",
            "38000\n",
            "39000\n",
            "40000\n",
            "41000\n",
            "42000\n"
          ],
          "name": "stdout"
        }
      ]
    },
    {
      "cell_type": "code",
      "metadata": {
        "id": "1YjTk7lg_pWB",
        "colab_type": "code",
        "colab": {}
      },
      "source": [
        "#x_train[0]#[1][0])"
      ],
      "execution_count": 0,
      "outputs": []
    },
    {
      "cell_type": "code",
      "metadata": {
        "id": "MqWs9voqCujU",
        "colab_type": "code",
        "colab": {}
      },
      "source": [
        "#x_train[document][word][0][0].shape\n",
        "x_train[2][1][0][0].shape"
      ],
      "execution_count": 0,
      "outputs": []
    },
    {
      "cell_type": "code",
      "metadata": {
        "id": "Td64U7sUEkKY",
        "colab_type": "code",
        "colab": {}
      },
      "source": [
        "with open('/content/drive/My Drive/Uni/MMC/4. semester/CDA/data/word2vec.pkl', 'wb') as f:\n",
        "    pickle.dump(x_train, f)"
      ],
      "execution_count": 0,
      "outputs": []
    },
    {
      "cell_type": "code",
      "metadata": {
        "id": "dXnhsFu9Fswf",
        "colab_type": "code",
        "colab": {}
      },
      "source": [
        ""
      ],
      "execution_count": 0,
      "outputs": []
    }
  ]
}