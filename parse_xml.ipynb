{
 "cells": [
  {
   "cell_type": "markdown",
   "metadata": {},
   "source": [
    "# Parsing of XML"
   ]
  },
  {
   "cell_type": "code",
   "execution_count": 1,
   "metadata": {},
   "outputs": [],
   "source": [
    "import xml.etree.ElementTree as ET\n",
    "import glob\n",
    "import pandas as pd"
   ]
  },
  {
   "cell_type": "markdown",
   "metadata": {},
   "source": [
    "## Exploring xml (https://www.datacamp.com/community/tutorials/python-xml-elementtree)"
   ]
  },
  {
   "cell_type": "code",
   "execution_count": 2,
   "metadata": {},
   "outputs": [],
   "source": [
    "#loading the XML trees\n",
    "#tree = ET.parse('../data/EdixiXMLExport_20161.xml')\n",
    "tree = ET.parse('../data/EdixiXMLExport_20091.xml')"
   ]
  },
  {
   "cell_type": "code",
   "execution_count": 3,
   "metadata": {},
   "outputs": [],
   "source": [
    "#defining the root\n",
    "root = tree.getroot()"
   ]
  },
  {
   "cell_type": "code",
   "execution_count": 4,
   "metadata": {},
   "outputs": [
    {
     "data": {
      "text/plain": [
       "'EdixiData'"
      ]
     },
     "execution_count": 4,
     "metadata": {},
     "output_type": "execute_result"
    }
   ],
   "source": [
    "#checking root\n",
    "root.tag"
   ]
  },
  {
   "cell_type": "code",
   "execution_count": 5,
   "metadata": {
    "scrolled": true
   },
   "outputs": [],
   "source": [
    "#defining all emelemts that are following down through the tree, from the root. \n",
    "all_elements = [elem.tag for elem in root.iter()]"
   ]
  },
  {
   "cell_type": "code",
   "execution_count": 6,
   "metadata": {},
   "outputs": [],
   "source": [
    "#the elements are in a list from here\n",
    "#all_elements"
   ]
  },
  {
   "cell_type": "markdown",
   "metadata": {},
   "source": [
    "It is obvious that the list of elements follows a structure. All of the values will have to be imputed into a pandas at some point, hence as MVP just impute what might seems to be the easiest. "
   ]
  },
  {
   "cell_type": "code",
   "execution_count": 7,
   "metadata": {},
   "outputs": [],
   "source": [
    "#looking at the first 6 elements in the tree (they will quickly become the same, as some of the elements are the same)\n",
    "#uncomment print-statements to see \n",
    "for element in all_elements:\n",
    "    #print(\"\\n\",element)\n",
    "    for i, obj in enumerate(root.iter(element)):\n",
    "        #print(obj.text)\n",
    "        if i==5:\n",
    "            break"
   ]
  },
  {
   "cell_type": "code",
   "execution_count": 8,
   "metadata": {},
   "outputs": [],
   "source": [
    "#checking the different names (uncomment to see)\n",
    "#for meeting in root.iter('Navn'):\n",
    "#    print(meeting.text)"
   ]
  },
  {
   "cell_type": "markdown",
   "metadata": {},
   "source": [
    "#### It is obvious how to get the different things out --> this is made into a pandas, where every row holds the different arrtibutes for a given speech\n",
    "\n",
    "The idea is, that I am taking out all the important things for each speech by the following attributes:\n",
    "- 'Tale'\n",
    "- 'Starttid'\n",
    "- 'Sluttid'\n",
    "- 'Navn'\n",
    "- 'Rolle'\n",
    "- 'Tekst'\n",
    "\n",
    "The above mentioned are all attributes that are specific for every single speech, and will therefore be the easiest to process. All functions are build-up in order to process all XML files at once. "
   ]
  },
  {
   "cell_type": "markdown",
   "metadata": {},
   "source": [
    "## Helper functions"
   ]
  },
  {
   "cell_type": "code",
   "execution_count": 9,
   "metadata": {},
   "outputs": [],
   "source": [
    "def xml_root(xml_name):\n",
    "    \"\"\"\n",
    "    input\n",
    "        xml_name: the path of the xml file that I want to read\n",
    "        \n",
    "    output\n",
    "        root: the root of the file\n",
    "    \"\"\"\n",
    "    #defining tree\n",
    "    tree = ET.parse(xml_name)\n",
    "    #defining the root\n",
    "    root = tree.getroot()\n",
    "    \n",
    "    return root"
   ]
  },
  {
   "cell_type": "code",
   "execution_count": 1,
   "metadata": {},
   "outputs": [],
   "source": [
    "def iter_element(root, name_of_element):\n",
    "    \"\"\"\n",
    "    envoked in xml_to_pandas-function\n",
    "    \n",
    "    input\n",
    "        root: the root of the XML file\n",
    "        name_of_element: the element that is wanted from the root, e.g. \"Tekst\" from one of the speeches. \n",
    "        \n",
    "    output\n",
    "        emp_list: a list containing all the individual items from the wanted elements, e.g. all the speeches from the\n",
    "                  \"Tekst\" element. \n",
    "    \"\"\"\n",
    "    \n",
    "    #defining an empty list\n",
    "    emp_list = []\n",
    "    \n",
    "    #looping through all the elements of \"name_of_element\"\n",
    "    for el in root.iter(name_of_element):\n",
    "        var = str(el.text)\n",
    "        \n",
    "        #if the variable is empty, it is defined like that\n",
    "        if var == \"\":\n",
    "            var = 'empty'\n",
    "        \n",
    "        #appended to list\n",
    "        emp_list.append(var)\n",
    "        \n",
    "    return emp_list"
   ]
  },
  {
   "cell_type": "code",
   "execution_count": 34,
   "metadata": {},
   "outputs": [],
   "source": [
    "def xml_to_pandas(xml_root, cols):\n",
    "    \"\"\"\n",
    "    input\n",
    "        xml_root: the root of the XML-file\n",
    "        \n",
    "    output\n",
    "        lists_: a list of lists, containing all the individual items from the wanted elements in \"columns\". \n",
    "        df: a dataframe where all the values are inserted. \n",
    "    \"\"\"\n",
    "    \n",
    "    #defining the different elements that is interesting from the XML-file (which are also the columns in df)\n",
    "    columns = cols\n",
    "    \n",
    "    #defining empty df\n",
    "    df = pd.DataFrame(columns = columns)\n",
    "    \n",
    "    #making an empty list of lists where all the lists from `iter_element` function outputs are appended\n",
    "    lists_ = []\n",
    "    for element in columns:\n",
    "        element_list = iter_element(xml_root, element)\n",
    "        lists_.append(element_list)\n",
    "    \n",
    "    \n",
    "    #adding all lists to df\n",
    "    for i in range(len(columns)):\n",
    "        df[columns[i]] = pd.Series(lists_[i])\n",
    "    \n",
    "    return lists_ , df"
   ]
  },
  {
   "cell_type": "markdown",
   "metadata": {},
   "source": [
    "## Using functions"
   ]
  },
  {
   "cell_type": "markdown",
   "metadata": {},
   "source": [
    "First, all the file names are defined, so that we can loop through the files and process it. "
   ]
  },
  {
   "cell_type": "code",
   "execution_count": 35,
   "metadata": {},
   "outputs": [],
   "source": [
    "#reading all files\n",
    "xml_files = glob.glob('../data/*.xml')"
   ]
  },
  {
   "cell_type": "code",
   "execution_count": 50,
   "metadata": {},
   "outputs": [
    {
     "data": {
      "text/plain": [
       "['../data/EdixiXMLExport_20102.xml',\n",
       " '../data/EdixiXMLExport_20101.xml',\n",
       " '../data/EdixiXMLExport_20111.xml',\n",
       " '../data/EdixiXMLExport_20161.xml',\n",
       " '../data/EdixiXMLExport_20141.xml',\n",
       " '../data/EdixiXMLExport_20142.xml',\n",
       " '../data/EdixiXMLExport_20151.xml',\n",
       " '../data/EdixiXMLExport_20121.xml',\n",
       " '../data/EdixiXMLExport_20131.xml',\n",
       " '../data/EdixiXMLExport_20091.xml']"
      ]
     },
     "execution_count": 50,
     "metadata": {},
     "output_type": "execute_result"
    }
   ],
   "source": [
    "xml_files"
   ]
  },
  {
   "cell_type": "code",
   "execution_count": 48,
   "metadata": {},
   "outputs": [
    {
     "name": "stdout",
     "output_type": "stream",
     "text": [
      "../data/EdixiXMLExport_20161.xml is not OK. The lengths of the lists are:\n",
      "48687\n",
      "48687\n",
      "48687\n",
      "48687\n",
      "48687\n",
      "47420\n",
      "../data/EdixiXMLExport_20141.xml is not OK. The lengths of the lists are:\n",
      "36348\n",
      "36348\n",
      "36347\n",
      "36348\n",
      "36348\n",
      "36348\n",
      "../data/EdixiXMLExport_20151.xml is not OK. The lengths of the lists are:\n",
      "58882\n",
      "58882\n",
      "58881\n",
      "58882\n",
      "58882\n",
      "58881\n"
     ]
    }
   ],
   "source": [
    "#defining the different elements that is interesting from the XML-file (which are also the columns in df)\n",
    "columns = ['Tale','Starttid','Sluttid','Navn','Rolle','Tekst']\n",
    "\n",
    "#defining empty df\n",
    "df = pd.DataFrame(columns = columns)\n",
    "    \n",
    "for i, file in enumerate(xml_files):\n",
    "    #getting the root\n",
    "    root = xml_root(file)\n",
    "    \n",
    "    #making the root into a pandas and its lists\n",
    "    lists, df_ = xml_to_pandas(root , columns)\n",
    "    \n",
    "    #checking that lists are OK and appending to master df IF OK\n",
    "    if len(set(map(len, lists))) < 2:\n",
    "        df = df.append(df_)\n",
    "    \n",
    "    #printing info if not ok\n",
    "    else:\n",
    "        print(file,'is not OK. The lengths of the lists are:')\n",
    "        for j in range(len(lists)):\n",
    "            print(len(lists[j]))"
   ]
  },
  {
   "cell_type": "code",
   "execution_count": 53,
   "metadata": {},
   "outputs": [
    {
     "name": "stdout",
     "output_type": "stream",
     "text": [
      "236966\n",
      "236966\n"
     ]
    }
   ],
   "source": [
    "#checking that there are no nan's in the df:\n",
    "print(len(df))\n",
    "df = df.dropna()\n",
    "print(len(df))"
   ]
  },
  {
   "cell_type": "markdown",
   "metadata": {},
   "source": [
    "So, to conclude, there are now ~235k different speeches from the Danish Parliament Corpus which are ready to be analyzed. The dataset is written to a csv, just to ensure that this process is not needed every time. "
   ]
  },
  {
   "cell_type": "code",
   "execution_count": 54,
   "metadata": {},
   "outputs": [],
   "source": [
    "df.to_csv('../data/DPC_speeches.csv')"
   ]
  },
  {
   "cell_type": "markdown",
   "metadata": {},
   "source": [
    "#### There is a mistake in the XML for 2016 (EdixiXMLExport_20161)... \n",
    "\n",
    "To prove this load the file and run until here and check the tail. They are not addressing the right people in the end. "
   ]
  },
  {
   "cell_type": "code",
   "execution_count": null,
   "metadata": {},
   "outputs": [],
   "source": [
    "#read the root for 2016\n",
    "lists_ , df = xml_to_pandas(root)"
   ]
  },
  {
   "cell_type": "code",
   "execution_count": null,
   "metadata": {},
   "outputs": [],
   "source": [
    "#checking whether all the numbers are the same\n",
    "for i in range(len(lists_)):\n",
    "    print(len(lists_[i]))"
   ]
  },
  {
   "cell_type": "code",
   "execution_count": null,
   "metadata": {},
   "outputs": [],
   "source": [
    "k= 5675"
   ]
  },
  {
   "cell_type": "code",
   "execution_count": null,
   "metadata": {},
   "outputs": [],
   "source": [
    "#df.iloc[k:k+50]\n",
    "df.tail(50)"
   ]
  },
  {
   "cell_type": "markdown",
   "metadata": {},
   "source": [
    "#### Checks:"
   ]
  },
  {
   "cell_type": "code",
   "execution_count": null,
   "metadata": {},
   "outputs": [],
   "source": [
    "#in line 38 Thomas Danielsen is talking, so check if his name is mentioned in the line before\n",
    "df.iloc[37,5]"
   ]
  },
  {
   "cell_type": "code",
   "execution_count": null,
   "metadata": {
    "scrolled": true
   },
   "outputs": [],
   "source": [
    "#in line 40 Henning Hyllested is talking, so check if his name is mentioned in the line before\n",
    "df.iloc[39,5]"
   ]
  },
  {
   "cell_type": "code",
   "execution_count": null,
   "metadata": {},
   "outputs": [],
   "source": [
    "df.iloc[43,5]"
   ]
  },
  {
   "cell_type": "markdown",
   "metadata": {},
   "source": [
    "All good until line 50. "
   ]
  },
  {
   "cell_type": "code",
   "execution_count": null,
   "metadata": {},
   "outputs": [],
   "source": [
    "#it fucks up around here...\n",
    "df.iloc[5688,5]"
   ]
  }
 ],
 "metadata": {
  "kernelspec": {
   "display_name": "Python 3",
   "language": "python",
   "name": "python3"
  },
  "language_info": {
   "codemirror_mode": {
    "name": "ipython",
    "version": 3
   },
   "file_extension": ".py",
   "mimetype": "text/x-python",
   "name": "python",
   "nbconvert_exporter": "python",
   "pygments_lexer": "ipython3",
   "version": "3.7.6"
  }
 },
 "nbformat": 4,
 "nbformat_minor": 2
}
