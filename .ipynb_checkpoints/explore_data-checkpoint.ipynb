{
 "cells": [
  {
   "cell_type": "code",
   "execution_count": 1,
   "metadata": {},
   "outputs": [],
   "source": [
    "import pandas as pd"
   ]
  },
  {
   "cell_type": "code",
   "execution_count": 8,
   "metadata": {},
   "outputs": [],
   "source": [
    "#reading the data and resetting index\n",
    "df = pd.read_csv('../data/DPC_speeches.csv')\n",
    "df = df.reset_index().iloc[:,2:]"
   ]
  },
  {
   "cell_type": "code",
   "execution_count": 10,
   "metadata": {},
   "outputs": [
    {
     "data": {
      "text/html": [
       "<div>\n",
       "<style scoped>\n",
       "    .dataframe tbody tr th:only-of-type {\n",
       "        vertical-align: middle;\n",
       "    }\n",
       "\n",
       "    .dataframe tbody tr th {\n",
       "        vertical-align: top;\n",
       "    }\n",
       "\n",
       "    .dataframe thead th {\n",
       "        text-align: right;\n",
       "    }\n",
       "</style>\n",
       "<table border=\"1\" class=\"dataframe\">\n",
       "  <thead>\n",
       "    <tr style=\"text-align: right;\">\n",
       "      <th></th>\n",
       "      <th>Tale</th>\n",
       "      <th>Starttid</th>\n",
       "      <th>Sluttid</th>\n",
       "      <th>Navn</th>\n",
       "      <th>Rolle</th>\n",
       "      <th>Tekst</th>\n",
       "    </tr>\n",
       "  </thead>\n",
       "  <tbody>\n",
       "    <tr>\n",
       "      <th>0</th>\n",
       "      <td>None</td>\n",
       "      <td>2011-09-30T13:00:16.860</td>\n",
       "      <td>2011-09-30T13:00:28.140</td>\n",
       "      <td>None</td>\n",
       "      <td>midlertidig formand</td>\n",
       "      <td>Mødet er åbnet.</td>\n",
       "    </tr>\n",
       "    <tr>\n",
       "      <th>1</th>\n",
       "      <td>None</td>\n",
       "      <td>2011-09-30T13:55:01.640</td>\n",
       "      <td>2011-09-30T13:55:12.063</td>\n",
       "      <td>None</td>\n",
       "      <td>midlertidig formand</td>\n",
       "      <td>Så er mødet genoptaget.</td>\n",
       "    </tr>\n",
       "    <tr>\n",
       "      <th>2</th>\n",
       "      <td>None</td>\n",
       "      <td>2011-09-30T13:59:37.437</td>\n",
       "      <td>2011-09-30T13:59:56.640</td>\n",
       "      <td>None</td>\n",
       "      <td>formand</td>\n",
       "      <td>Der er ikke mere at foretage i dette møde.Folk...</td>\n",
       "    </tr>\n",
       "    <tr>\n",
       "      <th>3</th>\n",
       "      <td>None</td>\n",
       "      <td>2011-09-30T13:00:28.140</td>\n",
       "      <td>2011-09-30T13:00:52.110</td>\n",
       "      <td>None</td>\n",
       "      <td>midlertidig formand</td>\n",
       "      <td>Forhandlingen er åbnet. Fru Karen Klint.</td>\n",
       "    </tr>\n",
       "    <tr>\n",
       "      <th>4</th>\n",
       "      <td>None</td>\n",
       "      <td>2011-09-30T13:00:52.110</td>\n",
       "      <td>2011-09-30T13:05:42.060</td>\n",
       "      <td>Karen J. Klint</td>\n",
       "      <td>medlem</td>\n",
       "      <td>Tak for det. Det er jo dejligt at se så fyldt ...</td>\n",
       "    </tr>\n",
       "  </tbody>\n",
       "</table>\n",
       "</div>"
      ],
      "text/plain": [
       "   Tale                 Starttid                  Sluttid            Navn  \\\n",
       "0  None  2011-09-30T13:00:16.860  2011-09-30T13:00:28.140            None   \n",
       "1  None  2011-09-30T13:55:01.640  2011-09-30T13:55:12.063            None   \n",
       "2  None  2011-09-30T13:59:37.437  2011-09-30T13:59:56.640            None   \n",
       "3  None  2011-09-30T13:00:28.140  2011-09-30T13:00:52.110            None   \n",
       "4  None  2011-09-30T13:00:52.110  2011-09-30T13:05:42.060  Karen J. Klint   \n",
       "\n",
       "                 Rolle                                              Tekst  \n",
       "0  midlertidig formand                                    Mødet er åbnet.  \n",
       "1  midlertidig formand                            Så er mødet genoptaget.  \n",
       "2              formand  Der er ikke mere at foretage i dette møde.Folk...  \n",
       "3  midlertidig formand           Forhandlingen er åbnet. Fru Karen Klint.  \n",
       "4               medlem  Tak for det. Det er jo dejligt at se så fyldt ...  "
      ]
     },
     "execution_count": 10,
     "metadata": {},
     "output_type": "execute_result"
    }
   ],
   "source": [
    "#looking at the data\n",
    "df.head()"
   ]
  },
  {
   "cell_type": "code",
   "execution_count": 14,
   "metadata": {},
   "outputs": [
    {
     "data": {
      "text/plain": [
       "array(['None'], dtype=object)"
      ]
     },
     "execution_count": 14,
     "metadata": {},
     "output_type": "execute_result"
    }
   ],
   "source": [
    "#checking whether \"Tale\" is always None\n",
    "df.Tale.unique()"
   ]
  },
  {
   "cell_type": "code",
   "execution_count": 16,
   "metadata": {},
   "outputs": [],
   "source": [
    "#excluding \"Tale\"\n",
    "df = df[['Starttid', 'Sluttid', 'Navn', 'Rolle', 'Tekst']]"
   ]
  },
  {
   "cell_type": "code",
   "execution_count": 18,
   "metadata": {},
   "outputs": [
    {
     "data": {
      "text/html": [
       "<div>\n",
       "<style scoped>\n",
       "    .dataframe tbody tr th:only-of-type {\n",
       "        vertical-align: middle;\n",
       "    }\n",
       "\n",
       "    .dataframe tbody tr th {\n",
       "        vertical-align: top;\n",
       "    }\n",
       "\n",
       "    .dataframe thead th {\n",
       "        text-align: right;\n",
       "    }\n",
       "</style>\n",
       "<table border=\"1\" class=\"dataframe\">\n",
       "  <thead>\n",
       "    <tr style=\"text-align: right;\">\n",
       "      <th></th>\n",
       "      <th>Starttid</th>\n",
       "      <th>Sluttid</th>\n",
       "      <th>Navn</th>\n",
       "      <th>Rolle</th>\n",
       "      <th>Tekst</th>\n",
       "    </tr>\n",
       "  </thead>\n",
       "  <tbody>\n",
       "    <tr>\n",
       "      <th>0</th>\n",
       "      <td>2011-09-30T13:00:16.860</td>\n",
       "      <td>2011-09-30T13:00:28.140</td>\n",
       "      <td>None</td>\n",
       "      <td>midlertidig formand</td>\n",
       "      <td>Mødet er åbnet.</td>\n",
       "    </tr>\n",
       "  </tbody>\n",
       "</table>\n",
       "</div>"
      ],
      "text/plain": [
       "                  Starttid                  Sluttid  Navn  \\\n",
       "0  2011-09-30T13:00:16.860  2011-09-30T13:00:28.140  None   \n",
       "\n",
       "                 Rolle            Tekst  \n",
       "0  midlertidig formand  Mødet er åbnet.  "
      ]
     },
     "execution_count": 18,
     "metadata": {},
     "output_type": "execute_result"
    }
   ],
   "source": [
    "df.head(1)"
   ]
  },
  {
   "cell_type": "code",
   "execution_count": 13,
   "metadata": {},
   "outputs": [
    {
     "data": {
      "text/plain": [
       "str"
      ]
     },
     "execution_count": 13,
     "metadata": {},
     "output_type": "execute_result"
    }
   ],
   "source": [
    "#checking type of the start and end-time\n",
    "type(df.iloc[0,1])"
   ]
  },
  {
   "cell_type": "code",
   "execution_count": 20,
   "metadata": {},
   "outputs": [
    {
     "data": {
      "text/html": [
       "<div>\n",
       "<style scoped>\n",
       "    .dataframe tbody tr th:only-of-type {\n",
       "        vertical-align: middle;\n",
       "    }\n",
       "\n",
       "    .dataframe tbody tr th {\n",
       "        vertical-align: top;\n",
       "    }\n",
       "\n",
       "    .dataframe thead th {\n",
       "        text-align: right;\n",
       "    }\n",
       "</style>\n",
       "<table border=\"1\" class=\"dataframe\">\n",
       "  <thead>\n",
       "    <tr style=\"text-align: right;\">\n",
       "      <th></th>\n",
       "      <th>Starttid</th>\n",
       "      <th>Sluttid</th>\n",
       "      <th>Navn</th>\n",
       "      <th>Rolle</th>\n",
       "      <th>Tekst</th>\n",
       "    </tr>\n",
       "  </thead>\n",
       "  <tbody>\n",
       "    <tr>\n",
       "      <th>count</th>\n",
       "      <td>236966</td>\n",
       "      <td>236966</td>\n",
       "      <td>236966</td>\n",
       "      <td>236966</td>\n",
       "      <td>236966</td>\n",
       "    </tr>\n",
       "    <tr>\n",
       "      <th>unique</th>\n",
       "      <td>236966</td>\n",
       "      <td>236958</td>\n",
       "      <td>318</td>\n",
       "      <td>6</td>\n",
       "      <td>152763</td>\n",
       "    </tr>\n",
       "    <tr>\n",
       "      <th>top</th>\n",
       "      <td>2012-05-31T10:04:55.200</td>\n",
       "      <td>2009-10-21T14:20:29.493</td>\n",
       "      <td>None</td>\n",
       "      <td>formand</td>\n",
       "      <td>Ordføreren.</td>\n",
       "    </tr>\n",
       "    <tr>\n",
       "      <th>freq</th>\n",
       "      <td>1</td>\n",
       "      <td>2</td>\n",
       "      <td>43200</td>\n",
       "      <td>122597</td>\n",
       "      <td>22926</td>\n",
       "    </tr>\n",
       "  </tbody>\n",
       "</table>\n",
       "</div>"
      ],
      "text/plain": [
       "                       Starttid                  Sluttid    Navn    Rolle  \\\n",
       "count                    236966                   236966  236966   236966   \n",
       "unique                   236966                   236958     318        6   \n",
       "top     2012-05-31T10:04:55.200  2009-10-21T14:20:29.493    None  formand   \n",
       "freq                          1                        2   43200   122597   \n",
       "\n",
       "              Tekst  \n",
       "count        236966  \n",
       "unique       152763  \n",
       "top     Ordføreren.  \n",
       "freq          22926  "
      ]
     },
     "execution_count": 20,
     "metadata": {},
     "output_type": "execute_result"
    }
   ],
   "source": [
    "df.describe()"
   ]
  },
  {
   "cell_type": "code",
   "execution_count": 21,
   "metadata": {},
   "outputs": [
    {
     "data": {
      "text/plain": [
       "Starttid    object\n",
       "Sluttid     object\n",
       "Navn        object\n",
       "Rolle       object\n",
       "Tekst       object\n",
       "dtype: object"
      ]
     },
     "execution_count": 21,
     "metadata": {},
     "output_type": "execute_result"
    }
   ],
   "source": [
    "df.dtypes"
   ]
  },
  {
   "cell_type": "code",
   "execution_count": null,
   "metadata": {},
   "outputs": [],
   "source": []
  }
 ],
 "metadata": {
  "kernelspec": {
   "display_name": "Python 3",
   "language": "python",
   "name": "python3"
  },
  "language_info": {
   "codemirror_mode": {
    "name": "ipython",
    "version": 3
   },
   "file_extension": ".py",
   "mimetype": "text/x-python",
   "name": "python",
   "nbconvert_exporter": "python",
   "pygments_lexer": "ipython3",
   "version": "3.7.3"
  }
 },
 "nbformat": 4,
 "nbformat_minor": 2
}
